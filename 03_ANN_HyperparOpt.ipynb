{
 "cells": [
  {
   "cell_type": "markdown",
   "metadata": {
    "id": "bGWAYMCXfqFm"
   },
   "source": [
    "# ANN Hyperparameter Optimization Trial"
   ]
  },
  {
   "cell_type": "code",
   "execution_count": 2,
   "metadata": {
    "executionInfo": {
     "elapsed": 283,
     "status": "ok",
     "timestamp": 1736936797253,
     "user": {
      "displayName": "yasin sütoğlu",
      "userId": "06911595719741796393"
     },
     "user_tz": -180
    },
    "id": "AjL90kT0RFiK"
   },
   "outputs": [],
   "source": [
    "import keras\n",
    "import tensorflow as tf\n",
    "import time\n",
    "import numpy as np\n",
    "import pandas as pd\n",
    "from joblib import dump, load\n",
    "import random\n",
    "import matplotlib.pyplot as plt\n",
    "from sklearn.preprocessing import StandardScaler\n",
    "from sklearn.model_selection import train_test_split\n",
    "import tensorflow as tf\n",
    "from tensorflow import keras\n",
    "from tensorflow.keras.optimizers import SGD, RMSprop, Adam\n",
    "from tensorflow.keras.models import Sequential, load_model\n",
    "from tensorflow.keras.regularizers import l2\n",
    "from tensorflow.keras.callbacks import EarlyStopping, ModelCheckpoint\n",
    "from tensorflow.keras.layers import Input, Dense, Dropout, BatchNormalization\n",
    "from tensorflow.keras.initializers import RandomNormal, RandomUniform, GlorotUniform, GlorotNormal, HeNormal\n",
    "from keras.optimizers.schedules import ExponentialDecay\n",
    "\n",
    "\n",
    "random.seed(46)\n",
    "np.random.seed(46)\n",
    "tf.random.set_seed(46)"
   ]
  },
  {
   "cell_type": "code",
   "execution_count": 5,
   "metadata": {
    "executionInfo": {
     "elapsed": 446,
     "status": "ok",
     "timestamp": 1736936914375,
     "user": {
      "displayName": "yasin sütoğlu",
      "userId": "06911595719741796393"
     },
     "user_tz": -180
    },
    "id": "JcbuMzjEf21k"
   },
   "outputs": [],
   "source": [
    "# !pip install keras-tuner\n",
    "from keras_tuner import RandomSearch, GridSearch, BayesianOptimization\n",
    "from keras_tuner.engine.hyperparameters import HyperParameters"
   ]
  },
  {
   "cell_type": "markdown",
   "metadata": {
    "id": "3zJfutFNgkZ0"
   },
   "source": [
    "### Functions"
   ]
  },
  {
   "cell_type": "code",
   "execution_count": 6,
   "metadata": {
    "executionInfo": {
     "elapsed": 272,
     "status": "ok",
     "timestamp": 1736937056057,
     "user": {
      "displayName": "yasin sütoğlu",
      "userId": "06911595719741796393"
     },
     "user_tz": -180
    },
    "id": "L7V2XURrgmKu"
   },
   "outputs": [],
   "source": [
    "def preprocess_data(filepath):\n",
    "    data = pd.read_csv(filepath)\n",
    "    scaler = StandardScaler()\n",
    "    X = scaler.fit_transform(data.drop('Outcome', axis=1))\n",
    "    y = data['Outcome'].values\n",
    "    dump(scaler, 'scaler.joblib')\n",
    "    return X, y\n",
    "\n",
    "def prepare_datasets(X_train, X_val, y_train, y_val, batch_size=None):\n",
    "    if batch_size is None:\n",
    "        batch_size = len(X_train)\n",
    "    train_dataset = tf.data.Dataset.from_tensor_slices((X_train, y_train))\n",
    "    train_dataset = train_dataset.shuffle(buffer_size=len(X_train)).batch(batch_size)\n",
    "    val_dataset = tf.data.Dataset.from_tensor_slices((X_val, y_val))\n",
    "    val_dataset = val_dataset.batch(batch_size)\n",
    "    return train_dataset, val_dataset\n",
    "\n",
    "def plot_training_history(history, train_loss='loss', train_metric='accuracy', val_loss='val_loss', val_metric='val_accuracy'):\n",
    "\n",
    "    #Loss\n",
    "    plt.figure(figsize=(10, 5))\n",
    "    plt.plot(history.history[train_loss], label='Training Loss')\n",
    "    plt.plot(history.history[val_loss], label='Validation Loss')\n",
    "    plt.title('Training and Validation Loss Over Epochs')\n",
    "    plt.xlabel('Epochs')\n",
    "    plt.ylabel('Loss')\n",
    "    plt.legend()\n",
    "    plt.show()\n",
    "\n",
    "    # Metrics\n",
    "    plt.figure(figsize=(10, 5))\n",
    "    plt.plot(history.history[train_metric], label=f\"Training: {train_metric}\")\n",
    "    plt.plot(history.history[val_metric], label=f\"Validation: {val_metric}\")\n",
    "    plt.title(f'Training and Validation {train_metric} Over Epochs')\n",
    "    plt.xlabel('Epochs')\n",
    "    plt.ylabel(f'train_metric')\n",
    "    plt.legend()\n",
    "    plt.show()\n",
    "\n",
    "def get_best_epoch_details(history):\n",
    "    val_losses = history.history['val_loss']\n",
    "    min_val_loss_index = val_losses.index(min(val_losses))\n",
    "    best_epoch = min_val_loss_index + 1\n",
    "\n",
    "    epoch_details = {}\n",
    "    for key in history.history.keys():\n",
    "        epoch_details[key] = history.history[key][min_val_loss_index]\n",
    "\n",
    "    epoch_details['best_epoch'] = best_epoch\n",
    "    print(f\"Best epoch details: {epoch_details}\")"
   ]
  },
  {
   "cell_type": "markdown",
   "metadata": {
    "id": "PV2RQ3criOWP"
   },
   "source": [
    "### Data Prep"
   ]
  },
  {
   "cell_type": "code",
   "execution_count": 7,
   "metadata": {
    "executionInfo": {
     "elapsed": 470,
     "status": "ok",
     "timestamp": 1736937384567,
     "user": {
      "displayName": "yasin sütoğlu",
      "userId": "06911595719741796393"
     },
     "user_tz": -180
    },
    "id": "o-YtmJ8JhCR6"
   },
   "outputs": [],
   "source": [
    "X, y = preprocess_data('/content/diabetes.csv')\n",
    "\n",
    "X_train, X_val, y_train, y_val = train_test_split(X, y, test_size=0.2, random_state=42)\n",
    "\n",
    "train_ds, val_ds = prepare_datasets(X_train, X_val, y_train, y_val, batch_size=32)"
   ]
  },
  {
   "cell_type": "markdown",
   "metadata": {
    "id": "X0AoPkWNiWcJ"
   },
   "source": [
    "### Base Model\n",
    "* The main model we might want to look back during hyperparameter optimization process."
   ]
  },
  {
   "cell_type": "code",
   "execution_count": 8,
   "metadata": {
    "colab": {
     "base_uri": "https://localhost:8080/"
    },
    "executionInfo": {
     "elapsed": 18539,
     "status": "ok",
     "timestamp": 1736937487819,
     "user": {
      "displayName": "yasin sütoğlu",
      "userId": "06911595719741796393"
     },
     "user_tz": -180
    },
    "id": "5bEbGq9YiSb9",
    "outputId": "620861f1-a251-49bf-b99a-b9cf13e5098b"
   },
   "outputs": [
    {
     "name": "stdout",
     "output_type": "stream",
     "text": [
      "Epoch 235: early stopping\n",
      "Restoring model weights from the end of the best epoch: 35.\n"
     ]
    }
   ],
   "source": [
    "base_model = Sequential([\n",
    "    Input(shape=(train_ds.element_spec[0].shape[1],)),\n",
    "    Dense(50, activation='relu', kernel_regularizer=l2(0.001)),\n",
    "    BatchNormalization(),\n",
    "    Dropout(0.5),\n",
    "    Dense(1, activation='sigmoid')])\n",
    "\n",
    "optimizer = SGD(learning_rate=0.01, momentum=0.0)\n",
    "\n",
    "base_model.compile(optimizer=optimizer, loss=\"binary_crossentropy\", metrics=[\"accuracy\"])\n",
    "\n",
    "early_stopping = tf.keras.callbacks.EarlyStopping(monitor='val_loss', patience=200, verbose=1, restore_best_weights=True)\n",
    "\n",
    "base_model_history = base_model.fit(train_ds, epochs=1000, validation_data=val_ds, verbose=0, callbacks=early_stopping)"
   ]
  },
  {
   "cell_type": "code",
   "execution_count": 9,
   "metadata": {
    "colab": {
     "base_uri": "https://localhost:8080/"
    },
    "executionInfo": {
     "elapsed": 426,
     "status": "ok",
     "timestamp": 1736937500512,
     "user": {
      "displayName": "yasin sütoğlu",
      "userId": "06911595719741796393"
     },
     "user_tz": -180
    },
    "id": "et9rFc6-inOP",
    "outputId": "c651059f-5569-4452-f9d7-afd954f6a6c4"
   },
   "outputs": [
    {
     "name": "stdout",
     "output_type": "stream",
     "text": [
      "Best epoch details: {'accuracy': 0.7491856813430786, 'loss': 0.5173870921134949, 'val_accuracy': 0.7792207598686218, 'val_loss': 0.49695226550102234, 'best_epoch': 35}\n"
     ]
    }
   ],
   "source": [
    "get_best_epoch_details(base_model_history)"
   ]
  },
  {
   "cell_type": "markdown",
   "metadata": {
    "id": "Sy3pMhMdi7QN"
   },
   "source": [
    "## A. Init Of Weights & Biases"
   ]
  },
  {
   "cell_type": "code",
   "execution_count": 10,
   "metadata": {
    "colab": {
     "base_uri": "https://localhost:8080/"
    },
    "executionInfo": {
     "elapsed": 122543,
     "status": "ok",
     "timestamp": 1736937772310,
     "user": {
      "displayName": "yasin sütoğlu",
      "userId": "06911595719741796393"
     },
     "user_tz": -180
    },
    "id": "8026OSmOiutR",
    "outputId": "60d5b71f-7a71-4839-a568-03b638d24483"
   },
   "outputs": [
    {
     "name": "stdout",
     "output_type": "stream",
     "text": [
      "\n",
      "Training model with RandomNormal initialization...\n",
      "Epoch 229: early stopping\n",
      "Restoring model weights from the end of the best epoch: 29.\n",
      "Best epoch details: {'accuracy': 0.7785016298294067, 'loss': 0.46130287647247314, 'val_accuracy': 0.7792207598686218, 'val_loss': 0.5034934282302856, 'best_epoch': 29}\n",
      "Training time: 14.411351680755615 seconds\n",
      "\n",
      "Training model with RandomUniform initialization...\n",
      "Epoch 243: early stopping\n",
      "Restoring model weights from the end of the best epoch: 43.\n",
      "Best epoch details: {'accuracy': 0.7931596040725708, 'loss': 0.43367868661880493, 'val_accuracy': 0.7727272510528564, 'val_loss': 0.5018975138664246, 'best_epoch': 43}\n",
      "Training time: 14.589875936508179 seconds\n",
      "\n",
      "Training model with GlorotUniform initialization...\n",
      "Epoch 215: early stopping\n",
      "Restoring model weights from the end of the best epoch: 15.\n",
      "Best epoch details: {'accuracy': 0.7459283471107483, 'loss': 0.5508226156234741, 'val_accuracy': 0.7857142686843872, 'val_loss': 0.485345721244812, 'best_epoch': 15}\n",
      "Training time: 13.830449342727661 seconds\n",
      "\n",
      "Training model with GlorotNormal initialization...\n",
      "Epoch 216: early stopping\n",
      "Restoring model weights from the end of the best epoch: 16.\n",
      "Best epoch details: {'accuracy': 0.7377850413322449, 'loss': 0.553367018699646, 'val_accuracy': 0.8051947951316833, 'val_loss': 0.4910208582878113, 'best_epoch': 16}\n",
      "Training time: 13.531997442245483 seconds\n",
      "\n",
      "Training model with HeNormal initialization...\n",
      "Restoring model weights from the end of the best epoch: 942.\n",
      "Best epoch details: {'accuracy': 0.7899022698402405, 'loss': 0.49475687742233276, 'val_accuracy': 0.7727272510528564, 'val_loss': 0.5568782091140747, 'best_epoch': 942}\n",
      "Training time: 65.89677000045776 seconds\n"
     ]
    }
   ],
   "source": [
    "def try_initializers(train_ds, val_ds):\n",
    "\n",
    "    initializers = {\n",
    "        'RandomNormal': RandomNormal(),\n",
    "        'RandomUniform': RandomUniform(),\n",
    "        'GlorotUniform': GlorotUniform(),\n",
    "        'GlorotNormal': GlorotNormal(),\n",
    "        'HeNormal': HeNormal()\n",
    "    }\n",
    "\n",
    "    for name, initializer in initializers.items():\n",
    "        print()\n",
    "        print(f\"Training model with {name} initialization...\")\n",
    "\n",
    "        start_time = time.time()\n",
    "\n",
    "        model = Sequential([\n",
    "            Input(shape=(train_ds.element_spec[0].shape[1],)),\n",
    "            Dense(50, activation='relu', kernel_initializer=initializer, kernel_regularizer=l2(0.001)),\n",
    "            BatchNormalization(),\n",
    "            Dropout(0.5),\n",
    "            Dense(1, activation='sigmoid', kernel_initializer=initializer)])\n",
    "        \n",
    "        model.compile(optimizer=\"SGD\", loss=\"binary_crossentropy\", metrics=[\"accuracy\"])\n",
    "        \n",
    "        early_stopping = EarlyStopping(monitor='val_loss', patience=200, verbose=1, restore_best_weights=True)\n",
    "        \n",
    "        history = model.fit(train_ds, epochs=1000, validation_data=val_ds, verbose=0, callbacks=early_stopping)\n",
    "        \n",
    "        get_best_epoch_details(history)\n",
    "\n",
    "        end_time = time.time()\n",
    "        training_time = end_time - start_time\n",
    "        print(\"Training time:\", training_time, \"seconds\")\n",
    "\n",
    "# func call\n",
    "try_initializers(train_ds, val_ds)"
   ]
  },
  {
   "cell_type": "markdown",
   "metadata": {
    "id": "_6ebzkMujpEG"
   },
   "source": [
    "## B. Layers, Units, Dropouts"
   ]
  },
  {
   "cell_type": "code",
   "execution_count": 12,
   "metadata": {
    "executionInfo": {
     "elapsed": 458,
     "status": "ok",
     "timestamp": 1736938653412,
     "user": {
      "displayName": "yasin sütoğlu",
      "userId": "06911595719741796393"
     },
     "user_tz": -180
    },
    "id": "N0zFUjXSjTSo"
   },
   "outputs": [],
   "source": [
    "# CREATING SEARCHING SPACE\n",
    "def build_model(hp):\n",
    "  model = Sequential()\n",
    "  model.add(Input(shape=(train_ds.element_spec[0].shape[1],))) # We can add something like layers etc. with add() func.\n",
    "\n",
    "  for i in range(hp.Int('num_layers', 1, 5)): # Search 1-5 in int type!\n",
    "      model.add(Dense(units=hp.Int('units_' + str(i), min_value=32, max_value=512, step=32))) \n",
    "      # Determine the combination of the number of neurons in the corresponding layer \"i\"\n",
    "      model.add(BatchNormalization())\n",
    "      model.add(Dropout(hp.Float('dropout_' + str(i), min_value=0.0, max_value=0.5, step=0.1)))\n",
    "      # Determination of the percentage of neurons to be damped in the relevant \"i\" layer\n",
    "\n",
    "  model.add(Dense(1, activation='sigmoid'))\n",
    "  model.compile(optimizer=\"SGD\", loss=\"binary_crossentropy\", metrics=[\"accuracy\"])\n",
    "  return model"
   ]
  },
  {
   "cell_type": "code",
   "execution_count": 13,
   "metadata": {
    "colab": {
     "base_uri": "https://localhost:8080/"
    },
    "executionInfo": {
     "elapsed": 238519,
     "status": "ok",
     "timestamp": 1736938953428,
     "user": {
      "displayName": "yasin sütoğlu",
      "userId": "06911595719741796393"
     },
     "user_tz": -180
    },
    "id": "0rRE-NlakTso",
    "outputId": "28c328e0-bc29-4bc1-e744-f5967ab63d20"
   },
   "outputs": [
    {
     "name": "stdout",
     "output_type": "stream",
     "text": [
      "Trial 20 Complete [00h 00m 13s]\n",
      "val_loss: 0.4831380844116211\n",
      "\n",
      "Best val_loss So Far: 0.4578189551830292\n",
      "Total elapsed time: 00h 03m 58s\n"
     ]
    }
   ],
   "source": [
    "# RANDOM SEARCH TUNER\n",
    "random_search_tuner = RandomSearch(\n",
    "    build_model,\n",
    "    objective='val_loss',\n",
    "    max_trials=20, # 20 different combinations will be tried in the parameter search.\n",
    "    executions_per_trial=1, # How many different models will be trained in each combination selection attempt?\n",
    "    overwrite=True) # IMPORTANT parameter!\n",
    "\n",
    "early_stopping = EarlyStopping(\n",
    "    monitor='val_loss',\n",
    "    patience=20,\n",
    "    verbose=1,\n",
    "    restore_best_weights=True)\n",
    "\n",
    "random_search_tuner.search(train_ds,\n",
    "                           epochs=100,\n",
    "                           validation_data=val_ds,\n",
    "                           callbacks=[early_stopping])"
   ]
  },
  {
   "cell_type": "code",
   "execution_count": 14,
   "metadata": {
    "colab": {
     "base_uri": "https://localhost:8080/"
    },
    "executionInfo": {
     "elapsed": 433,
     "status": "ok",
     "timestamp": 1736938964451,
     "user": {
      "displayName": "yasin sütoğlu",
      "userId": "06911595719741796393"
     },
     "user_tz": -180
    },
    "id": "bVBNU63XnXVw",
    "outputId": "8ead5371-fc7a-4ae2-dbbb-a97cab9d2078"
   },
   "outputs": [
    {
     "name": "stdout",
     "output_type": "stream",
     "text": [
      "Search space summary\n",
      "Default search space size: 11\n",
      "num_layers (Int)\n",
      "{'default': None, 'conditions': [], 'min_value': 1, 'max_value': 5, 'step': 1, 'sampling': 'linear'}\n",
      "units_0 (Int)\n",
      "{'default': None, 'conditions': [], 'min_value': 32, 'max_value': 512, 'step': 32, 'sampling': 'linear'}\n",
      "dropout_0 (Float)\n",
      "{'default': 0.0, 'conditions': [], 'min_value': 0.0, 'max_value': 0.5, 'step': 0.1, 'sampling': 'linear'}\n",
      "units_1 (Int)\n",
      "{'default': None, 'conditions': [], 'min_value': 32, 'max_value': 512, 'step': 32, 'sampling': 'linear'}\n",
      "dropout_1 (Float)\n",
      "{'default': 0.0, 'conditions': [], 'min_value': 0.0, 'max_value': 0.5, 'step': 0.1, 'sampling': 'linear'}\n",
      "units_2 (Int)\n",
      "{'default': None, 'conditions': [], 'min_value': 32, 'max_value': 512, 'step': 32, 'sampling': 'linear'}\n",
      "dropout_2 (Float)\n",
      "{'default': 0.0, 'conditions': [], 'min_value': 0.0, 'max_value': 0.5, 'step': 0.1, 'sampling': 'linear'}\n",
      "units_3 (Int)\n",
      "{'default': None, 'conditions': [], 'min_value': 32, 'max_value': 512, 'step': 32, 'sampling': 'linear'}\n",
      "dropout_3 (Float)\n",
      "{'default': 0.0, 'conditions': [], 'min_value': 0.0, 'max_value': 0.5, 'step': 0.1, 'sampling': 'linear'}\n",
      "units_4 (Int)\n",
      "{'default': None, 'conditions': [], 'min_value': 32, 'max_value': 512, 'step': 32, 'sampling': 'linear'}\n",
      "dropout_4 (Float)\n",
      "{'default': 0.0, 'conditions': [], 'min_value': 0.0, 'max_value': 0.5, 'step': 0.1, 'sampling': 'linear'}\n"
     ]
    }
   ],
   "source": [
    "random_search_tuner.search_space_summary()"
   ]
  },
  {
   "cell_type": "code",
   "execution_count": 15,
   "metadata": {
    "colab": {
     "base_uri": "https://localhost:8080/"
    },
    "executionInfo": {
     "elapsed": 387,
     "status": "ok",
     "timestamp": 1736938983903,
     "user": {
      "displayName": "yasin sütoğlu",
      "userId": "06911595719741796393"
     },
     "user_tz": -180
    },
    "id": "T3HleVJLoUKT",
    "outputId": "1ba0d3de-8b02-4ba9-c758-2e77e2f96dea"
   },
   "outputs": [
    {
     "name": "stdout",
     "output_type": "stream",
     "text": [
      "Results summary\n",
      "Results in ./untitled_project\n",
      "Showing 10 best trials\n",
      "Objective(name=\"val_loss\", direction=\"min\")\n",
      "\n",
      "Trial 02 summary\n",
      "Hyperparameters:\n",
      "num_layers: 3\n",
      "units_0: 64\n",
      "dropout_0: 0.30000000000000004\n",
      "units_1: 416\n",
      "dropout_1: 0.2\n",
      "units_2: 512\n",
      "dropout_2: 0.0\n",
      "units_3: 192\n",
      "dropout_3: 0.1\n",
      "units_4: 224\n",
      "dropout_4: 0.30000000000000004\n",
      "Score: 0.4578189551830292\n",
      "\n",
      "Trial 08 summary\n",
      "Hyperparameters:\n",
      "num_layers: 5\n",
      "units_0: 160\n",
      "dropout_0: 0.1\n",
      "units_1: 160\n",
      "dropout_1: 0.1\n",
      "units_2: 384\n",
      "dropout_2: 0.30000000000000004\n",
      "units_3: 480\n",
      "dropout_3: 0.0\n",
      "units_4: 352\n",
      "dropout_4: 0.0\n",
      "Score: 0.4580150544643402\n",
      "\n",
      "Trial 09 summary\n",
      "Hyperparameters:\n",
      "num_layers: 1\n",
      "units_0: 448\n",
      "dropout_0: 0.1\n",
      "units_1: 448\n",
      "dropout_1: 0.2\n",
      "units_2: 480\n",
      "dropout_2: 0.4\n",
      "units_3: 352\n",
      "dropout_3: 0.0\n",
      "units_4: 32\n",
      "dropout_4: 0.2\n",
      "Score: 0.46267184615135193\n",
      "\n",
      "Trial 03 summary\n",
      "Hyperparameters:\n",
      "num_layers: 5\n",
      "units_0: 480\n",
      "dropout_0: 0.1\n",
      "units_1: 448\n",
      "dropout_1: 0.4\n",
      "units_2: 96\n",
      "dropout_2: 0.0\n",
      "units_3: 480\n",
      "dropout_3: 0.0\n",
      "units_4: 384\n",
      "dropout_4: 0.0\n",
      "Score: 0.4753076136112213\n",
      "\n",
      "Trial 07 summary\n",
      "Hyperparameters:\n",
      "num_layers: 3\n",
      "units_0: 320\n",
      "dropout_0: 0.2\n",
      "units_1: 320\n",
      "dropout_1: 0.30000000000000004\n",
      "units_2: 416\n",
      "dropout_2: 0.1\n",
      "units_3: 160\n",
      "dropout_3: 0.0\n",
      "units_4: 512\n",
      "dropout_4: 0.1\n",
      "Score: 0.47669360041618347\n",
      "\n",
      "Trial 19 summary\n",
      "Hyperparameters:\n",
      "num_layers: 5\n",
      "units_0: 160\n",
      "dropout_0: 0.4\n",
      "units_1: 480\n",
      "dropout_1: 0.0\n",
      "units_2: 96\n",
      "dropout_2: 0.4\n",
      "units_3: 32\n",
      "dropout_3: 0.1\n",
      "units_4: 480\n",
      "dropout_4: 0.1\n",
      "Score: 0.4831380844116211\n",
      "\n",
      "Trial 14 summary\n",
      "Hyperparameters:\n",
      "num_layers: 1\n",
      "units_0: 128\n",
      "dropout_0: 0.0\n",
      "units_1: 224\n",
      "dropout_1: 0.0\n",
      "units_2: 128\n",
      "dropout_2: 0.4\n",
      "units_3: 224\n",
      "dropout_3: 0.30000000000000004\n",
      "units_4: 224\n",
      "dropout_4: 0.0\n",
      "Score: 0.485088586807251\n",
      "\n",
      "Trial 13 summary\n",
      "Hyperparameters:\n",
      "num_layers: 1\n",
      "units_0: 352\n",
      "dropout_0: 0.1\n",
      "units_1: 64\n",
      "dropout_1: 0.4\n",
      "units_2: 64\n",
      "dropout_2: 0.1\n",
      "units_3: 64\n",
      "dropout_3: 0.30000000000000004\n",
      "units_4: 480\n",
      "dropout_4: 0.2\n",
      "Score: 0.4860042333602905\n",
      "\n",
      "Trial 16 summary\n",
      "Hyperparameters:\n",
      "num_layers: 3\n",
      "units_0: 512\n",
      "dropout_0: 0.4\n",
      "units_1: 96\n",
      "dropout_1: 0.0\n",
      "units_2: 512\n",
      "dropout_2: 0.2\n",
      "units_3: 288\n",
      "dropout_3: 0.4\n",
      "units_4: 384\n",
      "dropout_4: 0.1\n",
      "Score: 0.4889148771762848\n",
      "\n",
      "Trial 15 summary\n",
      "Hyperparameters:\n",
      "num_layers: 5\n",
      "units_0: 480\n",
      "dropout_0: 0.2\n",
      "units_1: 32\n",
      "dropout_1: 0.2\n",
      "units_2: 32\n",
      "dropout_2: 0.4\n",
      "units_3: 96\n",
      "dropout_3: 0.0\n",
      "units_4: 192\n",
      "dropout_4: 0.4\n",
      "Score: 0.4898968040943146\n"
     ]
    }
   ],
   "source": [
    "random_search_tuner.results_summary()"
   ]
  },
  {
   "cell_type": "code",
   "execution_count": 17,
   "metadata": {
    "colab": {
     "base_uri": "https://localhost:8080/"
    },
    "executionInfo": {
     "elapsed": 437,
     "status": "ok",
     "timestamp": 1736939113214,
     "user": {
      "displayName": "yasin sütoğlu",
      "userId": "06911595719741796393"
     },
     "user_tz": -180
    },
    "id": "S5FciTPhoY6-",
    "outputId": "afac064a-8b6a-4941-a023-f2ebf0c7992e"
   },
   "outputs": [
    {
     "name": "stdout",
     "output_type": "stream",
     "text": [
      "Best Hyperparameters: {'num_layers': 3, 'units_0': 64, 'dropout_0': 0.30000000000000004, 'units_1': 416, 'dropout_1': 0.2, 'units_2': 512, 'dropout_2': 0.0, 'units_3': 192, 'dropout_3': 0.1, 'units_4': 224, 'dropout_4': 0.30000000000000004}\n"
     ]
    }
   ],
   "source": [
    "# BEST HYPERPARAMETERS\n",
    "best_hps = random_search_tuner.get_best_hyperparameters(num_trials=1)[0]\n",
    "# num_trials=1 : Returns 1 (odd-first) set of values from the best performing hyperparameter sets\n",
    "print(f\"Best Hyperparameters: {best_hps.values}\")"
   ]
  },
  {
   "cell_type": "code",
   "execution_count": 18,
   "metadata": {
    "colab": {
     "base_uri": "https://localhost:8080/",
     "height": 517
    },
    "executionInfo": {
     "elapsed": 1396,
     "status": "ok",
     "timestamp": 1736939187598,
     "user": {
      "displayName": "yasin sütoğlu",
      "userId": "06911595719741796393"
     },
     "user_tz": -180
    },
    "id": "jPbLANVMouB5",
    "outputId": "162cff03-3a53-48f9-8e7d-dd5b48aff0c6"
   },
   "outputs": [
    {
     "data": {
      "text/html": [
       "<pre style=\"white-space:pre;overflow-x:auto;line-height:normal;font-family:Menlo,'DejaVu Sans Mono',consolas,'Courier New',monospace\"><span style=\"font-weight: bold\">Model: \"sequential\"</span>\n",
       "</pre>\n"
      ],
      "text/plain": [
       "\u001b[1mModel: \"sequential\"\u001b[0m\n"
      ]
     },
     "metadata": {},
     "output_type": "display_data"
    },
    {
     "data": {
      "text/html": [
       "<pre style=\"white-space:pre;overflow-x:auto;line-height:normal;font-family:Menlo,'DejaVu Sans Mono',consolas,'Courier New',monospace\">┏━━━━━━━━━━━━━━━━━━━━━━━━━━━━━━━━━━━━━━┳━━━━━━━━━━━━━━━━━━━━━━━━━━━━━┳━━━━━━━━━━━━━━━━━┓\n",
       "┃<span style=\"font-weight: bold\"> Layer (type)                         </span>┃<span style=\"font-weight: bold\"> Output Shape                </span>┃<span style=\"font-weight: bold\">         Param # </span>┃\n",
       "┡━━━━━━━━━━━━━━━━━━━━━━━━━━━━━━━━━━━━━━╇━━━━━━━━━━━━━━━━━━━━━━━━━━━━━╇━━━━━━━━━━━━━━━━━┩\n",
       "│ dense (<span style=\"color: #0087ff; text-decoration-color: #0087ff\">Dense</span>)                        │ (<span style=\"color: #00d7ff; text-decoration-color: #00d7ff\">None</span>, <span style=\"color: #00af00; text-decoration-color: #00af00\">64</span>)                  │             <span style=\"color: #00af00; text-decoration-color: #00af00\">576</span> │\n",
       "├──────────────────────────────────────┼─────────────────────────────┼─────────────────┤\n",
       "│ batch_normalization                  │ (<span style=\"color: #00d7ff; text-decoration-color: #00d7ff\">None</span>, <span style=\"color: #00af00; text-decoration-color: #00af00\">64</span>)                  │             <span style=\"color: #00af00; text-decoration-color: #00af00\">256</span> │\n",
       "│ (<span style=\"color: #0087ff; text-decoration-color: #0087ff\">BatchNormalization</span>)                 │                             │                 │\n",
       "├──────────────────────────────────────┼─────────────────────────────┼─────────────────┤\n",
       "│ dropout (<span style=\"color: #0087ff; text-decoration-color: #0087ff\">Dropout</span>)                    │ (<span style=\"color: #00d7ff; text-decoration-color: #00d7ff\">None</span>, <span style=\"color: #00af00; text-decoration-color: #00af00\">64</span>)                  │               <span style=\"color: #00af00; text-decoration-color: #00af00\">0</span> │\n",
       "├──────────────────────────────────────┼─────────────────────────────┼─────────────────┤\n",
       "│ dense_1 (<span style=\"color: #0087ff; text-decoration-color: #0087ff\">Dense</span>)                      │ (<span style=\"color: #00d7ff; text-decoration-color: #00d7ff\">None</span>, <span style=\"color: #00af00; text-decoration-color: #00af00\">416</span>)                 │          <span style=\"color: #00af00; text-decoration-color: #00af00\">27,040</span> │\n",
       "├──────────────────────────────────────┼─────────────────────────────┼─────────────────┤\n",
       "│ batch_normalization_1                │ (<span style=\"color: #00d7ff; text-decoration-color: #00d7ff\">None</span>, <span style=\"color: #00af00; text-decoration-color: #00af00\">416</span>)                 │           <span style=\"color: #00af00; text-decoration-color: #00af00\">1,664</span> │\n",
       "│ (<span style=\"color: #0087ff; text-decoration-color: #0087ff\">BatchNormalization</span>)                 │                             │                 │\n",
       "├──────────────────────────────────────┼─────────────────────────────┼─────────────────┤\n",
       "│ dropout_1 (<span style=\"color: #0087ff; text-decoration-color: #0087ff\">Dropout</span>)                  │ (<span style=\"color: #00d7ff; text-decoration-color: #00d7ff\">None</span>, <span style=\"color: #00af00; text-decoration-color: #00af00\">416</span>)                 │               <span style=\"color: #00af00; text-decoration-color: #00af00\">0</span> │\n",
       "├──────────────────────────────────────┼─────────────────────────────┼─────────────────┤\n",
       "│ dense_2 (<span style=\"color: #0087ff; text-decoration-color: #0087ff\">Dense</span>)                      │ (<span style=\"color: #00d7ff; text-decoration-color: #00d7ff\">None</span>, <span style=\"color: #00af00; text-decoration-color: #00af00\">512</span>)                 │         <span style=\"color: #00af00; text-decoration-color: #00af00\">213,504</span> │\n",
       "├──────────────────────────────────────┼─────────────────────────────┼─────────────────┤\n",
       "│ batch_normalization_2                │ (<span style=\"color: #00d7ff; text-decoration-color: #00d7ff\">None</span>, <span style=\"color: #00af00; text-decoration-color: #00af00\">512</span>)                 │           <span style=\"color: #00af00; text-decoration-color: #00af00\">2,048</span> │\n",
       "│ (<span style=\"color: #0087ff; text-decoration-color: #0087ff\">BatchNormalization</span>)                 │                             │                 │\n",
       "├──────────────────────────────────────┼─────────────────────────────┼─────────────────┤\n",
       "│ dropout_2 (<span style=\"color: #0087ff; text-decoration-color: #0087ff\">Dropout</span>)                  │ (<span style=\"color: #00d7ff; text-decoration-color: #00d7ff\">None</span>, <span style=\"color: #00af00; text-decoration-color: #00af00\">512</span>)                 │               <span style=\"color: #00af00; text-decoration-color: #00af00\">0</span> │\n",
       "├──────────────────────────────────────┼─────────────────────────────┼─────────────────┤\n",
       "│ dense_3 (<span style=\"color: #0087ff; text-decoration-color: #0087ff\">Dense</span>)                      │ (<span style=\"color: #00d7ff; text-decoration-color: #00d7ff\">None</span>, <span style=\"color: #00af00; text-decoration-color: #00af00\">1</span>)                   │             <span style=\"color: #00af00; text-decoration-color: #00af00\">513</span> │\n",
       "└──────────────────────────────────────┴─────────────────────────────┴─────────────────┘\n",
       "</pre>\n"
      ],
      "text/plain": [
       "┏━━━━━━━━━━━━━━━━━━━━━━━━━━━━━━━━━━━━━━┳━━━━━━━━━━━━━━━━━━━━━━━━━━━━━┳━━━━━━━━━━━━━━━━━┓\n",
       "┃\u001b[1m \u001b[0m\u001b[1mLayer (type)                        \u001b[0m\u001b[1m \u001b[0m┃\u001b[1m \u001b[0m\u001b[1mOutput Shape               \u001b[0m\u001b[1m \u001b[0m┃\u001b[1m \u001b[0m\u001b[1m        Param #\u001b[0m\u001b[1m \u001b[0m┃\n",
       "┡━━━━━━━━━━━━━━━━━━━━━━━━━━━━━━━━━━━━━━╇━━━━━━━━━━━━━━━━━━━━━━━━━━━━━╇━━━━━━━━━━━━━━━━━┩\n",
       "│ dense (\u001b[38;5;33mDense\u001b[0m)                        │ (\u001b[38;5;45mNone\u001b[0m, \u001b[38;5;34m64\u001b[0m)                  │             \u001b[38;5;34m576\u001b[0m │\n",
       "├──────────────────────────────────────┼─────────────────────────────┼─────────────────┤\n",
       "│ batch_normalization                  │ (\u001b[38;5;45mNone\u001b[0m, \u001b[38;5;34m64\u001b[0m)                  │             \u001b[38;5;34m256\u001b[0m │\n",
       "│ (\u001b[38;5;33mBatchNormalization\u001b[0m)                 │                             │                 │\n",
       "├──────────────────────────────────────┼─────────────────────────────┼─────────────────┤\n",
       "│ dropout (\u001b[38;5;33mDropout\u001b[0m)                    │ (\u001b[38;5;45mNone\u001b[0m, \u001b[38;5;34m64\u001b[0m)                  │               \u001b[38;5;34m0\u001b[0m │\n",
       "├──────────────────────────────────────┼─────────────────────────────┼─────────────────┤\n",
       "│ dense_1 (\u001b[38;5;33mDense\u001b[0m)                      │ (\u001b[38;5;45mNone\u001b[0m, \u001b[38;5;34m416\u001b[0m)                 │          \u001b[38;5;34m27,040\u001b[0m │\n",
       "├──────────────────────────────────────┼─────────────────────────────┼─────────────────┤\n",
       "│ batch_normalization_1                │ (\u001b[38;5;45mNone\u001b[0m, \u001b[38;5;34m416\u001b[0m)                 │           \u001b[38;5;34m1,664\u001b[0m │\n",
       "│ (\u001b[38;5;33mBatchNormalization\u001b[0m)                 │                             │                 │\n",
       "├──────────────────────────────────────┼─────────────────────────────┼─────────────────┤\n",
       "│ dropout_1 (\u001b[38;5;33mDropout\u001b[0m)                  │ (\u001b[38;5;45mNone\u001b[0m, \u001b[38;5;34m416\u001b[0m)                 │               \u001b[38;5;34m0\u001b[0m │\n",
       "├──────────────────────────────────────┼─────────────────────────────┼─────────────────┤\n",
       "│ dense_2 (\u001b[38;5;33mDense\u001b[0m)                      │ (\u001b[38;5;45mNone\u001b[0m, \u001b[38;5;34m512\u001b[0m)                 │         \u001b[38;5;34m213,504\u001b[0m │\n",
       "├──────────────────────────────────────┼─────────────────────────────┼─────────────────┤\n",
       "│ batch_normalization_2                │ (\u001b[38;5;45mNone\u001b[0m, \u001b[38;5;34m512\u001b[0m)                 │           \u001b[38;5;34m2,048\u001b[0m │\n",
       "│ (\u001b[38;5;33mBatchNormalization\u001b[0m)                 │                             │                 │\n",
       "├──────────────────────────────────────┼─────────────────────────────┼─────────────────┤\n",
       "│ dropout_2 (\u001b[38;5;33mDropout\u001b[0m)                  │ (\u001b[38;5;45mNone\u001b[0m, \u001b[38;5;34m512\u001b[0m)                 │               \u001b[38;5;34m0\u001b[0m │\n",
       "├──────────────────────────────────────┼─────────────────────────────┼─────────────────┤\n",
       "│ dense_3 (\u001b[38;5;33mDense\u001b[0m)                      │ (\u001b[38;5;45mNone\u001b[0m, \u001b[38;5;34m1\u001b[0m)                   │             \u001b[38;5;34m513\u001b[0m │\n",
       "└──────────────────────────────────────┴─────────────────────────────┴─────────────────┘\n"
      ]
     },
     "metadata": {},
     "output_type": "display_data"
    },
    {
     "data": {
      "text/html": [
       "<pre style=\"white-space:pre;overflow-x:auto;line-height:normal;font-family:Menlo,'DejaVu Sans Mono',consolas,'Courier New',monospace\"><span style=\"font-weight: bold\"> Total params: </span><span style=\"color: #00af00; text-decoration-color: #00af00\">245,601</span> (959.38 KB)\n",
       "</pre>\n"
      ],
      "text/plain": [
       "\u001b[1m Total params: \u001b[0m\u001b[38;5;34m245,601\u001b[0m (959.38 KB)\n"
      ]
     },
     "metadata": {},
     "output_type": "display_data"
    },
    {
     "data": {
      "text/html": [
       "<pre style=\"white-space:pre;overflow-x:auto;line-height:normal;font-family:Menlo,'DejaVu Sans Mono',consolas,'Courier New',monospace\"><span style=\"font-weight: bold\"> Trainable params: </span><span style=\"color: #00af00; text-decoration-color: #00af00\">243,617</span> (951.63 KB)\n",
       "</pre>\n"
      ],
      "text/plain": [
       "\u001b[1m Trainable params: \u001b[0m\u001b[38;5;34m243,617\u001b[0m (951.63 KB)\n"
      ]
     },
     "metadata": {},
     "output_type": "display_data"
    },
    {
     "data": {
      "text/html": [
       "<pre style=\"white-space:pre;overflow-x:auto;line-height:normal;font-family:Menlo,'DejaVu Sans Mono',consolas,'Courier New',monospace\"><span style=\"font-weight: bold\"> Non-trainable params: </span><span style=\"color: #00af00; text-decoration-color: #00af00\">1,984</span> (7.75 KB)\n",
       "</pre>\n"
      ],
      "text/plain": [
       "\u001b[1m Non-trainable params: \u001b[0m\u001b[38;5;34m1,984\u001b[0m (7.75 KB)\n"
      ]
     },
     "metadata": {},
     "output_type": "display_data"
    }
   ],
   "source": [
    "# BEST MODEL\n",
    "best_model = random_search_tuner.get_best_models(num_models=1)[0]\n",
    "best_model.summary()"
   ]
  },
  {
   "cell_type": "code",
   "execution_count": 19,
   "metadata": {
    "colab": {
     "base_uri": "https://localhost:8080/"
    },
    "executionInfo": {
     "elapsed": 689,
     "status": "ok",
     "timestamp": 1736939401075,
     "user": {
      "displayName": "yasin sütoğlu",
      "userId": "06911595719741796393"
     },
     "user_tz": -180
    },
    "id": "iDHbZMX5p5L2",
    "outputId": "5f02092c-d53e-4c3e-a3e6-1b7009b3b34b"
   },
   "outputs": [
    {
     "name": "stdout",
     "output_type": "stream",
     "text": [
      "\u001b[1m5/5\u001b[0m \u001b[32m━━━━━━━━━━━━━━━━━━━━\u001b[0m\u001b[37m\u001b[0m \u001b[1m0s\u001b[0m 5ms/step - accuracy: 0.7775 - loss: 0.4625  \n",
      "Validation loss: 0.4578189551830292, Accuracy: 0.7857142686843872\n"
     ]
    }
   ],
   "source": [
    "# MODEL PERFORMANCE\n",
    "loss, acc = best_model.evaluate(val_ds)\n",
    "print(f\"Validation loss: {loss}, Accuracy: {acc}\")"
   ]
  },
  {
   "cell_type": "markdown",
   "metadata": {
    "id": "2mm96UuQofAw"
   },
   "source": [
    "## C. All Together\n",
    "<u>Here is the part where we discuss all of the previous parameter events + BatchSize, Activation Funcs, Learning Rate, Regularization.</u>"
   ]
  },
  {
   "cell_type": "code",
   "execution_count": 22,
   "metadata": {
    "executionInfo": {
     "elapsed": 301,
     "status": "ok",
     "timestamp": 1736941495267,
     "user": {
      "displayName": "yasin sütoğlu",
      "userId": "06911595719741796393"
     },
     "user_tz": -180
    },
    "id": "N_nom08CqGGa"
   },
   "outputs": [],
   "source": [
    "def build_model(hp):\n",
    "    model = Sequential()\n",
    "    model.add(Input(shape=(train_ds.element_spec[0].shape[1],)))\n",
    "\n",
    "    # 1.Hidden layers, activation functions, l2, Dropout\n",
    "    for i in range(hp.Int('num_layers', 1, 5)):\n",
    "\n",
    "        model.add(Dense(units=hp.Int('units_' + str(i), min_value=32, max_value=512, step=32),\n",
    "\n",
    "                        activation=hp.Choice('activation_' + str(i), values=['relu', 'tanh', 'sigmoid']),\n",
    "\n",
    "                        kernel_regularizer=l2(hp.Float('l2_' + str(i), min_value=0.0001, max_value=0.01, sampling='log'))))\n",
    "        # sampling='log' => Scale these values (0.0001 to 0.01) with a logarithmic transformation\n",
    "\n",
    "        model.add(BatchNormalization())\n",
    "        model.add(Dropout(hp.Float('dropout_' + str(i), min_value=0.0, max_value=0.5, step=0.1)))\n",
    "\n",
    "    model.add(Dense(1, activation='sigmoid'))\n",
    "\n",
    "    # 2.Learning rate schedule\n",
    "    initial_learning_rate = hp.Float('initial_learning_rate', min_value=1e-4, max_value=1e-2, sampling='log')\n",
    "    lr_schedule = ExponentialDecay(\n",
    "        initial_learning_rate=initial_learning_rate,\n",
    "        decay_steps=100,\n",
    "        decay_rate=0.96,\n",
    "        staircase=True\n",
    "    )\n",
    "\n",
    "    # 3. Optimizers\n",
    "    optimizer_choice = hp.Choice('optimizer', values=['sgd', 'adam', \"rmsprop\"])\n",
    "    \n",
    "    if optimizer_choice == 'sgd':\n",
    "        optimizer = SGD(\n",
    "            learning_rate=lr_schedule,\n",
    "            momentum=hp.Float('momentum', min_value=0.0, max_value=0.9, step=0.1)\n",
    "        ) # momentum => It carries the gradient value from the previous iteration to the next iteration.\n",
    "        \n",
    "    elif optimizer_choice == 'rmsprop':\n",
    "        optimizer = RMSprop(\n",
    "            learning_rate=lr_schedule,\n",
    "            rho=hp.Float('rho', min_value=0.8, max_value=0.99, step=0.01),  # Decay rate for moving average of squared gradients\n",
    "            epsilon=hp.Float('epsilon', min_value=1e-10, max_value=1e-8, step=1e-10),\n",
    "            momentum=hp.Float('momentum', min_value=0.0, max_value=0.9, step=0.1)\n",
    "        ) \n",
    "        # rmsprop => The learning rate is adjusted dynamically. It works by taking the moving average of the squares of the gradients in the past iteration.\n",
    "        # Moving average of squares of Gradients => It is included in the denominator of the learning rate in the update function.\n",
    "        # Larger gradient values make the LR smaller, while smaller gradient values change very little. This is how dynamism is achieved.\n",
    "    elif optimizer_choice == 'adam':\n",
    "        optimizer = Adam(\n",
    "            learning_rate=lr_schedule,\n",
    "            beta_1=hp.Float('beta1', min_value=0.85, max_value=0.99, step=0.01), \n",
    "            # beta1 => determines how much weight we give to momentum from the past\n",
    "            beta_2=hp.Float('beta2', min_value=0.999, max_value=0.9999, step=0.0001),\n",
    "            # This parameter determines the moving average of the squares of the gradients and\n",
    "            # how much weight to give to the gradients in the previous iteration to adjust the LRs adaptively.\n",
    "            epsilon=hp.Float('epsilon', min_value=1e-8, max_value=1e-7, step=1e-8) \n",
    "            # It refers to the mathematical correction values to be seen in the formulations.\n",
    "        ) \n",
    "        # Adam Method => Rmsprop + Momentum\n",
    "        # t both carries gradients (speed and direction information) from the past and uses the LR adaptive adjustment feature.\n",
    "\n",
    "\n",
    "    # Model Compilation\n",
    "    model.compile(optimizer = optimizer,\n",
    "                  loss=\"binary_crossentropy\",\n",
    "                  metrics=[\"accuracy\"])\n",
    "\n",
    "    return model"
   ]
  },
  {
   "cell_type": "code",
   "execution_count": 23,
   "metadata": {
    "colab": {
     "base_uri": "https://localhost:8080/"
    },
    "executionInfo": {
     "elapsed": 367773,
     "status": "ok",
     "timestamp": 1736941905945,
     "user": {
      "displayName": "yasin sütoğlu",
      "userId": "06911595719741796393"
     },
     "user_tz": -180
    },
    "id": "WbSWKYE4vWr1",
    "outputId": "5f455ddb-3019-4d9b-ad32-44d71cba2dd2"
   },
   "outputs": [
    {
     "name": "stdout",
     "output_type": "stream",
     "text": [
      "Trial 20 Complete [00h 00m 23s]\n",
      "val_loss: 0.9702298045158386\n",
      "\n",
      "Best val_loss So Far: 0.5141968131065369\n",
      "Total elapsed time: 00h 06m 07s\n"
     ]
    }
   ],
   "source": [
    "# RANDOM SEARCH\n",
    "random_search_tuner = RandomSearch(\n",
    "    build_model,\n",
    "    objective='val_loss',\n",
    "    max_trials=20,\n",
    "    executions_per_trial=1,\n",
    "    overwrite=True)\n",
    "\n",
    "early_stopping = EarlyStopping(\n",
    "    monitor='val_loss',\n",
    "    patience=20,\n",
    "    verbose=1,\n",
    "    restore_best_weights=True)\n",
    "\n",
    "random_search_tuner.search(train_ds,\n",
    "                           epochs=100,\n",
    "                           validation_data=val_ds,\n",
    "                           callbacks=[early_stopping])"
   ]
  },
  {
   "cell_type": "code",
   "execution_count": 24,
   "metadata": {
    "colab": {
     "base_uri": "https://localhost:8080/"
    },
    "executionInfo": {
     "elapsed": 262,
     "status": "ok",
     "timestamp": 1736941912397,
     "user": {
      "displayName": "yasin sütoğlu",
      "userId": "06911595719741796393"
     },
     "user_tz": -180
    },
    "id": "WkLY9RQMyInS",
    "outputId": "48e22bd0-5d74-433a-9cd9-c70d57984bba"
   },
   "outputs": [
    {
     "name": "stdout",
     "output_type": "stream",
     "text": [
      "Best hyperparameters: {'num_layers': 1, 'units_0': 224, 'activation_0': 'relu', 'l2_0': 0.00028636418591913084, 'dropout_0': 0.4, 'initial_learning_rate': 0.0012076098541628248, 'optimizer': 'adam', 'momentum': 0.30000000000000004, 'units_1': 64, 'activation_1': 'tanh', 'l2_1': 0.00012162727501515752, 'dropout_1': 0.0, 'beta1': 0.86, 'beta2': 0.9998, 'epsilon': 2e-08, 'rho': 0.8700000000000001, 'units_2': 416, 'activation_2': 'relu', 'l2_2': 0.002177828475108628, 'dropout_2': 0.4, 'units_3': 320, 'activation_3': 'sigmoid', 'l2_3': 0.00013978522409411077, 'dropout_3': 0.0, 'units_4': 256, 'activation_4': 'sigmoid', 'l2_4': 0.00536658240702523, 'dropout_4': 0.1}\n"
     ]
    },
    {
     "data": {
      "text/plain": [
       "['best_hps.joblib']"
      ]
     },
     "execution_count": 24,
     "metadata": {},
     "output_type": "execute_result"
    }
   ],
   "source": [
    "# BEST HYPERPARAMETERS\n",
    "best_hps = random_search_tuner.get_best_hyperparameters(num_trials=1)[0]\n",
    "\n",
    "print(f\"Best hyperparameters: {best_hps.values}\")\n",
    "dump(best_hps, 'best_hps.joblib')"
   ]
  },
  {
   "cell_type": "code",
   "execution_count": 25,
   "metadata": {
    "colab": {
     "base_uri": "https://localhost:8080/",
     "height": 338
    },
    "executionInfo": {
     "elapsed": 2146,
     "status": "ok",
     "timestamp": 1736941923342,
     "user": {
      "displayName": "yasin sütoğlu",
      "userId": "06911595719741796393"
     },
     "user_tz": -180
    },
    "id": "BsMsegDOyuy2",
    "outputId": "7b9ab15a-df82-4698-c26c-8a5cbdd0c8fe"
   },
   "outputs": [
    {
     "name": "stderr",
     "output_type": "stream",
     "text": [
      "/usr/local/lib/python3.10/dist-packages/keras/src/saving/saving_lib.py:713: UserWarning: Skipping variable loading for optimizer 'adam', because it has 1 variables whereas the saved optimizer has 13 variables. \n",
      "  saveable.load_own_variables(weights_store.get(inner_path))\n"
     ]
    },
    {
     "data": {
      "text/html": [
       "<pre style=\"white-space:pre;overflow-x:auto;line-height:normal;font-family:Menlo,'DejaVu Sans Mono',consolas,'Courier New',monospace\"><span style=\"font-weight: bold\">Model: \"sequential\"</span>\n",
       "</pre>\n"
      ],
      "text/plain": [
       "\u001b[1mModel: \"sequential\"\u001b[0m\n"
      ]
     },
     "metadata": {},
     "output_type": "display_data"
    },
    {
     "data": {
      "text/html": [
       "<pre style=\"white-space:pre;overflow-x:auto;line-height:normal;font-family:Menlo,'DejaVu Sans Mono',consolas,'Courier New',monospace\">┏━━━━━━━━━━━━━━━━━━━━━━━━━━━━━━━━━━━━━━┳━━━━━━━━━━━━━━━━━━━━━━━━━━━━━┳━━━━━━━━━━━━━━━━━┓\n",
       "┃<span style=\"font-weight: bold\"> Layer (type)                         </span>┃<span style=\"font-weight: bold\"> Output Shape                </span>┃<span style=\"font-weight: bold\">         Param # </span>┃\n",
       "┡━━━━━━━━━━━━━━━━━━━━━━━━━━━━━━━━━━━━━━╇━━━━━━━━━━━━━━━━━━━━━━━━━━━━━╇━━━━━━━━━━━━━━━━━┩\n",
       "│ dense (<span style=\"color: #0087ff; text-decoration-color: #0087ff\">Dense</span>)                        │ (<span style=\"color: #00d7ff; text-decoration-color: #00d7ff\">None</span>, <span style=\"color: #00af00; text-decoration-color: #00af00\">224</span>)                 │           <span style=\"color: #00af00; text-decoration-color: #00af00\">2,016</span> │\n",
       "├──────────────────────────────────────┼─────────────────────────────┼─────────────────┤\n",
       "│ batch_normalization                  │ (<span style=\"color: #00d7ff; text-decoration-color: #00d7ff\">None</span>, <span style=\"color: #00af00; text-decoration-color: #00af00\">224</span>)                 │             <span style=\"color: #00af00; text-decoration-color: #00af00\">896</span> │\n",
       "│ (<span style=\"color: #0087ff; text-decoration-color: #0087ff\">BatchNormalization</span>)                 │                             │                 │\n",
       "├──────────────────────────────────────┼─────────────────────────────┼─────────────────┤\n",
       "│ dropout (<span style=\"color: #0087ff; text-decoration-color: #0087ff\">Dropout</span>)                    │ (<span style=\"color: #00d7ff; text-decoration-color: #00d7ff\">None</span>, <span style=\"color: #00af00; text-decoration-color: #00af00\">224</span>)                 │               <span style=\"color: #00af00; text-decoration-color: #00af00\">0</span> │\n",
       "├──────────────────────────────────────┼─────────────────────────────┼─────────────────┤\n",
       "│ dense_1 (<span style=\"color: #0087ff; text-decoration-color: #0087ff\">Dense</span>)                      │ (<span style=\"color: #00d7ff; text-decoration-color: #00d7ff\">None</span>, <span style=\"color: #00af00; text-decoration-color: #00af00\">1</span>)                   │             <span style=\"color: #00af00; text-decoration-color: #00af00\">225</span> │\n",
       "└──────────────────────────────────────┴─────────────────────────────┴─────────────────┘\n",
       "</pre>\n"
      ],
      "text/plain": [
       "┏━━━━━━━━━━━━━━━━━━━━━━━━━━━━━━━━━━━━━━┳━━━━━━━━━━━━━━━━━━━━━━━━━━━━━┳━━━━━━━━━━━━━━━━━┓\n",
       "┃\u001b[1m \u001b[0m\u001b[1mLayer (type)                        \u001b[0m\u001b[1m \u001b[0m┃\u001b[1m \u001b[0m\u001b[1mOutput Shape               \u001b[0m\u001b[1m \u001b[0m┃\u001b[1m \u001b[0m\u001b[1m        Param #\u001b[0m\u001b[1m \u001b[0m┃\n",
       "┡━━━━━━━━━━━━━━━━━━━━━━━━━━━━━━━━━━━━━━╇━━━━━━━━━━━━━━━━━━━━━━━━━━━━━╇━━━━━━━━━━━━━━━━━┩\n",
       "│ dense (\u001b[38;5;33mDense\u001b[0m)                        │ (\u001b[38;5;45mNone\u001b[0m, \u001b[38;5;34m224\u001b[0m)                 │           \u001b[38;5;34m2,016\u001b[0m │\n",
       "├──────────────────────────────────────┼─────────────────────────────┼─────────────────┤\n",
       "│ batch_normalization                  │ (\u001b[38;5;45mNone\u001b[0m, \u001b[38;5;34m224\u001b[0m)                 │             \u001b[38;5;34m896\u001b[0m │\n",
       "│ (\u001b[38;5;33mBatchNormalization\u001b[0m)                 │                             │                 │\n",
       "├──────────────────────────────────────┼─────────────────────────────┼─────────────────┤\n",
       "│ dropout (\u001b[38;5;33mDropout\u001b[0m)                    │ (\u001b[38;5;45mNone\u001b[0m, \u001b[38;5;34m224\u001b[0m)                 │               \u001b[38;5;34m0\u001b[0m │\n",
       "├──────────────────────────────────────┼─────────────────────────────┼─────────────────┤\n",
       "│ dense_1 (\u001b[38;5;33mDense\u001b[0m)                      │ (\u001b[38;5;45mNone\u001b[0m, \u001b[38;5;34m1\u001b[0m)                   │             \u001b[38;5;34m225\u001b[0m │\n",
       "└──────────────────────────────────────┴─────────────────────────────┴─────────────────┘\n"
      ]
     },
     "metadata": {},
     "output_type": "display_data"
    },
    {
     "data": {
      "text/html": [
       "<pre style=\"white-space:pre;overflow-x:auto;line-height:normal;font-family:Menlo,'DejaVu Sans Mono',consolas,'Courier New',monospace\"><span style=\"font-weight: bold\"> Total params: </span><span style=\"color: #00af00; text-decoration-color: #00af00\">3,137</span> (12.25 KB)\n",
       "</pre>\n"
      ],
      "text/plain": [
       "\u001b[1m Total params: \u001b[0m\u001b[38;5;34m3,137\u001b[0m (12.25 KB)\n"
      ]
     },
     "metadata": {},
     "output_type": "display_data"
    },
    {
     "data": {
      "text/html": [
       "<pre style=\"white-space:pre;overflow-x:auto;line-height:normal;font-family:Menlo,'DejaVu Sans Mono',consolas,'Courier New',monospace\"><span style=\"font-weight: bold\"> Trainable params: </span><span style=\"color: #00af00; text-decoration-color: #00af00\">2,689</span> (10.50 KB)\n",
       "</pre>\n"
      ],
      "text/plain": [
       "\u001b[1m Trainable params: \u001b[0m\u001b[38;5;34m2,689\u001b[0m (10.50 KB)\n"
      ]
     },
     "metadata": {},
     "output_type": "display_data"
    },
    {
     "data": {
      "text/html": [
       "<pre style=\"white-space:pre;overflow-x:auto;line-height:normal;font-family:Menlo,'DejaVu Sans Mono',consolas,'Courier New',monospace\"><span style=\"font-weight: bold\"> Non-trainable params: </span><span style=\"color: #00af00; text-decoration-color: #00af00\">448</span> (1.75 KB)\n",
       "</pre>\n"
      ],
      "text/plain": [
       "\u001b[1m Non-trainable params: \u001b[0m\u001b[38;5;34m448\u001b[0m (1.75 KB)\n"
      ]
     },
     "metadata": {},
     "output_type": "display_data"
    }
   ],
   "source": [
    "# BEST MODEL\n",
    "best_model = random_search_tuner.get_best_models(num_models=1)[0]\n",
    "best_model.summary()"
   ]
  },
  {
   "cell_type": "code",
   "execution_count": 27,
   "metadata": {
    "colab": {
     "base_uri": "https://localhost:8080/"
    },
    "executionInfo": {
     "elapsed": 513,
     "status": "ok",
     "timestamp": 1736941956478,
     "user": {
      "displayName": "yasin sütoğlu",
      "userId": "06911595719741796393"
     },
     "user_tz": -180
    },
    "id": "f_piFCcmyyS2",
    "outputId": "f6935986-5e5d-4704-b038-d2376db61d1c"
   },
   "outputs": [
    {
     "name": "stdout",
     "output_type": "stream",
     "text": [
      "\u001b[1m5/5\u001b[0m \u001b[32m━━━━━━━━━━━━━━━━━━━━\u001b[0m\u001b[37m\u001b[0m \u001b[1m0s\u001b[0m 4ms/step - accuracy: 0.8014 - loss: 0.5094  \n",
      "Validation set üzerinde loss: 0.5141968131065369, Accuracy: 0.7922077775001526\n"
     ]
    }
   ],
   "source": [
    "loss, acc = best_model.evaluate(val_ds)\n",
    "print(f\"Validation set üzerinde loss: {loss}, Accuracy: {acc}\")\n",
    "\n",
    " # SAVE THE BEST MODEL\n",
    "best_model.save('tuned_model.keras')"
   ]
  },
  {
   "cell_type": "markdown",
   "metadata": {
    "id": "ogwecJROzxgn"
   },
   "source": [
    "## D. Retrain Model for Entire Dataset"
   ]
  },
  {
   "cell_type": "code",
   "execution_count": 28,
   "metadata": {
    "executionInfo": {
     "elapsed": 446,
     "status": "ok",
     "timestamp": 1736942027743,
     "user": {
      "displayName": "yasin sütoğlu",
      "userId": "06911595719741796393"
     },
     "user_tz": -180
    },
    "id": "mhGh9qb3z4ak"
   },
   "outputs": [],
   "source": [
    "# Load best hps, dataset\n",
    "X, y = preprocess_data('/content/diabetes.csv')\n",
    "\n",
    "dataset = tf.data.Dataset.from_tensor_slices((X, y)).shuffle(buffer_size=len(X)).batch(len(X))"
   ]
  },
  {
   "cell_type": "code",
   "execution_count": 29,
   "metadata": {
    "executionInfo": {
     "elapsed": 304,
     "status": "ok",
     "timestamp": 1736942071975,
     "user": {
      "displayName": "yasin sütoğlu",
      "userId": "06911595719741796393"
     },
     "user_tz": -180
    },
    "id": "nbKDLHLn0ABc"
   },
   "outputs": [],
   "source": [
    "# Model Build\n",
    "best_hps = load('best_hps.joblib')\n",
    "\n",
    "final_tuned_model = build_model(best_hps)"
   ]
  },
  {
   "cell_type": "code",
   "execution_count": 30,
   "metadata": {
    "colab": {
     "base_uri": "https://localhost:8080/"
    },
    "executionInfo": {
     "elapsed": 3579,
     "status": "ok",
     "timestamp": 1736942099791,
     "user": {
      "displayName": "yasin sütoğlu",
      "userId": "06911595719741796393"
     },
     "user_tz": -180
    },
    "id": "N7Xbr0z10OYa",
    "outputId": "88903e7f-a16d-4d9b-b141-6682d029dc45"
   },
   "outputs": [
    {
     "name": "stdout",
     "output_type": "stream",
     "text": [
      "Epoch 1/500\n",
      "\u001b[1m1/1\u001b[0m \u001b[32m━━━━━━━━━━━━━━━━━━━━\u001b[0m\u001b[37m\u001b[0m \u001b[1m2s\u001b[0m 2s/step - accuracy: 0.4518 - loss: 1.0131\n",
      "Epoch 2/500\n",
      "\u001b[1m1/1\u001b[0m \u001b[32m━━━━━━━━━━━━━━━━━━━━\u001b[0m\u001b[37m\u001b[0m \u001b[1m0s\u001b[0m 45ms/step - accuracy: 0.5104 - loss: 0.8982\n",
      "Epoch 3/500\n",
      "\u001b[1m1/1\u001b[0m \u001b[32m━━━━━━━━━━━━━━━━━━━━\u001b[0m\u001b[37m\u001b[0m \u001b[1m0s\u001b[0m 41ms/step - accuracy: 0.5417 - loss: 0.8590\n",
      "Epoch 4/500\n",
      "\u001b[1m1/1\u001b[0m \u001b[32m━━━━━━━━━━━━━━━━━━━━\u001b[0m\u001b[37m\u001b[0m \u001b[1m0s\u001b[0m 43ms/step - accuracy: 0.5560 - loss: 0.8280\n",
      "Epoch 5/500\n",
      "\u001b[1m1/1\u001b[0m \u001b[32m━━━━━━━━━━━━━━━━━━━━\u001b[0m\u001b[37m\u001b[0m \u001b[1m0s\u001b[0m 56ms/step - accuracy: 0.5951 - loss: 0.7325\n",
      "Epoch 6/500\n",
      "\u001b[1m1/1\u001b[0m \u001b[32m━━━━━━━━━━━━━━━━━━━━\u001b[0m\u001b[37m\u001b[0m \u001b[1m0s\u001b[0m 43ms/step - accuracy: 0.6458 - loss: 0.6919\n",
      "Epoch 7/500\n",
      "\u001b[1m1/1\u001b[0m \u001b[32m━━━━━━━━━━━━━━━━━━━━\u001b[0m\u001b[37m\u001b[0m \u001b[1m0s\u001b[0m 45ms/step - accuracy: 0.6549 - loss: 0.6819\n",
      "Epoch 8/500\n",
      "\u001b[1m1/1\u001b[0m \u001b[32m━━━━━━━━━━━━━━━━━━━━\u001b[0m\u001b[37m\u001b[0m \u001b[1m0s\u001b[0m 43ms/step - accuracy: 0.6758 - loss: 0.6226\n",
      "Epoch 9/500\n",
      "\u001b[1m1/1\u001b[0m \u001b[32m━━━━━━━━━━━━━━━━━━━━\u001b[0m\u001b[37m\u001b[0m \u001b[1m0s\u001b[0m 61ms/step - accuracy: 0.7161 - loss: 0.5949\n",
      "Epoch 10/500\n",
      "\u001b[1m1/1\u001b[0m \u001b[32m━━━━━━━━━━━━━━━━━━━━\u001b[0m\u001b[37m\u001b[0m \u001b[1m0s\u001b[0m 34ms/step - accuracy: 0.6966 - loss: 0.6114\n",
      "Epoch 11/500\n",
      "\u001b[1m1/1\u001b[0m \u001b[32m━━━━━━━━━━━━━━━━━━━━\u001b[0m\u001b[37m\u001b[0m \u001b[1m0s\u001b[0m 67ms/step - accuracy: 0.7227 - loss: 0.5914\n",
      "Epoch 12/500\n",
      "\u001b[1m1/1\u001b[0m \u001b[32m━━━━━━━━━━━━━━━━━━━━\u001b[0m\u001b[37m\u001b[0m \u001b[1m0s\u001b[0m 53ms/step - accuracy: 0.7161 - loss: 0.5761\n",
      "Epoch 13/500\n",
      "\u001b[1m1/1\u001b[0m \u001b[32m━━━━━━━━━━━━━━━━━━━━\u001b[0m\u001b[37m\u001b[0m \u001b[1m0s\u001b[0m 29ms/step - accuracy: 0.7396 - loss: 0.5816\n",
      "Epoch 14/500\n",
      "\u001b[1m1/1\u001b[0m \u001b[32m━━━━━━━━━━━━━━━━━━━━\u001b[0m\u001b[37m\u001b[0m \u001b[1m0s\u001b[0m 85ms/step - accuracy: 0.7266 - loss: 0.5732\n",
      "Epoch 15/500\n",
      "\u001b[1m1/1\u001b[0m \u001b[32m━━━━━━━━━━━━━━━━━━━━\u001b[0m\u001b[37m\u001b[0m \u001b[1m0s\u001b[0m 55ms/step - accuracy: 0.7422 - loss: 0.5557\n",
      "Epoch 16/500\n",
      "\u001b[1m1/1\u001b[0m \u001b[32m━━━━━━━━━━━━━━━━━━━━\u001b[0m\u001b[37m\u001b[0m \u001b[1m0s\u001b[0m 26ms/step - accuracy: 0.7044 - loss: 0.5616\n",
      "Epoch 17/500\n",
      "\u001b[1m1/1\u001b[0m \u001b[32m━━━━━━━━━━━━━━━━━━━━\u001b[0m\u001b[37m\u001b[0m \u001b[1m0s\u001b[0m 18ms/step - accuracy: 0.7357 - loss: 0.5909\n",
      "Epoch 18/500\n",
      "\u001b[1m1/1\u001b[0m \u001b[32m━━━━━━━━━━━━━━━━━━━━\u001b[0m\u001b[37m\u001b[0m \u001b[1m0s\u001b[0m 79ms/step - accuracy: 0.7513 - loss: 0.5519\n",
      "Epoch 19/500\n",
      "\u001b[1m1/1\u001b[0m \u001b[32m━━━━━━━━━━━━━━━━━━━━\u001b[0m\u001b[37m\u001b[0m \u001b[1m0s\u001b[0m 35ms/step - accuracy: 0.7305 - loss: 0.5855\n",
      "Epoch 20/500\n",
      "\u001b[1m1/1\u001b[0m \u001b[32m━━━━━━━━━━━━━━━━━━━━\u001b[0m\u001b[37m\u001b[0m \u001b[1m0s\u001b[0m 56ms/step - accuracy: 0.7513 - loss: 0.5560\n",
      "Epoch 21/500\n",
      "\u001b[1m1/1\u001b[0m \u001b[32m━━━━━━━━━━━━━━━━━━━━\u001b[0m\u001b[37m\u001b[0m \u001b[1m0s\u001b[0m 77ms/step - accuracy: 0.7643 - loss: 0.5410\n",
      "Epoch 22/500\n",
      "\u001b[1m1/1\u001b[0m \u001b[32m━━━━━━━━━━━━━━━━━━━━\u001b[0m\u001b[37m\u001b[0m \u001b[1m0s\u001b[0m 56ms/step - accuracy: 0.7591 - loss: 0.5214\n",
      "Epoch 23/500\n",
      "\u001b[1m1/1\u001b[0m \u001b[32m━━━━━━━━━━━━━━━━━━━━\u001b[0m\u001b[37m\u001b[0m \u001b[1m0s\u001b[0m 23ms/step - accuracy: 0.7292 - loss: 0.5723\n",
      "Epoch 24/500\n",
      "\u001b[1m1/1\u001b[0m \u001b[32m━━━━━━━━━━━━━━━━━━━━\u001b[0m\u001b[37m\u001b[0m \u001b[1m0s\u001b[0m 19ms/step - accuracy: 0.7513 - loss: 0.5491\n",
      "Epoch 25/500\n",
      "\u001b[1m1/1\u001b[0m \u001b[32m━━━━━━━━━━━━━━━━━━━━\u001b[0m\u001b[37m\u001b[0m \u001b[1m0s\u001b[0m 21ms/step - accuracy: 0.7318 - loss: 0.5608\n",
      "Epoch 26/500\n",
      "\u001b[1m1/1\u001b[0m \u001b[32m━━━━━━━━━━━━━━━━━━━━\u001b[0m\u001b[37m\u001b[0m \u001b[1m0s\u001b[0m 54ms/step - accuracy: 0.7383 - loss: 0.5229\n",
      "Epoch 27/500\n",
      "\u001b[1m1/1\u001b[0m \u001b[32m━━━━━━━━━━━━━━━━━━━━\u001b[0m\u001b[37m\u001b[0m \u001b[1m0s\u001b[0m 55ms/step - accuracy: 0.7578 - loss: 0.5239\n",
      "Epoch 27: early stopping\n",
      "Restoring model weights from the end of the best epoch: 22.\n"
     ]
    }
   ],
   "source": [
    " # TRAINING\n",
    " early_stopping = EarlyStopping(\n",
    "    monitor='loss',\n",
    "    patience=5,\n",
    "    verbose=1,\n",
    "    restore_best_weights=True)\n",
    "\n",
    "model_checkpoint = ModelCheckpoint(\n",
    "    'final_tuned_model.keras',\n",
    "    monitor='loss',\n",
    "    verbose=0,\n",
    "    save_best_only=True)\n",
    "\n",
    "final_history = final_tuned_model.fit(dataset,\n",
    "            epochs=500,# 100 would be better for this case.\n",
    "            verbose=1,\n",
    "            callbacks=[early_stopping, model_checkpoint])"
   ]
  },
  {
   "cell_type": "code",
   "execution_count": 31,
   "metadata": {
    "colab": {
     "base_uri": "https://localhost:8080/"
    },
    "executionInfo": {
     "elapsed": 429,
     "status": "ok",
     "timestamp": 1736942140941,
     "user": {
      "displayName": "yasin sütoğlu",
      "userId": "06911595719741796393"
     },
     "user_tz": -180
    },
    "id": "3BLZk1Rf0Q1d",
    "outputId": "6c989931-d956-4fb3-ecf0-97a8f15499be"
   },
   "outputs": [
    {
     "name": "stdout",
     "output_type": "stream",
     "text": [
      "Best epoch details: {'accuracy': 0.7591145634651184, 'loss': 0.521384596824646, 'best_epoch': 22}\n"
     ]
    }
   ],
   "source": [
    "def get_best_epoch_details(history):\n",
    "    val_losses = history.history['loss']\n",
    "    min_val_loss_index = val_losses.index(min(val_losses))\n",
    "    best_epoch = min_val_loss_index + 1\n",
    "\n",
    "    epoch_details = {}\n",
    "    for key in history.history.keys():\n",
    "        epoch_details[key] = history.history[key][min_val_loss_index]\n",
    "\n",
    "    epoch_details['best_epoch'] = best_epoch\n",
    "    print(f\"Best epoch details: {epoch_details}\")\n",
    "\n",
    "get_best_epoch_details(final_history)"
   ]
  },
  {
   "cell_type": "code",
   "execution_count": 32,
   "metadata": {
    "executionInfo": {
     "elapsed": 416,
     "status": "ok",
     "timestamp": 1736942168306,
     "user": {
      "displayName": "yasin sütoğlu",
      "userId": "06911595719741796393"
     },
     "user_tz": -180
    },
    "id": "ndWx0tQQ0f2o"
   },
   "outputs": [],
   "source": [
    "# PREDICTION\n",
    "diabetes_data = pd.read_csv('/content/diabetes.csv')\n",
    "\n",
    "scaler = load('scaler.joblib')\n",
    "\n",
    "loaded_final_tuned_model = load_model(\"/content/final_tuned_model.keras\", compile=False)"
   ]
  },
  {
   "cell_type": "code",
   "execution_count": 33,
   "metadata": {
    "colab": {
     "base_uri": "https://localhost:8080/"
    },
    "executionInfo": {
     "elapsed": 303,
     "status": "ok",
     "timestamp": 1736942198826,
     "user": {
      "displayName": "yasin sütoğlu",
      "userId": "06911595719741796393"
     },
     "user_tz": -180
    },
    "id": "XL1lQ2Qg0iWe",
    "outputId": "1bf3da23-6613-4e13-92aa-b593c81b5d8e"
   },
   "outputs": [
    {
     "name": "stdout",
     "output_type": "stream",
     "text": [
      "\u001b[1m1/1\u001b[0m \u001b[32m━━━━━━━━━━━━━━━━━━━━\u001b[0m\u001b[37m\u001b[0m \u001b[1m0s\u001b[0m 52ms/step\n"
     ]
    },
    {
     "data": {
      "text/plain": [
       "array([[0.456737  ],\n",
       "       [0.24981508],\n",
       "       [0.465028  ],\n",
       "       [0.2488339 ],\n",
       "       [0.5667088 ],\n",
       "       [0.33804178],\n",
       "       [0.27141044],\n",
       "       [0.46307394],\n",
       "       [0.4860419 ],\n",
       "       [0.2637618 ]], dtype=float32)"
      ]
     },
     "execution_count": 33,
     "metadata": {},
     "output_type": "execute_result"
    }
   ],
   "source": [
    "def random_samples(scaler, data, num_samples=100):\n",
    "    X = data.drop('Outcome', axis=1)\n",
    "    X_scaled = scaler.fit_transform(X)\n",
    "    new_dataset = tf.data.Dataset.from_tensor_slices((X_scaled)).batch(len(X))\n",
    "    return new_dataset\n",
    "\n",
    "random_samples = random_samples(scaler, diabetes_data)\n",
    "\n",
    "loaded_final_tuned_model.predict(random_samples)[:10]"
   ]
  },
  {
   "cell_type": "markdown",
   "metadata": {
    "id": "neb601dU0-1g"
   },
   "source": [
    "***Suggestion => When we have a large number of candidate hyperparameters, it may be a reasonable approach to first pass them through random search and then enter the hyperparameter values they bring to us into grid search by adding certain numbers around them.***"
   ]
  }
 ],
 "metadata": {
  "colab": {
   "authorship_tag": "ABX9TyPj69MBTKFWuZMiXL500K0Y",
   "mount_file_id": "1E19P_fFIlYkM_oT_-6l_KAQOlt_cO6R2",
   "provenance": []
  },
  "kernelspec": {
   "display_name": "Python 3 (ipykernel)",
   "language": "python",
   "name": "python3"
  },
  "language_info": {
   "codemirror_mode": {
    "name": "ipython",
    "version": 3
   },
   "file_extension": ".py",
   "mimetype": "text/x-python",
   "name": "python",
   "nbconvert_exporter": "python",
   "pygments_lexer": "ipython3",
   "version": "3.11.5"
  }
 },
 "nbformat": 4,
 "nbformat_minor": 4
}
