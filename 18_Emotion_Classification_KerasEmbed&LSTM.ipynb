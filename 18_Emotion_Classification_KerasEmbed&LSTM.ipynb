{
 "cells": [
  {
   "cell_type": "markdown",
   "metadata": {
    "id": "H2ZR3SvRnB1m"
   },
   "source": [
    "# Emotion Classification with Keras Embedding & LSTM\n",
    "\n",
    "Collection of documents and its emotions, It helps greatly in NLP Classification tasks\n",
    "\n",
    "https://www.kaggle.com/datasets/praveengovi/emotions-dataset-for-nlp\n"
   ]
  },
  {
   "cell_type": "code",
   "execution_count": 1,
   "metadata": {
    "executionInfo": {
     "elapsed": 19698,
     "status": "ok",
     "timestamp": 1739792230033,
     "user": {
      "displayName": "yasin sütoğlu",
      "userId": "06911595719741796393"
     },
     "user_tz": -180
    },
    "id": "vp29DZAemna_"
   },
   "outputs": [],
   "source": [
    "import zipfile\n",
    "import os\n",
    "import re\n",
    "import nltk\n",
    "import pandas as pd\n",
    "import numpy as np\n",
    "import matplotlib.pyplot as plt\n",
    "from sklearn.metrics.pairwise import cosine_similarity\n",
    "from sklearn.model_selection import train_test_split\n",
    "from nltk.corpus import stopwords\n",
    "from tensorflow.keras.preprocessing.text import Tokenizer\n",
    "from tensorflow.keras.preprocessing.sequence import pad_sequences\n",
    "from keras.models import Sequential\n",
    "from tensorflow.keras.layers import Embedding, LSTM, Dense, Dropout, BatchNormalization\n",
    "# Keras Embedding Layer => which can convert word indices into fixed-size vectors and \n",
    "# It is a layer that learns these vectors during model training. We use it when learning vectors from scracth.\n",
    "from sklearn.metrics import classification_report, accuracy_score\n",
    "from tensorflow.keras.callbacks import EarlyStopping\n",
    "from keras.optimizers import Adam\n",
    "from sklearn.decomposition import PCA"
   ]
  },
  {
   "cell_type": "markdown",
   "metadata": {
    "id": "WEP9KhoEtsD0"
   },
   "source": [
    "## Data Understanding"
   ]
  },
  {
   "cell_type": "code",
   "execution_count": 2,
   "metadata": {
    "executionInfo": {
     "elapsed": 1481,
     "status": "ok",
     "timestamp": 1739792294994,
     "user": {
      "displayName": "yasin sütoğlu",
      "userId": "06911595719741796393"
     },
     "user_tz": -180
    },
    "id": "XbmpbLLNsjAe"
   },
   "outputs": [],
   "source": [
    "train_df = pd.read_csv('../emotion_dataset/train.txt', sep=';', header=None, names=['text', 'label'])\n",
    "val_df = pd.read_csv('../emotion_dataset/val.txt', sep=';', header=None, names=['text', 'label'])\n",
    "test_df = pd.read_csv('../emotion_dataset/test.txt', sep=';', header=None, names=['text', 'label'])"
   ]
  },
  {
   "cell_type": "code",
   "execution_count": 3,
   "metadata": {
    "colab": {
     "base_uri": "https://localhost:8080/"
    },
    "executionInfo": {
     "elapsed": 269,
     "status": "ok",
     "timestamp": 1739792470702,
     "user": {
      "displayName": "yasin sütoğlu",
      "userId": "06911595719741796393"
     },
     "user_tz": -180
    },
    "id": "s7Vo2e4mtkfM",
    "outputId": "a96c4a0b-1054-43d7-988c-9f76c4073a00"
   },
   "outputs": [
    {
     "data": {
      "text/plain": [
       "((16000, 2), (2000, 2), (2000, 2))"
      ]
     },
     "execution_count": 3,
     "metadata": {},
     "output_type": "execute_result"
    }
   ],
   "source": [
    "train_df.shape, val_df.shape, test_df.shape"
   ]
  },
  {
   "cell_type": "code",
   "execution_count": 4,
   "metadata": {
    "colab": {
     "base_uri": "https://localhost:8080/"
    },
    "executionInfo": {
     "elapsed": 243,
     "status": "ok",
     "timestamp": 1739792481199,
     "user": {
      "displayName": "yasin sütoğlu",
      "userId": "06911595719741796393"
     },
     "user_tz": -180
    },
    "id": "aBEBzreMtk_f",
    "outputId": "a1c4caa4-6c04-434d-9322-d2336a4cb9cb"
   },
   "outputs": [
    {
     "name": "stdout",
     "output_type": "stream",
     "text": [
      "                                                text    label\n",
      "0                            i didnt feel humiliated  sadness\n",
      "1  i can go from feeling so hopeless to so damned...  sadness\n",
      "2   im grabbing a minute to post i feel greedy wrong    anger\n",
      "3  i am ever feeling nostalgic about the fireplac...     love\n",
      "4                               i am feeling grouchy    anger\n",
      "                                                text    label\n",
      "0  im feeling quite sad and sorry for myself but ...  sadness\n",
      "1  i feel like i am still looking at a blank canv...  sadness\n",
      "2                     i feel like a faithful servant     love\n",
      "3                  i am just feeling cranky and blue    anger\n",
      "4  i can have for a treat or if i am feeling festive      joy\n",
      "                                                text    label\n",
      "0  im feeling rather rotten so im not very ambiti...  sadness\n",
      "1          im updating my blog because i feel shitty  sadness\n",
      "2  i never make her separate from me because i do...  sadness\n",
      "3  i left with my bouquet of red and yellow tulip...      joy\n",
      "4    i was feeling a little vain when i did this one  sadness\n"
     ]
    }
   ],
   "source": [
    "print(train_df.head())\n",
    "print(val_df.head())\n",
    "print(test_df.head())"
   ]
  },
  {
   "cell_type": "code",
   "execution_count": 5,
   "metadata": {
    "colab": {
     "base_uri": "https://localhost:8080/"
    },
    "executionInfo": {
     "elapsed": 278,
     "status": "ok",
     "timestamp": 1739792526445,
     "user": {
      "displayName": "yasin sütoğlu",
      "userId": "06911595719741796393"
     },
     "user_tz": -180
    },
    "id": "F1rJwzNbtnk8",
    "outputId": "6352992e-c364-40ff-bf87-330756e4faa1"
   },
   "outputs": [
    {
     "name": "stdout",
     "output_type": "stream",
     "text": [
      "label\n",
      "joy         33.51250\n",
      "sadness     29.16250\n",
      "anger       13.49375\n",
      "fear        12.10625\n",
      "love         8.15000\n",
      "surprise     3.57500\n",
      "Name: count, dtype: float64\n",
      "label\n",
      "joy         35.20\n",
      "sadness     27.50\n",
      "anger       13.75\n",
      "fear        10.60\n",
      "love         8.90\n",
      "surprise     4.05\n",
      "Name: count, dtype: float64\n",
      "label\n",
      "joy         34.75\n",
      "sadness     29.05\n",
      "anger       13.75\n",
      "fear        11.20\n",
      "love         7.95\n",
      "surprise     3.30\n",
      "Name: count, dtype: float64\n"
     ]
    }
   ],
   "source": [
    "print(train_df[\"label\"].value_counts()/len(train_df)*100)\n",
    "print(val_df[\"label\"].value_counts()/len(val_df)*100)\n",
    "print(test_df[\"label\"].value_counts()/len(test_df)*100)"
   ]
  },
  {
   "cell_type": "markdown",
   "metadata": {
    "id": "FBz8m3Tvt0dG"
   },
   "source": [
    "## Text Preprocessing"
   ]
  },
  {
   "cell_type": "code",
   "execution_count": 6,
   "metadata": {
    "colab": {
     "base_uri": "https://localhost:8080/"
    },
    "executionInfo": {
     "elapsed": 838,
     "status": "ok",
     "timestamp": 1739792559212,
     "user": {
      "displayName": "yasin sütoğlu",
      "userId": "06911595719741796393"
     },
     "user_tz": -180
    },
    "id": "V_g5UXPrtygT",
    "outputId": "a909f53f-2fdf-47c0-8a3f-98a0c700355e"
   },
   "outputs": [
    {
     "name": "stderr",
     "output_type": "stream",
     "text": [
      "[nltk_data] Downloading package stopwords to /root/nltk_data...\n",
      "[nltk_data]   Unzipping corpora/stopwords.zip.\n"
     ]
    }
   ],
   "source": [
    "nltk.download('stopwords')\n",
    "stop_words = set(stopwords.words('english'))\n",
    "\n",
    "def clean_text(text):\n",
    "    text = re.sub(r'[^\\w\\s]', '', text)  # punctuations\n",
    "    text = text.lower()  # lower case\n",
    "    text = re.sub(r'\\d+', '', text)  # numbers\n",
    "    text = ' '.join([word for word in text.split() if word not in stop_words])  # Stopwords\n",
    "    text = re.sub(r'\\s+', ' ', text).strip()  # space\n",
    "    \n",
    "    return text\n",
    "\n",
    "train_df['text'] = train_df['text'].apply(clean_text)\n",
    "val_df['text'] = val_df['text'].apply(clean_text)\n",
    "test_df['text'] = test_df['text'].apply(clean_text)"
   ]
  },
  {
   "cell_type": "code",
   "execution_count": 7,
   "metadata": {
    "executionInfo": {
     "elapsed": 264,
     "status": "ok",
     "timestamp": 1739792581599,
     "user": {
      "displayName": "yasin sütoğlu",
      "userId": "06911595719741796393"
     },
     "user_tz": -180
    },
    "id": "CS6jaty_t_fe"
   },
   "outputs": [],
   "source": [
    "label_to_int = {'joy': 0, 'sadness': 1, 'anger': 2, 'fear': 3, 'love': 4, 'surprise': 5}\n",
    "\n",
    "# To subject the labels to numerical coding process\n",
    "train_df['label'] = train_df['label'].map(label_to_int)\n",
    "val_df['label'] = val_df['label'].map(label_to_int)\n",
    "test_df['label'] = test_df['label'].map(label_to_int)"
   ]
  },
  {
   "cell_type": "code",
   "execution_count": 8,
   "metadata": {
    "colab": {
     "base_uri": "https://localhost:8080/",
     "height": 206
    },
    "executionInfo": {
     "elapsed": 17,
     "status": "ok",
     "timestamp": 1739792592549,
     "user": {
      "displayName": "yasin sütoğlu",
      "userId": "06911595719741796393"
     },
     "user_tz": -180
    },
    "id": "_E1KWCc7t_-T",
    "outputId": "7d365aee-1f58-4ce2-d1aa-a9e78e583e86"
   },
   "outputs": [
    {
     "data": {
      "application/vnd.google.colaboratory.intrinsic+json": {
       "summary": "{\n  \"name\": \"train_df\",\n  \"rows\": 16000,\n  \"fields\": [\n    {\n      \"column\": \"text\",\n      \"properties\": {\n        \"dtype\": \"string\",\n        \"num_unique_values\": 15880,\n        \"samples\": [\n          \"dont know feel seems sincere\",\n          \"feel blank loss hey old hat\",\n          \"throw ocean feel would missed something career win oscar\"\n        ],\n        \"semantic_type\": \"\",\n        \"description\": \"\"\n      }\n    },\n    {\n      \"column\": \"label\",\n      \"properties\": {\n        \"dtype\": \"number\",\n        \"std\": 1,\n        \"min\": 0,\n        \"max\": 5,\n        \"num_unique_values\": 6,\n        \"samples\": [\n          1,\n          2,\n          0\n        ],\n        \"semantic_type\": \"\",\n        \"description\": \"\"\n      }\n    }\n  ]\n}",
       "type": "dataframe",
       "variable_name": "train_df"
      },
      "text/html": [
       "\n",
       "  <div id=\"df-b5bfb539-36cc-445e-b998-922ea75e558b\" class=\"colab-df-container\">\n",
       "    <div>\n",
       "<style scoped>\n",
       "    .dataframe tbody tr th:only-of-type {\n",
       "        vertical-align: middle;\n",
       "    }\n",
       "\n",
       "    .dataframe tbody tr th {\n",
       "        vertical-align: top;\n",
       "    }\n",
       "\n",
       "    .dataframe thead th {\n",
       "        text-align: right;\n",
       "    }\n",
       "</style>\n",
       "<table border=\"1\" class=\"dataframe\">\n",
       "  <thead>\n",
       "    <tr style=\"text-align: right;\">\n",
       "      <th></th>\n",
       "      <th>text</th>\n",
       "      <th>label</th>\n",
       "    </tr>\n",
       "  </thead>\n",
       "  <tbody>\n",
       "    <tr>\n",
       "      <th>0</th>\n",
       "      <td>didnt feel humiliated</td>\n",
       "      <td>1</td>\n",
       "    </tr>\n",
       "    <tr>\n",
       "      <th>1</th>\n",
       "      <td>go feeling hopeless damned hopeful around some...</td>\n",
       "      <td>1</td>\n",
       "    </tr>\n",
       "    <tr>\n",
       "      <th>2</th>\n",
       "      <td>im grabbing minute post feel greedy wrong</td>\n",
       "      <td>2</td>\n",
       "    </tr>\n",
       "    <tr>\n",
       "      <th>3</th>\n",
       "      <td>ever feeling nostalgic fireplace know still pr...</td>\n",
       "      <td>4</td>\n",
       "    </tr>\n",
       "    <tr>\n",
       "      <th>4</th>\n",
       "      <td>feeling grouchy</td>\n",
       "      <td>2</td>\n",
       "    </tr>\n",
       "  </tbody>\n",
       "</table>\n",
       "</div>\n",
       "    <div class=\"colab-df-buttons\">\n",
       "\n",
       "  <div class=\"colab-df-container\">\n",
       "    <button class=\"colab-df-convert\" onclick=\"convertToInteractive('df-b5bfb539-36cc-445e-b998-922ea75e558b')\"\n",
       "            title=\"Convert this dataframe to an interactive table.\"\n",
       "            style=\"display:none;\">\n",
       "\n",
       "  <svg xmlns=\"http://www.w3.org/2000/svg\" height=\"24px\" viewBox=\"0 -960 960 960\">\n",
       "    <path d=\"M120-120v-720h720v720H120Zm60-500h600v-160H180v160Zm220 220h160v-160H400v160Zm0 220h160v-160H400v160ZM180-400h160v-160H180v160Zm440 0h160v-160H620v160ZM180-180h160v-160H180v160Zm440 0h160v-160H620v160Z\"/>\n",
       "  </svg>\n",
       "    </button>\n",
       "\n",
       "  <style>\n",
       "    .colab-df-container {\n",
       "      display:flex;\n",
       "      gap: 12px;\n",
       "    }\n",
       "\n",
       "    .colab-df-convert {\n",
       "      background-color: #E8F0FE;\n",
       "      border: none;\n",
       "      border-radius: 50%;\n",
       "      cursor: pointer;\n",
       "      display: none;\n",
       "      fill: #1967D2;\n",
       "      height: 32px;\n",
       "      padding: 0 0 0 0;\n",
       "      width: 32px;\n",
       "    }\n",
       "\n",
       "    .colab-df-convert:hover {\n",
       "      background-color: #E2EBFA;\n",
       "      box-shadow: 0px 1px 2px rgba(60, 64, 67, 0.3), 0px 1px 3px 1px rgba(60, 64, 67, 0.15);\n",
       "      fill: #174EA6;\n",
       "    }\n",
       "\n",
       "    .colab-df-buttons div {\n",
       "      margin-bottom: 4px;\n",
       "    }\n",
       "\n",
       "    [theme=dark] .colab-df-convert {\n",
       "      background-color: #3B4455;\n",
       "      fill: #D2E3FC;\n",
       "    }\n",
       "\n",
       "    [theme=dark] .colab-df-convert:hover {\n",
       "      background-color: #434B5C;\n",
       "      box-shadow: 0px 1px 3px 1px rgba(0, 0, 0, 0.15);\n",
       "      filter: drop-shadow(0px 1px 2px rgba(0, 0, 0, 0.3));\n",
       "      fill: #FFFFFF;\n",
       "    }\n",
       "  </style>\n",
       "\n",
       "    <script>\n",
       "      const buttonEl =\n",
       "        document.querySelector('#df-b5bfb539-36cc-445e-b998-922ea75e558b button.colab-df-convert');\n",
       "      buttonEl.style.display =\n",
       "        google.colab.kernel.accessAllowed ? 'block' : 'none';\n",
       "\n",
       "      async function convertToInteractive(key) {\n",
       "        const element = document.querySelector('#df-b5bfb539-36cc-445e-b998-922ea75e558b');\n",
       "        const dataTable =\n",
       "          await google.colab.kernel.invokeFunction('convertToInteractive',\n",
       "                                                    [key], {});\n",
       "        if (!dataTable) return;\n",
       "\n",
       "        const docLinkHtml = 'Like what you see? Visit the ' +\n",
       "          '<a target=\"_blank\" href=https://colab.research.google.com/notebooks/data_table.ipynb>data table notebook</a>'\n",
       "          + ' to learn more about interactive tables.';\n",
       "        element.innerHTML = '';\n",
       "        dataTable['output_type'] = 'display_data';\n",
       "        await google.colab.output.renderOutput(dataTable, element);\n",
       "        const docLink = document.createElement('div');\n",
       "        docLink.innerHTML = docLinkHtml;\n",
       "        element.appendChild(docLink);\n",
       "      }\n",
       "    </script>\n",
       "  </div>\n",
       "\n",
       "\n",
       "<div id=\"df-b18a2007-e361-4f20-ae4b-ab873bd895c8\">\n",
       "  <button class=\"colab-df-quickchart\" onclick=\"quickchart('df-b18a2007-e361-4f20-ae4b-ab873bd895c8')\"\n",
       "            title=\"Suggest charts\"\n",
       "            style=\"display:none;\">\n",
       "\n",
       "<svg xmlns=\"http://www.w3.org/2000/svg\" height=\"24px\"viewBox=\"0 0 24 24\"\n",
       "     width=\"24px\">\n",
       "    <g>\n",
       "        <path d=\"M19 3H5c-1.1 0-2 .9-2 2v14c0 1.1.9 2 2 2h14c1.1 0 2-.9 2-2V5c0-1.1-.9-2-2-2zM9 17H7v-7h2v7zm4 0h-2V7h2v10zm4 0h-2v-4h2v4z\"/>\n",
       "    </g>\n",
       "</svg>\n",
       "  </button>\n",
       "\n",
       "<style>\n",
       "  .colab-df-quickchart {\n",
       "      --bg-color: #E8F0FE;\n",
       "      --fill-color: #1967D2;\n",
       "      --hover-bg-color: #E2EBFA;\n",
       "      --hover-fill-color: #174EA6;\n",
       "      --disabled-fill-color: #AAA;\n",
       "      --disabled-bg-color: #DDD;\n",
       "  }\n",
       "\n",
       "  [theme=dark] .colab-df-quickchart {\n",
       "      --bg-color: #3B4455;\n",
       "      --fill-color: #D2E3FC;\n",
       "      --hover-bg-color: #434B5C;\n",
       "      --hover-fill-color: #FFFFFF;\n",
       "      --disabled-bg-color: #3B4455;\n",
       "      --disabled-fill-color: #666;\n",
       "  }\n",
       "\n",
       "  .colab-df-quickchart {\n",
       "    background-color: var(--bg-color);\n",
       "    border: none;\n",
       "    border-radius: 50%;\n",
       "    cursor: pointer;\n",
       "    display: none;\n",
       "    fill: var(--fill-color);\n",
       "    height: 32px;\n",
       "    padding: 0;\n",
       "    width: 32px;\n",
       "  }\n",
       "\n",
       "  .colab-df-quickchart:hover {\n",
       "    background-color: var(--hover-bg-color);\n",
       "    box-shadow: 0 1px 2px rgba(60, 64, 67, 0.3), 0 1px 3px 1px rgba(60, 64, 67, 0.15);\n",
       "    fill: var(--button-hover-fill-color);\n",
       "  }\n",
       "\n",
       "  .colab-df-quickchart-complete:disabled,\n",
       "  .colab-df-quickchart-complete:disabled:hover {\n",
       "    background-color: var(--disabled-bg-color);\n",
       "    fill: var(--disabled-fill-color);\n",
       "    box-shadow: none;\n",
       "  }\n",
       "\n",
       "  .colab-df-spinner {\n",
       "    border: 2px solid var(--fill-color);\n",
       "    border-color: transparent;\n",
       "    border-bottom-color: var(--fill-color);\n",
       "    animation:\n",
       "      spin 1s steps(1) infinite;\n",
       "  }\n",
       "\n",
       "  @keyframes spin {\n",
       "    0% {\n",
       "      border-color: transparent;\n",
       "      border-bottom-color: var(--fill-color);\n",
       "      border-left-color: var(--fill-color);\n",
       "    }\n",
       "    20% {\n",
       "      border-color: transparent;\n",
       "      border-left-color: var(--fill-color);\n",
       "      border-top-color: var(--fill-color);\n",
       "    }\n",
       "    30% {\n",
       "      border-color: transparent;\n",
       "      border-left-color: var(--fill-color);\n",
       "      border-top-color: var(--fill-color);\n",
       "      border-right-color: var(--fill-color);\n",
       "    }\n",
       "    40% {\n",
       "      border-color: transparent;\n",
       "      border-right-color: var(--fill-color);\n",
       "      border-top-color: var(--fill-color);\n",
       "    }\n",
       "    60% {\n",
       "      border-color: transparent;\n",
       "      border-right-color: var(--fill-color);\n",
       "    }\n",
       "    80% {\n",
       "      border-color: transparent;\n",
       "      border-right-color: var(--fill-color);\n",
       "      border-bottom-color: var(--fill-color);\n",
       "    }\n",
       "    90% {\n",
       "      border-color: transparent;\n",
       "      border-bottom-color: var(--fill-color);\n",
       "    }\n",
       "  }\n",
       "</style>\n",
       "\n",
       "  <script>\n",
       "    async function quickchart(key) {\n",
       "      const quickchartButtonEl =\n",
       "        document.querySelector('#' + key + ' button');\n",
       "      quickchartButtonEl.disabled = true;  // To prevent multiple clicks.\n",
       "      quickchartButtonEl.classList.add('colab-df-spinner');\n",
       "      try {\n",
       "        const charts = await google.colab.kernel.invokeFunction(\n",
       "            'suggestCharts', [key], {});\n",
       "      } catch (error) {\n",
       "        console.error('Error during call to suggestCharts:', error);\n",
       "      }\n",
       "      quickchartButtonEl.classList.remove('colab-df-spinner');\n",
       "      quickchartButtonEl.classList.add('colab-df-quickchart-complete');\n",
       "    }\n",
       "    (() => {\n",
       "      let quickchartButtonEl =\n",
       "        document.querySelector('#df-b18a2007-e361-4f20-ae4b-ab873bd895c8 button');\n",
       "      quickchartButtonEl.style.display =\n",
       "        google.colab.kernel.accessAllowed ? 'block' : 'none';\n",
       "    })();\n",
       "  </script>\n",
       "</div>\n",
       "\n",
       "    </div>\n",
       "  </div>\n"
      ],
      "text/plain": [
       "                                                text  label\n",
       "0                              didnt feel humiliated      1\n",
       "1  go feeling hopeless damned hopeful around some...      1\n",
       "2          im grabbing minute post feel greedy wrong      2\n",
       "3  ever feeling nostalgic fireplace know still pr...      4\n",
       "4                                    feeling grouchy      2"
      ]
     },
     "execution_count": 8,
     "metadata": {},
     "output_type": "execute_result"
    }
   ],
   "source": [
    "train_df.head()"
   ]
  },
  {
   "cell_type": "markdown",
   "metadata": {
    "id": "roXU3y3quKbI"
   },
   "source": [
    "## Tokenizer and Text Sequence\n",
    "\n",
    "***NOTE: We first tokenize the text and then convert it to numeric strings.***\n",
    "\n",
    "text = \"Bu bir örnek cümledir.\"\n",
    "\n",
    "tokens = [\"Bu\", \"bir\", \"örnek\", \"cümledir\"]\n",
    "\n",
    "\"Bu\" -> 1\n",
    "\n",
    "\"bir\" -> 2\n",
    "\n",
    "\"örnek\" -> 3\n",
    "\n",
    "\"cümledir\" -> 4\n",
    "\n",
    "sequence = [1, 2, 3, 4]"
   ]
  },
  {
   "cell_type": "code",
   "execution_count": 9,
   "metadata": {
    "executionInfo": {
     "elapsed": 1541,
     "status": "ok",
     "timestamp": 1739792643411,
     "user": {
      "displayName": "yasin sütoğlu",
      "userId": "06911595719741796393"
     },
     "user_tz": -180
    },
    "id": "grSSCtWOuClT"
   },
   "outputs": [],
   "source": [
    "max_words = 10000\n",
    "\n",
    "tokenizer = Tokenizer(num_words=max_words)\n",
    "\n",
    "tokenizer.fit_on_texts(train_df['text'])\n",
    "\n",
    "# We obtain numerical arrays in which each word will be converted to the corresponding index.\n",
    "X_train = tokenizer.texts_to_sequences(train_df['text'])\n",
    "X_val = tokenizer.texts_to_sequences(val_df['text'])\n",
    "X_test = tokenizer.texts_to_sequences(test_df['text'])"
   ]
  },
  {
   "cell_type": "markdown",
   "metadata": {
    "id": "iuf12WZyuSAM"
   },
   "source": [
    "## Pad Sequences\n",
    "\n",
    "**NOT**: ***It is the process of converting text data into fixed-length strings. Because neural networks such as LSTM require fixed-size inputs.***\n",
    "\n",
    "X_train = [[1, 2, 3], [4, 5, 6, 7, 8], [9]]\n",
    "\n",
    "max_len = 5\n",
    "\n",
    "**X_train = pad_sequences( X_train , maxlen=max_len )**\n",
    "\n",
    "X_train = [ [0, 0, 1, 2, 3],  \n",
    "    [4, 5, 6, 7, 8],       \n",
    "    [0, 0, 0, 0, 9] ]"
   ]
  },
  {
   "cell_type": "code",
   "execution_count": 10,
   "metadata": {
    "executionInfo": {
     "elapsed": 252,
     "status": "ok",
     "timestamp": 1739792667152,
     "user": {
      "displayName": "yasin sütoğlu",
      "userId": "06911595719741796393"
     },
     "user_tz": -180
    },
    "id": "TQjAUqO1uO2z"
   },
   "outputs": [],
   "source": [
    "max_len = 100\n",
    "\n",
    "X_train = pad_sequences(X_train, maxlen=max_len)\n",
    "\n",
    "X_val = pad_sequences(X_val, maxlen=max_len)\n",
    "\n",
    "X_test = pad_sequences(X_test, maxlen=max_len)"
   ]
  },
  {
   "cell_type": "code",
   "execution_count": 11,
   "metadata": {
    "executionInfo": {
     "elapsed": 4,
     "status": "ok",
     "timestamp": 1739792676377,
     "user": {
      "displayName": "yasin sütoğlu",
      "userId": "06911595719741796393"
     },
     "user_tz": -180
    },
    "id": "f7B3CgwPuU97"
   },
   "outputs": [],
   "source": [
    "y_train = train_df['label']\n",
    "y_val = val_df['label']\n",
    "y_test = test_df['label']"
   ]
  },
  {
   "cell_type": "markdown",
   "metadata": {
    "id": "5BqczDmouaTd"
   },
   "source": [
    "## Modeling with Keras Word Embedding"
   ]
  },
  {
   "cell_type": "code",
   "execution_count": 12,
   "metadata": {
    "colab": {
     "base_uri": "https://localhost:8080/",
     "height": 352
    },
    "executionInfo": {
     "elapsed": 530,
     "status": "ok",
     "timestamp": 1739792703249,
     "user": {
      "displayName": "yasin sütoğlu",
      "userId": "06911595719741796393"
     },
     "user_tz": -180
    },
    "id": "XdCmoLlquXO7",
    "outputId": "15d34765-b523-4253-f3f1-a30b980bf5fc"
   },
   "outputs": [
    {
     "name": "stderr",
     "output_type": "stream",
     "text": [
      "/usr/local/lib/python3.11/dist-packages/keras/src/layers/core/embedding.py:90: UserWarning: Argument `input_length` is deprecated. Just remove it.\n",
      "  warnings.warn(\n"
     ]
    },
    {
     "data": {
      "text/html": [
       "<pre style=\"white-space:pre;overflow-x:auto;line-height:normal;font-family:Menlo,'DejaVu Sans Mono',consolas,'Courier New',monospace\"><span style=\"font-weight: bold\">Model: \"sequential\"</span>\n",
       "</pre>\n"
      ],
      "text/plain": [
       "\u001b[1mModel: \"sequential\"\u001b[0m\n"
      ]
     },
     "metadata": {},
     "output_type": "display_data"
    },
    {
     "data": {
      "text/html": [
       "<pre style=\"white-space:pre;overflow-x:auto;line-height:normal;font-family:Menlo,'DejaVu Sans Mono',consolas,'Courier New',monospace\">┏━━━━━━━━━━━━━━━━━━━━━━━━━━━━━━━━━━━━━━┳━━━━━━━━━━━━━━━━━━━━━━━━━━━━━┳━━━━━━━━━━━━━━━━━┓\n",
       "┃<span style=\"font-weight: bold\"> Layer (type)                         </span>┃<span style=\"font-weight: bold\"> Output Shape                </span>┃<span style=\"font-weight: bold\">         Param # </span>┃\n",
       "┡━━━━━━━━━━━━━━━━━━━━━━━━━━━━━━━━━━━━━━╇━━━━━━━━━━━━━━━━━━━━━━━━━━━━━╇━━━━━━━━━━━━━━━━━┩\n",
       "│ embedding_layer (<span style=\"color: #0087ff; text-decoration-color: #0087ff\">Embedding</span>)          │ ?                           │     <span style=\"color: #00af00; text-decoration-color: #00af00\">0</span> (unbuilt) │\n",
       "├──────────────────────────────────────┼─────────────────────────────┼─────────────────┤\n",
       "│ lstm (<span style=\"color: #0087ff; text-decoration-color: #0087ff\">LSTM</span>)                          │ ?                           │     <span style=\"color: #00af00; text-decoration-color: #00af00\">0</span> (unbuilt) │\n",
       "├──────────────────────────────────────┼─────────────────────────────┼─────────────────┤\n",
       "│ batch_normalization                  │ ?                           │     <span style=\"color: #00af00; text-decoration-color: #00af00\">0</span> (unbuilt) │\n",
       "│ (<span style=\"color: #0087ff; text-decoration-color: #0087ff\">BatchNormalization</span>)                 │                             │                 │\n",
       "├──────────────────────────────────────┼─────────────────────────────┼─────────────────┤\n",
       "│ dropout (<span style=\"color: #0087ff; text-decoration-color: #0087ff\">Dropout</span>)                    │ ?                           │               <span style=\"color: #00af00; text-decoration-color: #00af00\">0</span> │\n",
       "├──────────────────────────────────────┼─────────────────────────────┼─────────────────┤\n",
       "│ dense (<span style=\"color: #0087ff; text-decoration-color: #0087ff\">Dense</span>)                        │ ?                           │     <span style=\"color: #00af00; text-decoration-color: #00af00\">0</span> (unbuilt) │\n",
       "└──────────────────────────────────────┴─────────────────────────────┴─────────────────┘\n",
       "</pre>\n"
      ],
      "text/plain": [
       "┏━━━━━━━━━━━━━━━━━━━━━━━━━━━━━━━━━━━━━━┳━━━━━━━━━━━━━━━━━━━━━━━━━━━━━┳━━━━━━━━━━━━━━━━━┓\n",
       "┃\u001b[1m \u001b[0m\u001b[1mLayer (type)                        \u001b[0m\u001b[1m \u001b[0m┃\u001b[1m \u001b[0m\u001b[1mOutput Shape               \u001b[0m\u001b[1m \u001b[0m┃\u001b[1m \u001b[0m\u001b[1m        Param #\u001b[0m\u001b[1m \u001b[0m┃\n",
       "┡━━━━━━━━━━━━━━━━━━━━━━━━━━━━━━━━━━━━━━╇━━━━━━━━━━━━━━━━━━━━━━━━━━━━━╇━━━━━━━━━━━━━━━━━┩\n",
       "│ embedding_layer (\u001b[38;5;33mEmbedding\u001b[0m)          │ ?                           │     \u001b[38;5;34m0\u001b[0m (unbuilt) │\n",
       "├──────────────────────────────────────┼─────────────────────────────┼─────────────────┤\n",
       "│ lstm (\u001b[38;5;33mLSTM\u001b[0m)                          │ ?                           │     \u001b[38;5;34m0\u001b[0m (unbuilt) │\n",
       "├──────────────────────────────────────┼─────────────────────────────┼─────────────────┤\n",
       "│ batch_normalization                  │ ?                           │     \u001b[38;5;34m0\u001b[0m (unbuilt) │\n",
       "│ (\u001b[38;5;33mBatchNormalization\u001b[0m)                 │                             │                 │\n",
       "├──────────────────────────────────────┼─────────────────────────────┼─────────────────┤\n",
       "│ dropout (\u001b[38;5;33mDropout\u001b[0m)                    │ ?                           │               \u001b[38;5;34m0\u001b[0m │\n",
       "├──────────────────────────────────────┼─────────────────────────────┼─────────────────┤\n",
       "│ dense (\u001b[38;5;33mDense\u001b[0m)                        │ ?                           │     \u001b[38;5;34m0\u001b[0m (unbuilt) │\n",
       "└──────────────────────────────────────┴─────────────────────────────┴─────────────────┘\n"
      ]
     },
     "metadata": {},
     "output_type": "display_data"
    },
    {
     "data": {
      "text/html": [
       "<pre style=\"white-space:pre;overflow-x:auto;line-height:normal;font-family:Menlo,'DejaVu Sans Mono',consolas,'Courier New',monospace\"><span style=\"font-weight: bold\"> Total params: </span><span style=\"color: #00af00; text-decoration-color: #00af00\">0</span> (0.00 B)\n",
       "</pre>\n"
      ],
      "text/plain": [
       "\u001b[1m Total params: \u001b[0m\u001b[38;5;34m0\u001b[0m (0.00 B)\n"
      ]
     },
     "metadata": {},
     "output_type": "display_data"
    },
    {
     "data": {
      "text/html": [
       "<pre style=\"white-space:pre;overflow-x:auto;line-height:normal;font-family:Menlo,'DejaVu Sans Mono',consolas,'Courier New',monospace\"><span style=\"font-weight: bold\"> Trainable params: </span><span style=\"color: #00af00; text-decoration-color: #00af00\">0</span> (0.00 B)\n",
       "</pre>\n"
      ],
      "text/plain": [
       "\u001b[1m Trainable params: \u001b[0m\u001b[38;5;34m0\u001b[0m (0.00 B)\n"
      ]
     },
     "metadata": {},
     "output_type": "display_data"
    },
    {
     "data": {
      "text/html": [
       "<pre style=\"white-space:pre;overflow-x:auto;line-height:normal;font-family:Menlo,'DejaVu Sans Mono',consolas,'Courier New',monospace\"><span style=\"font-weight: bold\"> Non-trainable params: </span><span style=\"color: #00af00; text-decoration-color: #00af00\">0</span> (0.00 B)\n",
       "</pre>\n"
      ],
      "text/plain": [
       "\u001b[1m Non-trainable params: \u001b[0m\u001b[38;5;34m0\u001b[0m (0.00 B)\n"
      ]
     },
     "metadata": {},
     "output_type": "display_data"
    }
   ],
   "source": [
    "model = Sequential([\n",
    "        # Generally,there is an input layer in here! Word vectors obtained by embedding model are actually input \n",
    "        # when you look at it from the general perspective!\n",
    "        Embedding(input_dim = max_words,\n",
    "                  input_length = max_len,\n",
    "                  output_dim = 128, \n",
    "                  # It is the size of the word vectors to be created. For small-to-medium sized data sets, 50-100 is good.\n",
    "                  # In large data sets there may be around 200-300.\n",
    "                  name='embedding_layer'),\n",
    "\n",
    "        LSTM(128),\n",
    "        BatchNormalization(),\n",
    "        Dropout(0.2),\n",
    "        Dense(6, activation='softmax') # We have a 6-class assessment!\n",
    "\n",
    "    ])\n",
    "\n",
    "\n",
    "model.compile(loss='sparse_categorical_crossentropy',\n",
    "              optimizer=Adam(learning_rate=0.001),\n",
    "              metrics=['accuracy'])\n",
    "\n",
    "model.summary()\n",
    "\n",
    "early_stopping = EarlyStopping(\n",
    "    monitor='val_loss',\n",
    "    patience=10,\n",
    "    verbose=1,\n",
    "    restore_best_weights=True)"
   ]
  },
  {
   "cell_type": "code",
   "execution_count": 13,
   "metadata": {
    "colab": {
     "base_uri": "https://localhost:8080/"
    },
    "executionInfo": {
     "elapsed": 2725746,
     "status": "ok",
     "timestamp": 1739795442184,
     "user": {
      "displayName": "yasin sütoğlu",
      "userId": "06911595719741796393"
     },
     "user_tz": -180
    },
    "id": "9LVkL0Nwudtb",
    "outputId": "853e694c-9804-484d-c274-a055de507d79",
    "scrolled": true
   },
   "outputs": [
    {
     "name": "stdout",
     "output_type": "stream",
     "text": [
      "Epoch 1/100\n",
      "\u001b[1m500/500\u001b[0m \u001b[32m━━━━━━━━━━━━━━━━━━━━\u001b[0m\u001b[37m\u001b[0m \u001b[1m100s\u001b[0m 191ms/step - accuracy: 0.5920 - loss: 1.1031 - val_accuracy: 0.2475 - val_loss: 2.8358\n",
      "Epoch 2/100\n",
      "\u001b[1m500/500\u001b[0m \u001b[32m━━━━━━━━━━━━━━━━━━━━\u001b[0m\u001b[37m\u001b[0m \u001b[1m103s\u001b[0m 205ms/step - accuracy: 0.9346 - loss: 0.2004 - val_accuracy: 0.8010 - val_loss: 0.7113\n",
      "Epoch 3/100\n",
      "\u001b[1m500/500\u001b[0m \u001b[32m━━━━━━━━━━━━━━━━━━━━\u001b[0m\u001b[37m\u001b[0m \u001b[1m101s\u001b[0m 201ms/step - accuracy: 0.9636 - loss: 0.1137 - val_accuracy: 0.8260 - val_loss: 0.6505\n",
      "Epoch 4/100\n",
      "\u001b[1m500/500\u001b[0m \u001b[32m━━━━━━━━━━━━━━━━━━━━\u001b[0m\u001b[37m\u001b[0m \u001b[1m149s\u001b[0m 216ms/step - accuracy: 0.9717 - loss: 0.0833 - val_accuracy: 0.8790 - val_loss: 0.5245\n",
      "Epoch 5/100\n",
      "\u001b[1m500/500\u001b[0m \u001b[32m━━━━━━━━━━━━━━━━━━━━\u001b[0m\u001b[37m\u001b[0m \u001b[1m140s\u001b[0m 211ms/step - accuracy: 0.9802 - loss: 0.0619 - val_accuracy: 0.8780 - val_loss: 0.5801\n",
      "Epoch 6/100\n",
      "\u001b[1m500/500\u001b[0m \u001b[32m━━━━━━━━━━━━━━━━━━━━\u001b[0m\u001b[37m\u001b[0m \u001b[1m168s\u001b[0m 263ms/step - accuracy: 0.9806 - loss: 0.0612 - val_accuracy: 0.8980 - val_loss: 0.3912\n",
      "Epoch 7/100\n",
      "\u001b[1m500/500\u001b[0m \u001b[32m━━━━━━━━━━━━━━━━━━━━\u001b[0m\u001b[37m\u001b[0m \u001b[1m155s\u001b[0m 290ms/step - accuracy: 0.9864 - loss: 0.0405 - val_accuracy: 0.8955 - val_loss: 0.4082\n",
      "Epoch 8/100\n",
      "\u001b[1m500/500\u001b[0m \u001b[32m━━━━━━━━━━━━━━━━━━━━\u001b[0m\u001b[37m\u001b[0m \u001b[1m191s\u001b[0m 267ms/step - accuracy: 0.9843 - loss: 0.0449 - val_accuracy: 0.8965 - val_loss: 0.4110\n",
      "Epoch 9/100\n",
      "\u001b[1m500/500\u001b[0m \u001b[32m━━━━━━━━━━━━━━━━━━━━\u001b[0m\u001b[37m\u001b[0m \u001b[1m119s\u001b[0m 221ms/step - accuracy: 0.9852 - loss: 0.0421 - val_accuracy: 0.9115 - val_loss: 0.4205\n",
      "Epoch 10/100\n",
      "\u001b[1m500/500\u001b[0m \u001b[32m━━━━━━━━━━━━━━━━━━━━\u001b[0m\u001b[37m\u001b[0m \u001b[1m139s\u001b[0m 215ms/step - accuracy: 0.9894 - loss: 0.0338 - val_accuracy: 0.9075 - val_loss: 0.3585\n",
      "Epoch 11/100\n",
      "\u001b[1m500/500\u001b[0m \u001b[32m━━━━━━━━━━━━━━━━━━━━\u001b[0m\u001b[37m\u001b[0m \u001b[1m135s\u001b[0m 202ms/step - accuracy: 0.9902 - loss: 0.0273 - val_accuracy: 0.9105 - val_loss: 0.3762\n",
      "Epoch 12/100\n",
      "\u001b[1m500/500\u001b[0m \u001b[32m━━━━━━━━━━━━━━━━━━━━\u001b[0m\u001b[37m\u001b[0m \u001b[1m136s\u001b[0m 190ms/step - accuracy: 0.9920 - loss: 0.0259 - val_accuracy: 0.9060 - val_loss: 0.4739\n",
      "Epoch 13/100\n",
      "\u001b[1m500/500\u001b[0m \u001b[32m━━━━━━━━━━━━━━━━━━━━\u001b[0m\u001b[37m\u001b[0m \u001b[1m95s\u001b[0m 190ms/step - accuracy: 0.9929 - loss: 0.0220 - val_accuracy: 0.9085 - val_loss: 0.3679\n",
      "Epoch 14/100\n",
      "\u001b[1m500/500\u001b[0m \u001b[32m━━━━━━━━━━━━━━━━━━━━\u001b[0m\u001b[37m\u001b[0m \u001b[1m142s\u001b[0m 191ms/step - accuracy: 0.9923 - loss: 0.0193 - val_accuracy: 0.9180 - val_loss: 0.3735\n",
      "Epoch 15/100\n",
      "\u001b[1m500/500\u001b[0m \u001b[32m━━━━━━━━━━━━━━━━━━━━\u001b[0m\u001b[37m\u001b[0m \u001b[1m140s\u001b[0m 186ms/step - accuracy: 0.9923 - loss: 0.0227 - val_accuracy: 0.9130 - val_loss: 0.3955\n",
      "Epoch 16/100\n",
      "\u001b[1m500/500\u001b[0m \u001b[32m━━━━━━━━━━━━━━━━━━━━\u001b[0m\u001b[37m\u001b[0m \u001b[1m144s\u001b[0m 190ms/step - accuracy: 0.9936 - loss: 0.0170 - val_accuracy: 0.9105 - val_loss: 0.4439\n",
      "Epoch 17/100\n",
      "\u001b[1m500/500\u001b[0m \u001b[32m━━━━━━━━━━━━━━━━━━━━\u001b[0m\u001b[37m\u001b[0m \u001b[1m144s\u001b[0m 194ms/step - accuracy: 0.9934 - loss: 0.0224 - val_accuracy: 0.9105 - val_loss: 0.3754\n",
      "Epoch 18/100\n",
      "\u001b[1m500/500\u001b[0m \u001b[32m━━━━━━━━━━━━━━━━━━━━\u001b[0m\u001b[37m\u001b[0m \u001b[1m140s\u001b[0m 191ms/step - accuracy: 0.9930 - loss: 0.0200 - val_accuracy: 0.9180 - val_loss: 0.4004\n",
      "Epoch 19/100\n",
      "\u001b[1m500/500\u001b[0m \u001b[32m━━━━━━━━━━━━━━━━━━━━\u001b[0m\u001b[37m\u001b[0m \u001b[1m143s\u001b[0m 194ms/step - accuracy: 0.9946 - loss: 0.0160 - val_accuracy: 0.9095 - val_loss: 0.4266\n",
      "Epoch 20/100\n",
      "\u001b[1m500/500\u001b[0m \u001b[32m━━━━━━━━━━━━━━━━━━━━\u001b[0m\u001b[37m\u001b[0m \u001b[1m96s\u001b[0m 192ms/step - accuracy: 0.9937 - loss: 0.0163 - val_accuracy: 0.9135 - val_loss: 0.4322\n",
      "Epoch 20: early stopping\n",
      "Restoring model weights from the end of the best epoch: 10.\n"
     ]
    }
   ],
   "source": [
    "history = model.fit(X_train, y_train,\n",
    "                    epochs=100,\n",
    "                    validation_data=(X_val, y_val),\n",
    "                    batch_size=32,\n",
    "                    verbose=1,\n",
    "                    callbacks=early_stopping\n",
    "                    )"
   ]
  },
  {
   "cell_type": "code",
   "execution_count": 14,
   "metadata": {
    "colab": {
     "base_uri": "https://localhost:8080/"
    },
    "executionInfo": {
     "elapsed": 10590,
     "status": "ok",
     "timestamp": 1739795709273,
     "user": {
      "displayName": "yasin sütoğlu",
      "userId": "06911595719741796393"
     },
     "user_tz": -180
    },
    "id": "hFH8zxUruhD7",
    "outputId": "f52a30ef-dc6e-4a07-c7ff-86700c11eab8"
   },
   "outputs": [
    {
     "name": "stdout",
     "output_type": "stream",
     "text": [
      "Val Loss: 0.35846152901649475 Val Accuracy: 0.9075000286102295\n",
      "Test Loss: 0.34437456727027893 Test Accuracy: 0.9110000133514404\n"
     ]
    }
   ],
   "source": [
    "val_loss, val_accuracy = model.evaluate(X_val, y_val, verbose=0)\n",
    "test_loss, test_accuracy = model.evaluate(X_test, y_test, verbose=0)\n",
    "\n",
    "print(f\"Val Loss: {val_loss}\", f\"Val Accuracy: {val_accuracy}\")\n",
    "print(f\"Test Loss: {test_loss}\", f\"Test Accuracy: {test_accuracy}\")"
   ]
  },
  {
   "cell_type": "code",
   "execution_count": 15,
   "metadata": {
    "colab": {
     "base_uri": "https://localhost:8080/"
    },
    "executionInfo": {
     "elapsed": 5092,
     "status": "ok",
     "timestamp": 1739795716853,
     "user": {
      "displayName": "yasin sütoğlu",
      "userId": "06911595719741796393"
     },
     "user_tz": -180
    },
    "id": "waM4Jc1ExBPs",
    "outputId": "cc2428d0-448f-42d0-b46d-16e37d2fa8de"
   },
   "outputs": [
    {
     "name": "stdout",
     "output_type": "stream",
     "text": [
      "0.911\n",
      "              precision    recall  f1-score   support\n",
      "\n",
      "           0       0.93      0.93      0.93       695\n",
      "           1       0.96      0.96      0.96       581\n",
      "           2       0.90      0.89      0.89       275\n",
      "           3       0.90      0.85      0.88       224\n",
      "           4       0.78      0.86      0.81       159\n",
      "           5       0.74      0.74      0.74        66\n",
      "\n",
      "    accuracy                           0.91      2000\n",
      "   macro avg       0.87      0.87      0.87      2000\n",
      "weighted avg       0.91      0.91      0.91      2000\n",
      "\n"
     ]
    }
   ],
   "source": [
    "y_pred = model.predict(X_test, verbose=0)\n",
    "y_pred_classes = y_pred.argmax(axis=-1)\n",
    "\n",
    "# Since I am looking at a multi-class classification problem, I have used classification_report() from sckit-learn.\n",
    "classification_rep = classification_report(y_test, y_pred_classes)\n",
    "accuracy = accuracy_score(y_test, y_pred_classes)\n",
    "\n",
    "print(accuracy)\n",
    "print(classification_rep)"
   ]
  },
  {
   "cell_type": "markdown",
   "metadata": {
    "id": "tJ9zk0yjxIxa"
   },
   "source": [
    "## Embedding Layer\n",
    "\n"
   ]
  },
  {
   "cell_type": "code",
   "execution_count": 16,
   "metadata": {
    "executionInfo": {
     "elapsed": 304,
     "status": "ok",
     "timestamp": 1739795721988,
     "user": {
      "displayName": "yasin sütoğlu",
      "userId": "06911595719741796393"
     },
     "user_tz": -180
    },
    "id": "uj2kt5_QxOfz"
   },
   "outputs": [],
   "source": [
    "embedding_layer = model.get_layer(name='embedding_layer') # weights => values inside vectors\n",
    "\n",
    "embedding_weights = embedding_layer.get_weights()[0]"
   ]
  },
  {
   "cell_type": "code",
   "execution_count": 17,
   "metadata": {
    "colab": {
     "base_uri": "https://localhost:8080/"
    },
    "executionInfo": {
     "elapsed": 295,
     "status": "ok",
     "timestamp": 1739795726060,
     "user": {
      "displayName": "yasin sütoğlu",
      "userId": "06911595719741796393"
     },
     "user_tz": -180
    },
    "id": "gI9W1cMDxQ-2",
    "outputId": "c2220a36-f28f-45c3-d218-a1b0cc46cb6e"
   },
   "outputs": [
    {
     "data": {
      "text/plain": [
       "array([[ 0.00509012,  0.00645083,  0.00965891, ..., -0.0147312 ,\n",
       "         0.03164802, -0.039795  ],\n",
       "       [ 0.12822172, -0.1360196 ,  0.0318299 , ..., -0.05096995,\n",
       "         0.03797638, -0.01924566],\n",
       "       [ 0.09586438, -0.15878005,  0.04717446, ..., -0.07055388,\n",
       "         0.03975945, -0.00574626],\n",
       "       ...,\n",
       "       [-0.00899236,  0.07592741,  0.04563675, ..., -0.06304795,\n",
       "        -0.03329554, -0.08839434],\n",
       "       [ 0.01511195, -0.06387065,  0.01466976, ...,  0.03951296,\n",
       "         0.04158199, -0.04335005],\n",
       "       [-0.01799539, -0.02193938,  0.00791544, ..., -0.02056956,\n",
       "        -0.00045715, -0.00692855]], dtype=float32)"
      ]
     },
     "execution_count": 17,
     "metadata": {},
     "output_type": "execute_result"
    }
   ],
   "source": [
    "embedding_weights"
   ]
  },
  {
   "cell_type": "markdown",
   "metadata": {
    "id": "30n1iQXXxS3I"
   },
   "source": [
    "## Words Indexes"
   ]
  },
  {
   "cell_type": "code",
   "execution_count": 18,
   "metadata": {
    "executionInfo": {
     "elapsed": 305,
     "status": "ok",
     "timestamp": 1739795731318,
     "user": {
      "displayName": "yasin sütoğlu",
      "userId": "06911595719741796393"
     },
     "user_tz": -180
    },
    "id": "kn6Ywg2wxU5r"
   },
   "outputs": [],
   "source": [
    "word_index = tokenizer.word_index\n",
    "\n",
    "index_word = {v: k for k, v in word_index.items()}"
   ]
  },
  {
   "cell_type": "code",
   "execution_count": 19,
   "metadata": {
    "colab": {
     "base_uri": "https://localhost:8080/"
    },
    "executionInfo": {
     "elapsed": 387,
     "status": "ok",
     "timestamp": 1739795734789,
     "user": {
      "displayName": "yasin sütoğlu",
      "userId": "06911595719741796393"
     },
     "user_tz": -180
    },
    "id": "xNmsMCshxXri",
    "outputId": "2e2a6fdc-5ea9-4977-a61d-9bf1f75bef97"
   },
   "outputs": [
    {
     "data": {
      "text/plain": [
       "[(1, 'feel'),\n",
       " (2, 'feeling'),\n",
       " (3, 'like'),\n",
       " (4, 'im'),\n",
       " (5, 'really'),\n",
       " (6, 'know'),\n",
       " (7, 'time'),\n",
       " (8, 'get'),\n",
       " (9, 'little'),\n",
       " (10, 'people')]"
      ]
     },
     "execution_count": 19,
     "metadata": {},
     "output_type": "execute_result"
    }
   ],
   "source": [
    "list(index_word.items())[:10]"
   ]
  },
  {
   "cell_type": "markdown",
   "metadata": {
    "id": "3xv4f7v-xZRG"
   },
   "source": [
    "## Using Embedding Vectors"
   ]
  },
  {
   "cell_type": "code",
   "execution_count": 20,
   "metadata": {
    "colab": {
     "base_uri": "https://localhost:8080/"
    },
    "executionInfo": {
     "elapsed": 277,
     "status": "ok",
     "timestamp": 1739795740318,
     "user": {
      "displayName": "yasin sütoğlu",
      "userId": "06911595719741796393"
     },
     "user_tz": -180
    },
    "id": "GC7uxqvcxbg-",
    "outputId": "b5d4c164-3176-4f22-f664-6effe018ba3e",
    "scrolled": true
   },
   "outputs": [
    {
     "name": "stdout",
     "output_type": "stream",
     "text": [
      "Happy Vector: [ 0.01502542  0.01308896 -0.03137678  0.04781587  0.12549205 -0.00498338\n",
      "  0.01403974 -0.03503389 -0.03766701  0.08887212 -0.00361274 -0.02725565\n",
      " -0.00476486 -0.03893864 -0.02242909  0.09342957  0.0472286  -0.04374623\n",
      " -0.08583993  0.08652239 -0.03791697  0.06426546 -0.05667351 -0.06655788\n",
      " -0.03325607  0.00660251  0.02062783 -0.02823501 -0.0009028   0.02948332\n",
      " -0.10989982  0.02516647  0.01967268 -0.03253066 -0.02651012  0.0270205\n",
      "  0.08391277  0.02665527 -0.01496008 -0.01358142  0.05680982  0.01895444\n",
      "  0.0842661  -0.04558004 -0.00599144 -0.02375961 -0.05276715 -0.09260708\n",
      " -0.06025164  0.01197226  0.08178033  0.01150922 -0.09684546  0.09748704\n",
      " -0.01731844  0.00389525 -0.02873352 -0.02144876 -0.0205433   0.01591757\n",
      "  0.019845   -0.02551387  0.0328689  -0.03247184  0.10222469 -0.03829229\n",
      " -0.03491259  0.03880961  0.05033183 -0.01537441 -0.04967163  0.02794728\n",
      "  0.0201407  -0.05437861 -0.10576534 -0.0275606  -0.09347469  0.0559136\n",
      " -0.02969094  0.06934304 -0.05737823  0.06764532  0.00189723 -0.06717756\n",
      "  0.08413006 -0.09454305 -0.01851945  0.01141936 -0.03656429 -0.05040371\n",
      " -0.00952805  0.09761502 -0.00656472 -0.02091388  0.02190233 -0.02083817\n",
      " -0.04785513  0.04213069 -0.05226828  0.02618651  0.040971    0.01894982\n",
      "  0.02398141 -0.01537498  0.01116809 -0.05828833 -0.09423898 -0.07441741\n",
      "  0.06876421 -0.0553993   0.10280585  0.02819947 -0.01851282 -0.01283987\n",
      "  0.05943413  0.03829214 -0.0621644   0.01344009 -0.07016025  0.03467418\n",
      "  0.06006631  0.09094044 -0.03068935 -0.01458187 -0.02069663  0.0687246\n",
      " -0.05672192 -0.08655275]\n",
      "Sad Vector: [ 0.05050778 -0.04772957 -0.07370724 -0.03819824 -0.01925544  0.0120836\n",
      " -0.07035125  0.06686412 -0.09175426  0.07248295  0.08421054  0.01326132\n",
      "  0.02940982 -0.08926503  0.03702544  0.09903029  0.10619895  0.03415242\n",
      " -0.0125887  -0.00696942 -0.01194157  0.04012995  0.11122286  0.03562871\n",
      "  0.09596905  0.04996619 -0.01831074  0.04334975  0.02803675  0.09169228\n",
      " -0.00491472 -0.00727236 -0.12580357  0.05838162 -0.10494667 -0.04454068\n",
      " -0.02568139  0.03521036 -0.03248376  0.04967118 -0.02233928 -0.07440978\n",
      " -0.02168636 -0.00126025  0.01474579  0.08570833 -0.17019048 -0.040231\n",
      "  0.05760453 -0.0381522  -0.02299216 -0.07645468  0.01601203  0.04265372\n",
      "  0.02005368  0.00865198  0.00372011  0.10889413  0.00039246 -0.1226361\n",
      "  0.07717626  0.04455913  0.03807566  0.04861057 -0.05638423  0.10990321\n",
      "  0.01734909  0.04427114 -0.03471949  0.04350533 -0.00257499 -0.04778109\n",
      "  0.03076521  0.07639025  0.01124712 -0.06692753  0.0455873   0.00626194\n",
      "  0.0879467   0.12493601  0.04882053 -0.03160919  0.04985429 -0.10651262\n",
      " -0.0223584  -0.00833906 -0.00416169 -0.08118549  0.07165513  0.00767172\n",
      "  0.05837842  0.14009826  0.09282057 -0.11470216 -0.12591437 -0.04095163\n",
      "  0.09302601 -0.06570566  0.02932919  0.04881537  0.07242937 -0.00345616\n",
      " -0.03596529 -0.01461812  0.05192015  0.07086585  0.05759681 -0.0152617\n",
      "  0.02736232  0.04009674  0.03740239 -0.01139975 -0.04772743  0.02563923\n",
      "  0.02420294  0.05931259  0.05486643  0.00754918  0.01508073 -0.05897261\n",
      " -0.07148489 -0.01947274  0.11680749  0.00679276  0.08645548  0.01325258\n",
      " -0.10333345  0.05616653]\n"
     ]
    }
   ],
   "source": [
    "happy_index = word_index.get('happy')\n",
    "\n",
    "sad_index = word_index.get('sad')\n",
    "\n",
    "happy_vector = embedding_weights[happy_index]\n",
    "\n",
    "sad_vector = embedding_weights[sad_index]\n",
    "\n",
    "print(\"Happy Vector:\", happy_vector)\n",
    "print(\"Sad Vector:\", sad_vector)"
   ]
  },
  {
   "cell_type": "code",
   "execution_count": 21,
   "metadata": {
    "colab": {
     "base_uri": "https://localhost:8080/"
    },
    "executionInfo": {
     "elapsed": 271,
     "status": "ok",
     "timestamp": 1739795747391,
     "user": {
      "displayName": "yasin sütoğlu",
      "userId": "06911595719741796393"
     },
     "user_tz": -180
    },
    "id": "fLonCqStxiFF",
    "outputId": "60a17252-cacf-44dc-b51c-d651c719409b"
   },
   "outputs": [
    {
     "data": {
      "text/plain": [
       "128"
      ]
     },
     "execution_count": 21,
     "metadata": {},
     "output_type": "execute_result"
    }
   ],
   "source": [
    "len(happy_vector)"
   ]
  },
  {
   "cell_type": "markdown",
   "metadata": {
    "id": "UJHqggGTxkOa"
   },
   "source": [
    "## Find Closest Embeddings"
   ]
  },
  {
   "cell_type": "code",
   "execution_count": 22,
   "metadata": {
    "colab": {
     "base_uri": "https://localhost:8080/"
    },
    "executionInfo": {
     "elapsed": 279,
     "status": "ok",
     "timestamp": 1739795750089,
     "user": {
      "displayName": "yasin sütoğlu",
      "userId": "06911595719741796393"
     },
     "user_tz": -180
    },
    "id": "fALX9Ih7xm-s",
    "outputId": "fea7642e-77de-49ca-8ec3-17daa732da3c"
   },
   "outputs": [
    {
     "name": "stdout",
     "output_type": "stream",
     "text": [
      "happy\n",
      "mellow\n",
      "peaceful\n",
      "innocent\n",
      "convinced\n"
     ]
    }
   ],
   "source": [
    "def find_closest_embeddings(embedding, word_embedding):\n",
    "    \n",
    "    cosine_similarities = cosine_similarity(embedding, word_embedding.reshape(1, -1))\n",
    "    return np.argsort(cosine_similarities.flatten())[::-1]\n",
    "\n",
    "closest_to_happy = find_closest_embeddings(embedding_weights, happy_vector)\n",
    "\n",
    "for idx in closest_to_happy[:5]:\n",
    "    print(index_word[idx])"
   ]
  },
  {
   "cell_type": "code",
   "execution_count": 23,
   "metadata": {
    "colab": {
     "base_uri": "https://localhost:8080/"
    },
    "executionInfo": {
     "elapsed": 321,
     "status": "ok",
     "timestamp": 1739795754121,
     "user": {
      "displayName": "yasin sütoğlu",
      "userId": "06911595719741796393"
     },
     "user_tz": -180
    },
    "id": "e8lFc2duxvuN",
    "outputId": "ad404544-ff11-496d-ba52-63087eec28b1"
   },
   "outputs": [
    {
     "name": "stdout",
     "output_type": "stream",
     "text": [
      "sad\n",
      "emotional\n",
      "rotten\n",
      "hopeless\n",
      "embarrassed\n"
     ]
    }
   ],
   "source": [
    "closest_to_sad = find_closest_embeddings(embedding_weights, sad_vector)\n",
    "\n",
    "for idx in closest_to_sad[:5]:\n",
    "    print(index_word[idx])"
   ]
  },
  {
   "cell_type": "markdown",
   "metadata": {
    "id": "vY184s4yxyEG"
   },
   "source": [
    "## Arithmetic Operations with Vectors"
   ]
  },
  {
   "cell_type": "code",
   "execution_count": 24,
   "metadata": {
    "colab": {
     "base_uri": "https://localhost:8080/"
    },
    "executionInfo": {
     "elapsed": 260,
     "status": "ok",
     "timestamp": 1739795760053,
     "user": {
      "displayName": "yasin sütoğlu",
      "userId": "06911595719741796393"
     },
     "user_tz": -180
    },
    "id": "X_kPHV31x1DT",
    "outputId": "a3c6f8f8-31c9-406f-c980-6be1ff97b124"
   },
   "outputs": [
    {
     "name": "stdout",
     "output_type": "stream",
     "text": [
      "convinced\n",
      "duno\n",
      "knock\n",
      "satisfied\n",
      "amused\n"
     ]
    }
   ],
   "source": [
    "result_vector = happy_vector - sad_vector\n",
    "\n",
    "closest_to_result = find_closest_embeddings(embedding_weights, result_vector)\n",
    "\n",
    "for idx in closest_to_result[:5]:\n",
    "    print(index_word[idx])"
   ]
  },
  {
   "cell_type": "code",
   "execution_count": 26,
   "metadata": {
    "colab": {
     "base_uri": "https://localhost:8080/"
    },
    "executionInfo": {
     "elapsed": 352,
     "status": "ok",
     "timestamp": 1739795773301,
     "user": {
      "displayName": "yasin sütoğlu",
      "userId": "06911595719741796393"
     },
     "user_tz": -180
    },
    "id": "u9DIZ8ihx7Yi",
    "outputId": "a8481f47-f242-4fc2-dbd6-9bd3c6b447c7"
   },
   "outputs": [
    {
     "name": "stdout",
     "output_type": "stream",
     "text": [
      "angry\n",
      "morbid\n",
      "poetry\n",
      "mall\n",
      "designing\n"
     ]
    }
   ],
   "source": [
    "angry_index = word_index.get('angry')\n",
    "angry_vector = embedding_weights[angry_index]\n",
    "\n",
    "result_vector = happy_vector - sad_vector + angry_vector\n",
    "\n",
    "closest_to_result = find_closest_embeddings(embedding_weights, result_vector)\n",
    "\n",
    "for idx in closest_to_result[:5]:\n",
    "    print(index_word[idx])"
   ]
  },
  {
   "cell_type": "markdown",
   "metadata": {
    "id": "8FvGQpYVyDzk"
   },
   "source": [
    "## 2D Visualization of Emotion Vectors"
   ]
  },
  {
   "cell_type": "code",
   "execution_count": 27,
   "metadata": {
    "executionInfo": {
     "elapsed": 249,
     "status": "ok",
     "timestamp": 1739795777692,
     "user": {
      "displayName": "yasin sütoğlu",
      "userId": "06911595719741796393"
     },
     "user_tz": -180
    },
    "id": "-jyKAiWFyBo9"
   },
   "outputs": [],
   "source": [
    "emotions = ['joy', 'sadness', 'anger', 'fear', 'love', 'surprise', 'happy', 'sad', 'angry', 'fear', 'disgust']\n",
    "\n",
    "emotion_vectors = {emotion: embedding_weights[word_index[emotion]] for emotion in emotions}"
   ]
  },
  {
   "cell_type": "code",
   "execution_count": 28,
   "metadata": {
    "colab": {
     "base_uri": "https://localhost:8080/",
     "height": 872
    },
    "executionInfo": {
     "elapsed": 677,
     "status": "ok",
     "timestamp": 1739795780359,
     "user": {
      "displayName": "yasin sütoğlu",
      "userId": "06911595719741796393"
     },
     "user_tz": -180
    },
    "id": "kNoar5yAyGjl",
    "outputId": "46ecf9b6-9479-4fdc-bedb-9f4f1933a69e"
   },
   "outputs": [
    {
     "data": {
      "image/png": "[encoded data removed]",
      "text/plain": [
       "<Figure size 1000x1000 with 1 Axes>"
      ]
     },
     "metadata": {},
     "output_type": "display_data"
    }
   ],
   "source": [
    "def plot_emotions(emotion_vectors):\n",
    "    \n",
    "    vectors = list(emotion_vectors.values())\n",
    "    labels = list(emotion_vectors.keys())\n",
    "\n",
    "    pca = PCA(n_components=2)\n",
    "    pca_result = pca.fit_transform(vectors)\n",
    "\n",
    "    plt.figure(figsize=(10, 10))\n",
    "    \n",
    "    for i, label in enumerate(labels):\n",
    "        plt.scatter(pca_result[i, 0], pca_result[i, 1])\n",
    "        plt.annotate(label, (pca_result[i, 0], pca_result[i, 1]))\n",
    "        \n",
    "    plt.title('Emotion Embeddings PCA')\n",
    "    plt.xlabel('Principal Component 1')\n",
    "    plt.ylabel('Principal Component 2')\n",
    "    plt.grid(True)\n",
    "    plt.show()\n",
    "\n",
    "\n",
    "plot_emotions(emotion_vectors)"
   ]
  }
 ],
 "metadata": {
  "colab": {
   "authorship_tag": "ABX9TyNs3E3P0UzbH0XuGYRx26ZG",
   "mount_file_id": "1Ej72svM53rhAdGc8X_IG9VzYeplS6xTt",
   "provenance": []
  },
  "kernelspec": {
   "display_name": "Python 3 (ipykernel)",
   "language": "python",
   "name": "python3"
  },
  "language_info": {
   "codemirror_mode": {
    "name": "ipython",
    "version": 3
   },
   "file_extension": ".py",
   "mimetype": "text/x-python",
   "name": "python",
   "nbconvert_exporter": "python",
   "pygments_lexer": "ipython3",
   "version": "3.11.5"
  }
 },
 "nbformat": 4,
 "nbformat_minor": 4
}
