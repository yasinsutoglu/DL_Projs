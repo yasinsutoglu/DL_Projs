{
 "cells": [
  {
   "cell_type": "markdown",
   "metadata": {
    "id": "GchzXask87-O"
   },
   "source": [
    "# Emotion Classification with FastText and LSTM"
   ]
  },
  {
   "cell_type": "markdown",
   "metadata": {
    "id": "Mli1pzAA89g2"
   },
   "source": [
    "## Imports"
   ]
  },
  {
   "cell_type": "code",
   "execution_count": 1,
   "metadata": {
    "executionInfo": {
     "elapsed": 12189,
     "status": "ok",
     "timestamp": 1739796560734,
     "user": {
      "displayName": "yasin sütoğlu",
      "userId": "06911595719741796393"
     },
     "user_tz": -180
    },
    "id": "xxK8eLzQ8wr5"
   },
   "outputs": [],
   "source": [
    "import numpy as np\n",
    "import pandas as pd\n",
    "import matplotlib.pyplot as plt\n",
    "import re\n",
    "import nltk\n",
    "from nltk.corpus import stopwords\n",
    "from sklearn.model_selection import train_test_split\n",
    "from tensorflow.keras.preprocessing.text import Tokenizer\n",
    "from tensorflow.keras.preprocessing.sequence import pad_sequences\n",
    "from tensorflow.keras.models import Sequential\n",
    "from tensorflow.keras.layers import Embedding, LSTM, Dense, Dropout, BatchNormalization\n",
    "from tensorflow.keras.callbacks import EarlyStopping\n",
    "from tensorflow.keras.optimizers import Adam\n",
    "from sklearn.metrics import classification_report, accuracy_score\n",
    "from tensorflow.keras.models import load_model\n",
    "\n",
    "import zipfile"
   ]
  },
  {
   "cell_type": "markdown",
   "metadata": {
    "id": "PnnXMTz99INH"
   },
   "source": [
    "## Data Prep"
   ]
  },
  {
   "cell_type": "code",
   "execution_count": 2,
   "metadata": {
    "colab": {
     "base_uri": "https://localhost:8080/"
    },
    "executionInfo": {
     "elapsed": 2433,
     "status": "ok",
     "timestamp": 1739796632588,
     "user": {
      "displayName": "yasin sütoğlu",
      "userId": "06911595719741796393"
     },
     "user_tz": -180
    },
    "id": "xbQBs3KU9MsH",
    "outputId": "64bf2ddb-f90f-4174-e64c-4acaefcf9d2b"
   },
   "outputs": [
    {
     "name": "stderr",
     "output_type": "stream",
     "text": [
      "[nltk_data] Downloading package stopwords to /root/nltk_data...\n",
      "[nltk_data]   Unzipping corpora/stopwords.zip.\n"
     ]
    }
   ],
   "source": [
    "train_df = pd.read_csv('../emotion_dataset/train.txt', sep=';', header=None, names=['text', 'label'])\n",
    "val_df = pd.read_csv('../emotion_dataset/val.txt', sep=';', header=None, names=['text', 'label'])\n",
    "test_df = pd.read_csv('../emotion_dataset/test.txt', sep=';', header=None, names=['text', 'label'])\n",
    "\n",
    "\n",
    "nltk.download('stopwords')\n",
    "stop_words = set(stopwords.words('english'))\n",
    "\n",
    "def clean_text(text):\n",
    "    \n",
    "    text = re.sub(r'[^\\w\\s]', '', text)  # punctuations\n",
    "    text = text.lower()  # lower case\n",
    "    text = re.sub(r'\\d+', '', text)  # numbers\n",
    "    text = ' '.join([word for word in text.split() if word not in stop_words])  # Stopwords\n",
    "    text = re.sub(r'\\s+', ' ', text).strip()  # space\n",
    "    \n",
    "    return text\n",
    "\n",
    "train_df['text'] = train_df['text'].apply(clean_text)\n",
    "val_df['text'] = val_df['text'].apply(clean_text)\n",
    "test_df['text'] = test_df['text'].apply(clean_text)\n",
    "\n",
    "label_to_int = {'joy': 0, 'sadness': 1, 'anger': 2, 'fear': 3, 'love': 4, 'surprise': 5}\n",
    "\n",
    "train_df['label'] = train_df['label'].map(label_to_int)\n",
    "val_df['label'] = val_df['label'].map(label_to_int)\n",
    "test_df['label'] = test_df['label'].map(label_to_int)\n",
    "\n",
    "max_words = 10000\n",
    "tokenizer = Tokenizer(num_words=max_words)\n",
    "tokenizer.fit_on_texts(train_df['text'])\n",
    "\n",
    "X_train = tokenizer.texts_to_sequences(train_df['text'])\n",
    "X_val = tokenizer.texts_to_sequences(val_df['text'])\n",
    "X_test = tokenizer.texts_to_sequences(test_df['text'])\n",
    "\n",
    "max_len = 100\n",
    "X_train = pad_sequences(X_train, maxlen=max_len)\n",
    "X_val = pad_sequences(X_val, maxlen=max_len)\n",
    "X_test = pad_sequences(X_test, maxlen=max_len)\n",
    "\n",
    "y_train = train_df['label']\n",
    "y_val = val_df['label']\n",
    "y_test = test_df['label']"
   ]
  },
  {
   "cell_type": "markdown",
   "metadata": {
    "id": "keJdHrv79giZ"
   },
   "source": [
    "## Download FastText\n",
    "\n",
    "https://fasttext.cc/docs/en/english-vectors.html\n",
    "\n",
    "!wget https://dl.fbaipublicfiles.com/fasttext/vectors-crawl/cc.en.300.vec.gz\n",
    "\n",
    "!gunzip cc.en.300.vec.gz"
   ]
  },
  {
   "cell_type": "code",
   "execution_count": 3,
   "metadata": {
    "executionInfo": {
     "elapsed": 269,
     "status": "ok",
     "timestamp": 1739796730992,
     "user": {
      "displayName": "yasin sütoğlu",
      "userId": "06911595719741796393"
     },
     "user_tz": -180
    },
    "id": "mgw2oml39q50"
   },
   "outputs": [],
   "source": [
    "# fasttext_file_path = '/content/drive/MyDrive/Colab Notebooks/wiki-news-300d-1M.vec.zip'\n",
    "\n",
    "# with zipfile.ZipFile(fasttext_file_path, 'r') as zip_ref:\n",
    "#     zip_ref.extractall('/content/fasttext')"
   ]
  },
  {
   "cell_type": "code",
   "execution_count": 4,
   "metadata": {
    "executionInfo": {
     "elapsed": 285,
     "status": "ok",
     "timestamp": 1739796768686,
     "user": {
      "displayName": "yasin sütoğlu",
      "userId": "06911595719741796393"
     },
     "user_tz": -180
    },
    "id": "7RWP4t5a93y-"
   },
   "outputs": [],
   "source": [
    "fasttext_vec_path = '../wiki-news-300d-1M.vec'"
   ]
  },
  {
   "cell_type": "markdown",
   "metadata": {
    "id": "BesT4qBo-BlW"
   },
   "source": [
    "## Load FastText Vectors and Create Embedding Matrix"
   ]
  },
  {
   "cell_type": "code",
   "execution_count": 5,
   "metadata": {
    "executionInfo": {
     "elapsed": 61683,
     "status": "ok",
     "timestamp": 1739796856610,
     "user": {
      "displayName": "yasin sütoğlu",
      "userId": "06911595719741796393"
     },
     "user_tz": -180
    },
    "id": "QoHUbBeu-BTy"
   },
   "outputs": [],
   "source": [
    "def load_fasttext_embeddings(file_path):\n",
    "    embeddings_index = {}\n",
    "    \n",
    "    with open(file_path, 'r', encoding='utf-8', newline='\\n', errors='ignore') as f:\n",
    "        for line in f:\n",
    "            values = line.rstrip().split(' ')\n",
    "            word = values[0]\n",
    "            coefs = np.asarray(values[1:], dtype='float32')\n",
    "            embeddings_index[word] = coefs\n",
    "            \n",
    "    return embeddings_index\n",
    "\n",
    "embeddings_index = load_fasttext_embeddings(fasttext_vec_path)"
   ]
  },
  {
   "cell_type": "code",
   "execution_count": 6,
   "metadata": {
    "executionInfo": {
     "elapsed": 281,
     "status": "ok",
     "timestamp": 1739797037019,
     "user": {
      "displayName": "yasin sütoğlu",
      "userId": "06911595719741796393"
     },
     "user_tz": -180
    },
    "id": "QHCxviwz-EyY"
   },
   "outputs": [],
   "source": [
    "embedding_dim = 300\n",
    "embedding_matrix = np.zeros((max_words, embedding_dim))\n",
    "\n",
    "# I selected the words in my own dataset from the FastText dataset, pull their embedding vectors and put them into embedding_matrix.\n",
    "for word, i in tokenizer.word_index.items():\n",
    "    if i < max_words:\n",
    "        embedding_vector = embeddings_index.get(word)\n",
    "        if embedding_vector is not None:\n",
    "            embedding_matrix[i] = embedding_vector"
   ]
  },
  {
   "cell_type": "markdown",
   "metadata": {
    "id": "j4bR-xlS-HlO"
   },
   "source": [
    "## Modelling"
   ]
  },
  {
   "cell_type": "code",
   "execution_count": 7,
   "metadata": {
    "colab": {
     "base_uri": "https://localhost:8080/",
     "height": 1000
    },
    "executionInfo": {
     "elapsed": 1747607,
     "status": "ok",
     "timestamp": 1739798787312,
     "user": {
      "displayName": "yasin sütoğlu",
      "userId": "06911595719741796393"
     },
     "user_tz": -180
    },
    "id": "XFnHjVEM-IzQ",
    "outputId": "38dc279b-cbae-4c9e-ef89-8c7740ba8218",
    "scrolled": true
   },
   "outputs": [
    {
     "name": "stderr",
     "output_type": "stream",
     "text": [
      "/usr/local/lib/python3.11/dist-packages/keras/src/layers/core/embedding.py:90: UserWarning: Argument `input_length` is deprecated. Just remove it.\n",
      "  warnings.warn(\n"
     ]
    },
    {
     "data": {
      "text/html": [
       "<pre style=\"white-space:pre;overflow-x:auto;line-height:normal;font-family:Menlo,'DejaVu Sans Mono',consolas,'Courier New',monospace\"><span style=\"font-weight: bold\">Model: \"sequential\"</span>\n",
       "</pre>\n"
      ],
      "text/plain": [
       "\u001b[1mModel: \"sequential\"\u001b[0m\n"
      ]
     },
     "metadata": {},
     "output_type": "display_data"
    },
    {
     "data": {
      "text/html": [
       "<pre style=\"white-space:pre;overflow-x:auto;line-height:normal;font-family:Menlo,'DejaVu Sans Mono',consolas,'Courier New',monospace\">┏━━━━━━━━━━━━━━━━━━━━━━━━━━━━━━━━━━━━━━┳━━━━━━━━━━━━━━━━━━━━━━━━━━━━━┳━━━━━━━━━━━━━━━━━┓\n",
       "┃<span style=\"font-weight: bold\"> Layer (type)                         </span>┃<span style=\"font-weight: bold\"> Output Shape                </span>┃<span style=\"font-weight: bold\">         Param # </span>┃\n",
       "┡━━━━━━━━━━━━━━━━━━━━━━━━━━━━━━━━━━━━━━╇━━━━━━━━━━━━━━━━━━━━━━━━━━━━━╇━━━━━━━━━━━━━━━━━┩\n",
       "│ embedding_layer (<span style=\"color: #0087ff; text-decoration-color: #0087ff\">Embedding</span>)          │ ?                           │       <span style=\"color: #00af00; text-decoration-color: #00af00\">3,000,000</span> │\n",
       "├──────────────────────────────────────┼─────────────────────────────┼─────────────────┤\n",
       "│ lstm (<span style=\"color: #0087ff; text-decoration-color: #0087ff\">LSTM</span>)                          │ ?                           │     <span style=\"color: #00af00; text-decoration-color: #00af00\">0</span> (unbuilt) │\n",
       "├──────────────────────────────────────┼─────────────────────────────┼─────────────────┤\n",
       "│ batch_normalization                  │ ?                           │     <span style=\"color: #00af00; text-decoration-color: #00af00\">0</span> (unbuilt) │\n",
       "│ (<span style=\"color: #0087ff; text-decoration-color: #0087ff\">BatchNormalization</span>)                 │                             │                 │\n",
       "├──────────────────────────────────────┼─────────────────────────────┼─────────────────┤\n",
       "│ dropout (<span style=\"color: #0087ff; text-decoration-color: #0087ff\">Dropout</span>)                    │ ?                           │               <span style=\"color: #00af00; text-decoration-color: #00af00\">0</span> │\n",
       "├──────────────────────────────────────┼─────────────────────────────┼─────────────────┤\n",
       "│ dense (<span style=\"color: #0087ff; text-decoration-color: #0087ff\">Dense</span>)                        │ ?                           │     <span style=\"color: #00af00; text-decoration-color: #00af00\">0</span> (unbuilt) │\n",
       "└──────────────────────────────────────┴─────────────────────────────┴─────────────────┘\n",
       "</pre>\n"
      ],
      "text/plain": [
       "┏━━━━━━━━━━━━━━━━━━━━━━━━━━━━━━━━━━━━━━┳━━━━━━━━━━━━━━━━━━━━━━━━━━━━━┳━━━━━━━━━━━━━━━━━┓\n",
       "┃\u001b[1m \u001b[0m\u001b[1mLayer (type)                        \u001b[0m\u001b[1m \u001b[0m┃\u001b[1m \u001b[0m\u001b[1mOutput Shape               \u001b[0m\u001b[1m \u001b[0m┃\u001b[1m \u001b[0m\u001b[1m        Param #\u001b[0m\u001b[1m \u001b[0m┃\n",
       "┡━━━━━━━━━━━━━━━━━━━━━━━━━━━━━━━━━━━━━━╇━━━━━━━━━━━━━━━━━━━━━━━━━━━━━╇━━━━━━━━━━━━━━━━━┩\n",
       "│ embedding_layer (\u001b[38;5;33mEmbedding\u001b[0m)          │ ?                           │       \u001b[38;5;34m3,000,000\u001b[0m │\n",
       "├──────────────────────────────────────┼─────────────────────────────┼─────────────────┤\n",
       "│ lstm (\u001b[38;5;33mLSTM\u001b[0m)                          │ ?                           │     \u001b[38;5;34m0\u001b[0m (unbuilt) │\n",
       "├──────────────────────────────────────┼─────────────────────────────┼─────────────────┤\n",
       "│ batch_normalization                  │ ?                           │     \u001b[38;5;34m0\u001b[0m (unbuilt) │\n",
       "│ (\u001b[38;5;33mBatchNormalization\u001b[0m)                 │                             │                 │\n",
       "├──────────────────────────────────────┼─────────────────────────────┼─────────────────┤\n",
       "│ dropout (\u001b[38;5;33mDropout\u001b[0m)                    │ ?                           │               \u001b[38;5;34m0\u001b[0m │\n",
       "├──────────────────────────────────────┼─────────────────────────────┼─────────────────┤\n",
       "│ dense (\u001b[38;5;33mDense\u001b[0m)                        │ ?                           │     \u001b[38;5;34m0\u001b[0m (unbuilt) │\n",
       "└──────────────────────────────────────┴─────────────────────────────┴─────────────────┘\n"
      ]
     },
     "metadata": {},
     "output_type": "display_data"
    },
    {
     "data": {
      "text/html": [
       "<pre style=\"white-space:pre;overflow-x:auto;line-height:normal;font-family:Menlo,'DejaVu Sans Mono',consolas,'Courier New',monospace\"><span style=\"font-weight: bold\"> Total params: </span><span style=\"color: #00af00; text-decoration-color: #00af00\">3,000,000</span> (11.44 MB)\n",
       "</pre>\n"
      ],
      "text/plain": [
       "\u001b[1m Total params: \u001b[0m\u001b[38;5;34m3,000,000\u001b[0m (11.44 MB)\n"
      ]
     },
     "metadata": {},
     "output_type": "display_data"
    },
    {
     "data": {
      "text/html": [
       "<pre style=\"white-space:pre;overflow-x:auto;line-height:normal;font-family:Menlo,'DejaVu Sans Mono',consolas,'Courier New',monospace\"><span style=\"font-weight: bold\"> Trainable params: </span><span style=\"color: #00af00; text-decoration-color: #00af00\">0</span> (0.00 B)\n",
       "</pre>\n"
      ],
      "text/plain": [
       "\u001b[1m Trainable params: \u001b[0m\u001b[38;5;34m0\u001b[0m (0.00 B)\n"
      ]
     },
     "metadata": {},
     "output_type": "display_data"
    },
    {
     "data": {
      "text/html": [
       "<pre style=\"white-space:pre;overflow-x:auto;line-height:normal;font-family:Menlo,'DejaVu Sans Mono',consolas,'Courier New',monospace\"><span style=\"font-weight: bold\"> Non-trainable params: </span><span style=\"color: #00af00; text-decoration-color: #00af00\">3,000,000</span> (11.44 MB)\n",
       "</pre>\n"
      ],
      "text/plain": [
       "\u001b[1m Non-trainable params: \u001b[0m\u001b[38;5;34m3,000,000\u001b[0m (11.44 MB)\n"
      ]
     },
     "metadata": {},
     "output_type": "display_data"
    },
    {
     "name": "stdout",
     "output_type": "stream",
     "text": [
      "Epoch 1/100\n",
      "\u001b[1m500/500\u001b[0m \u001b[32m━━━━━━━━━━━━━━━━━━━━\u001b[0m\u001b[37m\u001b[0m \u001b[1m62s\u001b[0m 117ms/step - accuracy: 0.5690 - loss: 1.2368 - val_accuracy: 0.5690 - val_loss: 1.0432\n",
      "Epoch 2/100\n",
      "\u001b[1m500/500\u001b[0m \u001b[32m━━━━━━━━━━━━━━━━━━━━\u001b[0m\u001b[37m\u001b[0m \u001b[1m70s\u001b[0m 141ms/step - accuracy: 0.7996 - loss: 0.5734 - val_accuracy: 0.7305 - val_loss: 0.7531\n",
      "Epoch 3/100\n",
      "\u001b[1m500/500\u001b[0m \u001b[32m━━━━━━━━━━━━━━━━━━━━\u001b[0m\u001b[37m\u001b[0m \u001b[1m75s\u001b[0m 127ms/step - accuracy: 0.8901 - loss: 0.3016 - val_accuracy: 0.8870 - val_loss: 0.3294\n",
      "Epoch 4/100\n",
      "\u001b[1m500/500\u001b[0m \u001b[32m━━━━━━━━━━━━━━━━━━━━\u001b[0m\u001b[37m\u001b[0m \u001b[1m79s\u001b[0m 120ms/step - accuracy: 0.9256 - loss: 0.2089 - val_accuracy: 0.9175 - val_loss: 0.2269\n",
      "Epoch 5/100\n",
      "\u001b[1m500/500\u001b[0m \u001b[32m━━━━━━━━━━━━━━━━━━━━\u001b[0m\u001b[37m\u001b[0m \u001b[1m65s\u001b[0m 129ms/step - accuracy: 0.9381 - loss: 0.1664 - val_accuracy: 0.9265 - val_loss: 0.1961\n",
      "Epoch 6/100\n",
      "\u001b[1m500/500\u001b[0m \u001b[32m━━━━━━━━━━━━━━━━━━━━\u001b[0m\u001b[37m\u001b[0m \u001b[1m60s\u001b[0m 120ms/step - accuracy: 0.9422 - loss: 0.1407 - val_accuracy: 0.9230 - val_loss: 0.2143\n",
      "Epoch 7/100\n",
      "\u001b[1m500/500\u001b[0m \u001b[32m━━━━━━━━━━━━━━━━━━━━\u001b[0m\u001b[37m\u001b[0m \u001b[1m87s\u001b[0m 131ms/step - accuracy: 0.9482 - loss: 0.1274 - val_accuracy: 0.9295 - val_loss: 0.1820\n",
      "Epoch 8/100\n",
      "\u001b[1m500/500\u001b[0m \u001b[32m━━━━━━━━━━━━━━━━━━━━\u001b[0m\u001b[37m\u001b[0m \u001b[1m77s\u001b[0m 122ms/step - accuracy: 0.9543 - loss: 0.1155 - val_accuracy: 0.9245 - val_loss: 0.2210\n",
      "Epoch 9/100\n",
      "\u001b[1m500/500\u001b[0m \u001b[32m━━━━━━━━━━━━━━━━━━━━\u001b[0m\u001b[37m\u001b[0m \u001b[1m82s\u001b[0m 122ms/step - accuracy: 0.9534 - loss: 0.1095 - val_accuracy: 0.9305 - val_loss: 0.1915\n",
      "Epoch 10/100\n",
      "\u001b[1m500/500\u001b[0m \u001b[32m━━━━━━━━━━━━━━━━━━━━\u001b[0m\u001b[37m\u001b[0m \u001b[1m84s\u001b[0m 127ms/step - accuracy: 0.9633 - loss: 0.0915 - val_accuracy: 0.9295 - val_loss: 0.1845\n",
      "Epoch 11/100\n",
      "\u001b[1m500/500\u001b[0m \u001b[32m━━━━━━━━━━━━━━━━━━━━\u001b[0m\u001b[37m\u001b[0m \u001b[1m80s\u001b[0m 123ms/step - accuracy: 0.9647 - loss: 0.0913 - val_accuracy: 0.9360 - val_loss: 0.1724\n",
      "Epoch 12/100\n",
      "\u001b[1m500/500\u001b[0m \u001b[32m━━━━━━━━━━━━━━━━━━━━\u001b[0m\u001b[37m\u001b[0m \u001b[1m82s\u001b[0m 123ms/step - accuracy: 0.9697 - loss: 0.0822 - val_accuracy: 0.9290 - val_loss: 0.2193\n",
      "Epoch 13/100\n",
      "\u001b[1m500/500\u001b[0m \u001b[32m━━━━━━━━━━━━━━━━━━━━\u001b[0m\u001b[37m\u001b[0m \u001b[1m82s\u001b[0m 123ms/step - accuracy: 0.9710 - loss: 0.0761 - val_accuracy: 0.9400 - val_loss: 0.1698\n",
      "Epoch 14/100\n",
      "\u001b[1m500/500\u001b[0m \u001b[32m━━━━━━━━━━━━━━━━━━━━\u001b[0m\u001b[37m\u001b[0m \u001b[1m61s\u001b[0m 122ms/step - accuracy: 0.9724 - loss: 0.0699 - val_accuracy: 0.9305 - val_loss: 0.1880\n",
      "Epoch 15/100\n",
      "\u001b[1m500/500\u001b[0m \u001b[32m━━━━━━━━━━━━━━━━━━━━\u001b[0m\u001b[37m\u001b[0m \u001b[1m83s\u001b[0m 124ms/step - accuracy: 0.9737 - loss: 0.0675 - val_accuracy: 0.9280 - val_loss: 0.2083\n",
      "Epoch 16/100\n",
      "\u001b[1m500/500\u001b[0m \u001b[32m━━━━━━━━━━━━━━━━━━━━\u001b[0m\u001b[37m\u001b[0m \u001b[1m61s\u001b[0m 122ms/step - accuracy: 0.9778 - loss: 0.0563 - val_accuracy: 0.9315 - val_loss: 0.1816\n",
      "Epoch 17/100\n",
      "\u001b[1m500/500\u001b[0m \u001b[32m━━━━━━━━━━━━━━━━━━━━\u001b[0m\u001b[37m\u001b[0m \u001b[1m82s\u001b[0m 122ms/step - accuracy: 0.9761 - loss: 0.0568 - val_accuracy: 0.9290 - val_loss: 0.2337\n",
      "Epoch 18/100\n",
      "\u001b[1m500/500\u001b[0m \u001b[32m━━━━━━━━━━━━━━━━━━━━\u001b[0m\u001b[37m\u001b[0m \u001b[1m82s\u001b[0m 122ms/step - accuracy: 0.9795 - loss: 0.0526 - val_accuracy: 0.9330 - val_loss: 0.1947\n",
      "Epoch 19/100\n",
      "\u001b[1m500/500\u001b[0m \u001b[32m━━━━━━━━━━━━━━━━━━━━\u001b[0m\u001b[37m\u001b[0m \u001b[1m82s\u001b[0m 123ms/step - accuracy: 0.9782 - loss: 0.0557 - val_accuracy: 0.9220 - val_loss: 0.2202\n",
      "Epoch 20/100\n",
      "\u001b[1m500/500\u001b[0m \u001b[32m━━━━━━━━━━━━━━━━━━━━\u001b[0m\u001b[37m\u001b[0m \u001b[1m65s\u001b[0m 129ms/step - accuracy: 0.9811 - loss: 0.0475 - val_accuracy: 0.9370 - val_loss: 0.2090\n",
      "Epoch 21/100\n",
      "\u001b[1m500/500\u001b[0m \u001b[32m━━━━━━━━━━━━━━━━━━━━\u001b[0m\u001b[37m\u001b[0m \u001b[1m62s\u001b[0m 124ms/step - accuracy: 0.9798 - loss: 0.0517 - val_accuracy: 0.9305 - val_loss: 0.2263\n",
      "Epoch 22/100\n",
      "\u001b[1m500/500\u001b[0m \u001b[32m━━━━━━━━━━━━━━━━━━━━\u001b[0m\u001b[37m\u001b[0m \u001b[1m84s\u001b[0m 128ms/step - accuracy: 0.9840 - loss: 0.0430 - val_accuracy: 0.9315 - val_loss: 0.2055\n",
      "Epoch 23/100\n",
      "\u001b[1m500/500\u001b[0m \u001b[32m━━━━━━━━━━━━━━━━━━━━\u001b[0m\u001b[37m\u001b[0m \u001b[1m79s\u001b[0m 123ms/step - accuracy: 0.9865 - loss: 0.0382 - val_accuracy: 0.9355 - val_loss: 0.2235\n",
      "Epoch 23: early stopping\n",
      "Restoring model weights from the end of the best epoch: 13.\n"
     ]
    }
   ],
   "source": [
    "model = Sequential([\n",
    "    Embedding(input_dim=max_words,\n",
    "              output_dim=embedding_dim,\n",
    "              input_length=max_len,\n",
    "              weights=[embedding_matrix],\n",
    "              trainable=False, name='embedding_layer'),\n",
    "    LSTM(128),\n",
    "    BatchNormalization(),\n",
    "    Dropout(0.2),\n",
    "    Dense(6, activation='softmax')\n",
    "])\n",
    "\n",
    "model.compile(loss='sparse_categorical_crossentropy',\n",
    "              optimizer=Adam(learning_rate=0.001),\n",
    "              metrics=['accuracy'])\n",
    "\n",
    "model.summary()\n",
    "\n",
    "early_stopping = EarlyStopping(\n",
    "    monitor='val_loss',\n",
    "    patience=10,\n",
    "    verbose=1,\n",
    "    restore_best_weights=True)\n",
    "\n",
    "history = model.fit(X_train, y_train,\n",
    "                    epochs=100,\n",
    "                    validation_data=(X_val, y_val),\n",
    "                    batch_size=32,\n",
    "                    verbose=1,\n",
    "                    callbacks=[early_stopping])"
   ]
  },
  {
   "cell_type": "markdown",
   "metadata": {
    "id": "G6IsHMS8-NLx"
   },
   "source": [
    "## Model Performance"
   ]
  },
  {
   "cell_type": "code",
   "execution_count": 8,
   "metadata": {
    "colab": {
     "base_uri": "https://localhost:8080/"
    },
    "executionInfo": {
     "elapsed": 6383,
     "status": "ok",
     "timestamp": 1739798844653,
     "user": {
      "displayName": "yasin sütoğlu",
      "userId": "06911595719741796393"
     },
     "user_tz": -180
    },
    "id": "Fs5QayDU-POB",
    "outputId": "f8ec424d-0e07-4426-80e4-5deb48671e7d"
   },
   "outputs": [
    {
     "name": "stdout",
     "output_type": "stream",
     "text": [
      "Val Loss: 0.16976617276668549 Val Accuracy: 0.9399999976158142\n",
      "Test Loss: 0.18619324266910553 Test Accuracy: 0.9304999709129333\n"
     ]
    }
   ],
   "source": [
    "val_loss, val_accuracy = model.evaluate(X_val, y_val, verbose=0)\n",
    "test_loss, test_accuracy = model.evaluate(X_test, y_test, verbose=0)\n",
    "\n",
    "print(f\"Val Loss: {val_loss}\", f\"Val Accuracy: {val_accuracy}\")\n",
    "print(f\"Test Loss: {test_loss}\", f\"Test Accuracy: {test_accuracy}\")"
   ]
  },
  {
   "cell_type": "code",
   "execution_count": 9,
   "metadata": {
    "colab": {
     "base_uri": "https://localhost:8080/"
    },
    "executionInfo": {
     "elapsed": 3326,
     "status": "ok",
     "timestamp": 1739798850554,
     "user": {
      "displayName": "yasin sütoğlu",
      "userId": "06911595719741796393"
     },
     "user_tz": -180
    },
    "id": "VIleXEaP-RSc",
    "outputId": "abd8e3db-558b-4323-ea42-2a76dd426615"
   },
   "outputs": [
    {
     "name": "stdout",
     "output_type": "stream",
     "text": [
      "0.9305\n",
      "              precision    recall  f1-score   support\n",
      "\n",
      "           0       0.95      0.95      0.95       695\n",
      "           1       0.96      0.97      0.96       581\n",
      "           2       0.94      0.92      0.93       275\n",
      "           3       0.92      0.89      0.90       224\n",
      "           4       0.82      0.88      0.85       159\n",
      "           5       0.77      0.73      0.75        66\n",
      "\n",
      "    accuracy                           0.93      2000\n",
      "   macro avg       0.89      0.89      0.89      2000\n",
      "weighted avg       0.93      0.93      0.93      2000\n",
      "\n"
     ]
    }
   ],
   "source": [
    "y_pred = model.predict(X_test, verbose=0)\n",
    "y_pred_classes = y_pred.argmax(axis=-1)\n",
    "\n",
    "classification_rep = classification_report(y_test, y_pred_classes)\n",
    "accuracy = accuracy_score(y_test, y_pred_classes)\n",
    "\n",
    "print(accuracy)\n",
    "print(classification_rep)"
   ]
  },
  {
   "cell_type": "markdown",
   "metadata": {
    "id": "A1Soc4UK-WbZ"
   },
   "source": [
    "## Prediction"
   ]
  },
  {
   "cell_type": "code",
   "execution_count": 10,
   "metadata": {
    "executionInfo": {
     "elapsed": 252,
     "status": "ok",
     "timestamp": 1739798854311,
     "user": {
      "displayName": "yasin sütoğlu",
      "userId": "06911595719741796393"
     },
     "user_tz": -180
    },
    "id": "F7AqdEse-XmJ"
   },
   "outputs": [],
   "source": [
    "np.random.seed(42)\n",
    "\n",
    "random_indices = np.random.choice(X_test.shape[0], size=10, replace=False)\n",
    "\n",
    "X_random_test = X_test[random_indices]\n",
    "y_random_test = y_test.iloc[random_indices]\n",
    "\n",
    "y_random_pred = model.predict(X_random_test, verbose=0)\n",
    "y_random_pred_classes = y_random_pred.argmax(axis=-1)"
   ]
  },
  {
   "cell_type": "code",
   "execution_count": 11,
   "metadata": {
    "colab": {
     "base_uri": "https://localhost:8080/"
    },
    "executionInfo": {
     "elapsed": 257,
     "status": "ok",
     "timestamp": 1739798857265,
     "user": {
      "displayName": "yasin sütoğlu",
      "userId": "06911595719741796393"
     },
     "user_tz": -180
    },
    "id": "P5zzYHvM-g43",
    "outputId": "69ff00c7-26e8-47c9-cb86-6c8c4f9a691f"
   },
   "outputs": [
    {
     "name": "stdout",
     "output_type": "stream",
     "text": [
      "                                                                                                                                                text actual_label predicted_label\n",
      "0  feel dirty spending day mk show buddy decided would get two player starter us luckily us liked everblight liked circle maybe tad much worked well      sadness         sadness\n",
      "1                                                                                                                could feel breath smell sweet scent          joy            love\n",
      "2                                                                                                                                    want feel loved         love            love\n",
      "3                                           felt need write sometimes anxious feelings impatient thoughts lists things still could done baby arrives        anger           anger\n",
      "4                                                                                                                                party met girl drew        anger           anger\n",
      "5                                                                                                                       feel strange sort liberation     surprise        surprise\n",
      "6                                                 remember feeling thrilled use nursing skills relieved could days house remember first hard problem          joy             joy\n",
      "7                                                                                 always feel sympathetic well life really hard sometimes alot pride         love            love\n",
      "8                                                                                   feel little stunned imagine folks working studio morning feeling     surprise        surprise\n",
      "9                                                                                 feel slytherin house slytherin smart enough know get job done cost          joy             joy\n"
     ]
    }
   ],
   "source": [
    "results = pd.DataFrame({\n",
    "    'text': test_df['text'].iloc[random_indices].values,\n",
    "    'actual_label': y_random_test.values,\n",
    "    'predicted_label': y_random_pred_classes\n",
    "})\n",
    "\n",
    "int_to_label = {v: k for k, v in label_to_int.items()}\n",
    "\n",
    "results['actual_label'] = results['actual_label'].map(int_to_label)\n",
    "results['predicted_label'] = results['predicted_label'].map(int_to_label)\n",
    "\n",
    "pd.set_option('display.max_colwidth', None)\n",
    "pd.set_option('display.width', 500)\n",
    "\n",
    "print(results)"
   ]
  },
  {
   "cell_type": "markdown",
   "metadata": {
    "id": "8lYt_5Uq-nJO"
   },
   "source": [
    "## Prediction for New Data"
   ]
  },
  {
   "cell_type": "code",
   "execution_count": 12,
   "metadata": {
    "executionInfo": {
     "elapsed": 495,
     "status": "ok",
     "timestamp": 1739798862694,
     "user": {
      "displayName": "yasin sütoğlu",
      "userId": "06911595719741796393"
     },
     "user_tz": -180
    },
    "id": "nqDSy2Hn-oB8"
   },
   "outputs": [],
   "source": [
    "model.save('emotion_lstm_model.keras')\n",
    "\n",
    "loaded_model = load_model('emotion_lstm_model.keras')"
   ]
  },
  {
   "cell_type": "code",
   "execution_count": 13,
   "metadata": {
    "executionInfo": {
     "elapsed": 236,
     "status": "ok",
     "timestamp": 1739798867423,
     "user": {
      "displayName": "yasin sütoğlu",
      "userId": "06911595719741796393"
     },
     "user_tz": -180
    },
    "id": "0r__HUtj-ufE"
   },
   "outputs": [],
   "source": [
    "new_text = \"I feel very happy and joyful today!\"\n",
    "\n",
    "cleaned_text = clean_text(new_text)\n",
    "\n",
    "tokenized_text = tokenizer.texts_to_sequences([cleaned_text])\n",
    "\n",
    "padded_text = pad_sequences(tokenized_text, maxlen=max_len)"
   ]
  },
  {
   "cell_type": "code",
   "execution_count": 14,
   "metadata": {
    "executionInfo": {
     "elapsed": 505,
     "status": "ok",
     "timestamp": 1739798871618,
     "user": {
      "displayName": "yasin sütoğlu",
      "userId": "06911595719741796393"
     },
     "user_tz": -180
    },
    "id": "gdYS82Dn-wwr"
   },
   "outputs": [],
   "source": [
    "predicted_probabilities = loaded_model.predict(padded_text, verbose=0)\n",
    "\n",
    "predicted_class = predicted_probabilities.argmax(axis=-1)[0]"
   ]
  },
  {
   "cell_type": "code",
   "execution_count": 15,
   "metadata": {
    "executionInfo": {
     "elapsed": 238,
     "status": "ok",
     "timestamp": 1739798874803,
     "user": {
      "displayName": "yasin sütoğlu",
      "userId": "06911595719741796393"
     },
     "user_tz": -180
    },
    "id": "n4VGldUf-yat"
   },
   "outputs": [],
   "source": [
    "predicted_label = int_to_label[predicted_class]"
   ]
  },
  {
   "cell_type": "code",
   "execution_count": 16,
   "metadata": {
    "colab": {
     "base_uri": "https://localhost:8080/"
    },
    "executionInfo": {
     "elapsed": 292,
     "status": "ok",
     "timestamp": 1739798877161,
     "user": {
      "displayName": "yasin sütoğlu",
      "userId": "06911595719741796393"
     },
     "user_tz": -180
    },
    "id": "lGyCSeGP-0aP",
    "outputId": "f7263ce2-69a9-4147-cc5a-acb8ef3a584a"
   },
   "outputs": [
    {
     "name": "stdout",
     "output_type": "stream",
     "text": [
      "Text: I feel very happy and joyful today!\n",
      "Predicted Label: joy\n"
     ]
    }
   ],
   "source": [
    "print(f\"Text: {new_text}\")\n",
    "print(f\"Predicted Label: {predicted_label}\")"
   ]
  },
  {
   "cell_type": "code",
   "execution_count": 18,
   "metadata": {
    "colab": {
     "base_uri": "https://localhost:8080/"
    },
    "executionInfo": {
     "elapsed": 275,
     "status": "ok",
     "timestamp": 1739798887987,
     "user": {
      "displayName": "yasin sütoğlu",
      "userId": "06911595719741796393"
     },
     "user_tz": -180
    },
    "id": "cvEkV4Xm-1BG",
    "outputId": "e89699ef-34b4-4497-fb7b-4b8b585823b4"
   },
   "outputs": [
    {
     "name": "stdout",
     "output_type": "stream",
     "text": [
      "I feel very happy and joyful today! Emotion: joy\n"
     ]
    }
   ],
   "source": [
    "def predict_emotion(text):\n",
    "    cleaned_text = clean_text(text)\n",
    "    tokenized_text = tokenizer.texts_to_sequences([cleaned_text])    \n",
    "    padded_text = pad_sequences(tokenized_text, maxlen=max_len)\n",
    "    \n",
    "    predicted_probabilities = loaded_model.predict(padded_text, verbose=0)\n",
    "    predicted_class = predicted_probabilities.argmax(axis=-1)[0]\n",
    "    predicted_label = int_to_label[predicted_class]\n",
    "    \n",
    "    print(text, \"Emotion:\", predicted_label)\n",
    "\n",
    "predict_emotion(new_text)"
   ]
  },
  {
   "cell_type": "code",
   "execution_count": 19,
   "metadata": {
    "colab": {
     "base_uri": "https://localhost:8080/"
    },
    "executionInfo": {
     "elapsed": 1020,
     "status": "ok",
     "timestamp": 1739798892412,
     "user": {
      "displayName": "yasin sütoğlu",
      "userId": "06911595719741796393"
     },
     "user_tz": -180
    },
    "id": "EHn5TeCA-5s0",
    "outputId": "616578ca-0d0d-4f5d-ee8f-c261555002c2"
   },
   "outputs": [
    {
     "name": "stdout",
     "output_type": "stream",
     "text": [
      "I had such a wonderful day with you today! Emotion: joy\n",
      "I'm feeling really sad and lonely right now. Emotion: sadness\n",
      "I'm so angry that you didn't call me back! Emotion: anger\n",
      "I'm terrified of what might happen next. Emotion: fear\n",
      "I love you more than words can express. Emotion: anger\n",
      "I'm so surprised by the gift you sent me! Emotion: joy\n",
      "I feel so joyful when we are together. Emotion: joy\n",
      "I'm feeling really anxious about tomorrow. Emotion: fear\n",
      "I can't believe you remembered our anniversary! Emotion: joy\n",
      "I feel so much love for you every day. Emotion: joy\n"
     ]
    }
   ],
   "source": [
    "messages = [\n",
    "    \"I had such a wonderful day with you today!\",\n",
    "    \"I'm feeling really sad and lonely right now.\",\n",
    "    \"I'm so angry that you didn't call me back!\",\n",
    "    \"I'm terrified of what might happen next.\",\n",
    "    \"I love you more than words can express.\",\n",
    "    \"I'm so surprised by the gift you sent me!\",\n",
    "    \"I feel so joyful when we are together.\",\n",
    "    \"I'm feeling really anxious about tomorrow.\",\n",
    "    \"I can't believe you remembered our anniversary!\",\n",
    "    \"I feel so much love for you every day.\"\n",
    "]\n",
    "\n",
    "for message in messages:\n",
    "    predict_emotion(message)"
   ]
  }
 ],
 "metadata": {
  "colab": {
   "authorship_tag": "ABX9TyN9+9iWlP7JFP/5ynsb1Ztj",
   "mount_file_id": "1XyVm-M4rZbzOM3nxdgLyRyOzOxybt9Ui",
   "provenance": []
  },
  "kernelspec": {
   "display_name": "Python 3 (ipykernel)",
   "language": "python",
   "name": "python3"
  },
  "language_info": {
   "codemirror_mode": {
    "name": "ipython",
    "version": 3
   },
   "file_extension": ".py",
   "mimetype": "text/x-python",
   "name": "python",
   "nbconvert_exporter": "python",
   "pygments_lexer": "ipython3",
   "version": "3.11.5"
  }
 },
 "nbformat": 4,
 "nbformat_minor": 4
}
