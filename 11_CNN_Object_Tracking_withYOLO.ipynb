{
 "cells": [
  {
   "cell_type": "markdown",
   "metadata": {
    "id": "bzqBCXF7JXui"
   },
   "source": [
    "# Object Tracking with YOLOv3"
   ]
  },
  {
   "cell_type": "code",
   "execution_count": 1,
   "metadata": {
    "executionInfo": {
     "elapsed": 193,
     "status": "ok",
     "timestamp": 1739011395062,
     "user": {
      "displayName": "yasin sütoğlu",
      "userId": "06911595719741796393"
     },
     "user_tz": -180
    },
    "id": "uZ9ZWYLbJS0B"
   },
   "outputs": [],
   "source": [
    "import matplotlib.pyplot as plt\n",
    "import cv2\n",
    "import random, os\n",
    "import numpy as np\n",
    "from glob import glob"
   ]
  },
  {
   "cell_type": "code",
   "execution_count": 2,
   "metadata": {
    "executionInfo": {
     "elapsed": 346,
     "status": "ok",
     "timestamp": 1739011448222,
     "user": {
      "displayName": "yasin sütoğlu",
      "userId": "06911595719741796393"
     },
     "user_tz": -180
    },
    "id": "Atuqkk_jKAwK"
   },
   "outputs": [],
   "source": [
    "config = \"../yolo_files/yolov3.cfg\"\n",
    "weights = \"../yolo_files/yolov3.weights\"\n",
    "labels_path = \"../yolo_files/coco.names\"\n",
    "\n",
    "with open(labels_path, 'r') as f:\n",
    "    classes = f.read().strip().split('\\n')"
   ]
  },
  {
   "cell_type": "code",
   "execution_count": 3,
   "metadata": {
    "executionInfo": {
     "elapsed": 6,
     "status": "ok",
     "timestamp": 1739011474706,
     "user": {
      "displayName": "yasin sütoğlu",
      "userId": "06911595719741796393"
     },
     "user_tz": -180
    },
    "id": "k0IjAk73KP_7"
   },
   "outputs": [],
   "source": [
    "video_path = '../yolo_files/car_flow.mp4'\n",
    "\n",
    "output_path = 'object_tracking_yolov3.mp4'"
   ]
  },
  {
   "cell_type": "code",
   "execution_count": 4,
   "metadata": {
    "colab": {
     "base_uri": "https://localhost:8080/",
     "height": 17
    },
    "executionInfo": {
     "elapsed": 408664,
     "status": "ok",
     "timestamp": 1739012378378,
     "user": {
      "displayName": "yasin sütoğlu",
      "userId": "06911595719741796393"
     },
     "user_tz": -180
    },
    "id": "nKX0uFtgKVXZ",
    "outputId": "548af6d9-c5b2-400f-8227-b68d79061849"
   },
   "outputs": [
    {
     "data": {
      "application/javascript": [
       "\n",
       "    async function download(id, filename, size) {\n",
       "      if (!google.colab.kernel.accessAllowed) {\n",
       "        return;\n",
       "      }\n",
       "      const div = document.createElement('div');\n",
       "      const label = document.createElement('label');\n",
       "      label.textContent = `Downloading \"${filename}\": `;\n",
       "      div.appendChild(label);\n",
       "      const progress = document.createElement('progress');\n",
       "      progress.max = size;\n",
       "      div.appendChild(progress);\n",
       "      document.body.appendChild(div);\n",
       "\n",
       "      const buffers = [];\n",
       "      let downloaded = 0;\n",
       "\n",
       "      const channel = await google.colab.kernel.comms.open(id);\n",
       "      // Send a message to notify the kernel that we're ready.\n",
       "      channel.send({})\n",
       "\n",
       "      for await (const message of channel.messages) {\n",
       "        // Send a message to notify the kernel that we're ready.\n",
       "        channel.send({})\n",
       "        if (message.buffers) {\n",
       "          for (const buffer of message.buffers) {\n",
       "            buffers.push(buffer);\n",
       "            downloaded += buffer.byteLength;\n",
       "            progress.value = downloaded;\n",
       "          }\n",
       "        }\n",
       "      }\n",
       "      const blob = new Blob(buffers, {type: 'application/binary'});\n",
       "      const a = document.createElement('a');\n",
       "      a.href = window.URL.createObjectURL(blob);\n",
       "      a.download = filename;\n",
       "      div.appendChild(a);\n",
       "      a.click();\n",
       "      div.remove();\n",
       "    }\n",
       "  "
      ],
      "text/plain": [
       "<IPython.core.display.Javascript object>"
      ]
     },
     "metadata": {},
     "output_type": "display_data"
    },
    {
     "data": {
      "application/javascript": [
       "download(\"download_4462ea21-cbd1-4cd7-87bd-f122a87630ff\", \"object_tracking_yolov3.mp4\", 24515688)"
      ],
      "text/plain": [
       "<IPython.core.display.Javascript object>"
      ]
     },
     "metadata": {},
     "output_type": "display_data"
    }
   ],
   "source": [
    "def load_yolo_model(config_path, weights_path):\n",
    "    \n",
    "    net = cv2.dnn.readNetFromDarknet(config_path, weights_path)\n",
    "    layer_names = net.getLayerNames()\n",
    "    output_layers = [layer_names[i - 1] for i in net.getUnconnectedOutLayers().flatten()]\n",
    "    \n",
    "    return net, output_layers\n",
    "\n",
    "def detect_objects(net, frame, output_layers):\n",
    "    \n",
    "    height, width, _ = frame.shape\n",
    "    blob = cv2.dnn.blobFromImage(frame, 0.00392, (416, 416), (0, 0, 0), True, crop=False)\n",
    "    net.setInput(blob)\n",
    "    outs = net.forward(output_layers)\n",
    "\n",
    "    class_ids = []\n",
    "    confidences = []\n",
    "    boxes = []\n",
    "    \n",
    "    for out in outs:\n",
    "        for detection in out:\n",
    "            \n",
    "            scores = detection[5:]\n",
    "            class_id = np.argmax(scores)\n",
    "            confidence = scores[class_id]\n",
    "            \n",
    "            if confidence > 0.5:\n",
    "                \n",
    "                center_x = int(detection[0] * width)\n",
    "                center_y = int(detection[1] * height)\n",
    "                \n",
    "                w = int(detection[2] * width)\n",
    "                h = int(detection[3] * height)\n",
    "                x = int(center_x - w / 2)\n",
    "                y = int(center_y - h / 2)\n",
    "                \n",
    "                boxes.append([x, y, w, h])\n",
    "                confidences.append(float(confidence))\n",
    "                class_ids.append(class_id)\n",
    "                \n",
    "    return boxes, confidences, class_ids\n",
    "\n",
    "\n",
    "def draw_labels(boxes, confidences, class_ids, classes, frame):\n",
    "    indexes = cv2.dnn.NMSBoxes(boxes, confidences, 0.5, 0.4)\n",
    "    font = cv2.FONT_HERSHEY_PLAIN\n",
    "    \n",
    "    for i in range(len(boxes)):\n",
    "        if i in indexes:\n",
    "            x, y, w, h = boxes[i]\n",
    "            label = str(classes[class_ids[i]])\n",
    "            confidence = confidences[i]\n",
    "            color = (0, 255, 0)\n",
    "            cv2.rectangle(frame, (x, y), (x + w, y + h), color, 2)\n",
    "            cv2.putText(frame, f\"{label} {round(confidence, 2)}\", (x, y + 30), font, 2, color, 2)\n",
    "\n",
    "net, output_layers = load_yolo_model(config, weights)\n",
    "\n",
    "# ----------------------------------------\n",
    "\n",
    "cap = cv2.VideoCapture(video_path) # capture/read video\n",
    "\n",
    "fourcc = cv2.VideoWriter_fourcc(*'XVID') # XVID => Codec type required to read the video; Good for video compression and stabilization.\n",
    "\n",
    "out = cv2.VideoWriter(output_path, fourcc, 30.0, (int(cap.get(3)), int(cap.get(4))))\n",
    "# 30.0 => fps(frame per second)\n",
    "#  (int(cap.get(3)), int(cap.get(4))) => Those values are taken from the width and height index information of the video.\n",
    "\n",
    "# THE CODE BLOG FOR MAKING FRAME BY FRAME OPERATIONS ON VIDEO!\n",
    "while True:\n",
    "    ret, frame = cap.read() # cap => \"video capture\"\n",
    "    if not ret:\n",
    "        break\n",
    "    boxes, confidences, class_ids = detect_objects(net, frame, output_layers)\n",
    "    draw_labels(boxes, confidences, class_ids, classes, frame)\n",
    "    out.write(frame) # The processed frames are added to \"out\".\n",
    "\n",
    "cap.release()\n",
    "out.release()\n",
    "cv2.destroyAllWindows()\n",
    "\n",
    "from google.colab import files\n",
    "files.download(output_path)"
   ]
  },
  {
   "cell_type": "markdown",
   "metadata": {
    "id": "tfYXUyCTKazM"
   },
   "source": [
    "# Object Tracking with Ultranalytics(YOLOv8)"
   ]
  },
  {
   "cell_type": "code",
   "execution_count": 6,
   "metadata": {
    "collapsed": true,
    "executionInfo": {
     "elapsed": 36,
     "status": "ok",
     "timestamp": 1739012710050,
     "user": {
      "displayName": "yasin sütoğlu",
      "userId": "06911595719741796393"
     },
     "user_tz": -180
    },
    "id": "V-yqH313MzXf",
    "jupyter": {
     "outputs_hidden": true
    }
   },
   "outputs": [],
   "source": [
    "# !pip install ultralytics"
   ]
  },
  {
   "cell_type": "code",
   "execution_count": 7,
   "metadata": {
    "colab": {
     "base_uri": "https://localhost:8080/"
    },
    "executionInfo": {
     "elapsed": 10119,
     "status": "ok",
     "timestamp": 1739012722051,
     "user": {
      "displayName": "yasin sütoğlu",
      "userId": "06911595719741796393"
     },
     "user_tz": -180
    },
    "id": "P0RT8KkNKe1y",
    "outputId": "55c8d7b7-a964-44ad-cc19-436ed7a851f9"
   },
   "outputs": [
    {
     "name": "stdout",
     "output_type": "stream",
     "text": [
      "Creating new Ultralytics Settings v0.0.6 file ✅ \n",
      "View Ultralytics Settings with 'yolo settings' or at '/root/.config/Ultralytics/settings.json'\n",
      "Update Settings with 'yolo settings key=value', i.e. 'yolo settings runs_dir=path/to/dir'. For help see https://docs.ultralytics.com/quickstart/#ultralytics-settings.\n"
     ]
    }
   ],
   "source": [
    "import cv2\n",
    "import numpy as np\n",
    "from ultralytics import YOLO\n",
    "\n",
    "from ultralytics.utils.checks import check_imshow\n",
    "from ultralytics.utils.plotting import Annotator, colors\n",
    "\n",
    "from collections import defaultdict"
   ]
  },
  {
   "cell_type": "code",
   "execution_count": 8,
   "metadata": {
    "executionInfo": {
     "elapsed": 2,
     "status": "ok",
     "timestamp": 1739012723109,
     "user": {
      "displayName": "yasin sütoğlu",
      "userId": "06911595719741796393"
     },
     "user_tz": -180
    },
    "id": "0i1ps802Mfim"
   },
   "outputs": [],
   "source": [
    "# METHOD-1\n",
    "# !yolo track source='../yolo_files/car_flow.mp4' save=True\n",
    "# We call \"yolo\" and say that -track and save- the specified source."
   ]
  },
  {
   "cell_type": "code",
   "execution_count": 9,
   "metadata": {
    "executionInfo": {
     "elapsed": 3,
     "status": "ok",
     "timestamp": 1739012725828,
     "user": {
      "displayName": "yasin sütoğlu",
      "userId": "06911595719741796393"
     },
     "user_tz": -180
    },
    "id": "dw95mlxYMl5_"
   },
   "outputs": [],
   "source": [
    "# METHOD-2 BeGIN\n",
    "video_path = '../yolo_files/car_flow.mp4'\n",
    "\n",
    "output_path = 'object_tracking_yolov8.mp4'"
   ]
  },
  {
   "cell_type": "code",
   "execution_count": 10,
   "metadata": {
    "colab": {
     "base_uri": "https://localhost:8080/",
     "height": 260
    },
    "executionInfo": {
     "elapsed": 102838,
     "status": "ok",
     "timestamp": 1739013086250,
     "user": {
      "displayName": "yasin sütoğlu",
      "userId": "06911595719741796393"
     },
     "user_tz": -180
    },
    "id": "GmR5mjXGMw3O",
    "outputId": "553667f2-7a67-41a2-e5d1-ac53a5073086"
   },
   "outputs": [
    {
     "name": "stdout",
     "output_type": "stream",
     "text": [
      "Downloading https://github.com/ultralytics/assets/releases/download/v8.3.0/yolov8n.pt to 'yolov8n.pt'...\n"
     ]
    },
    {
     "name": "stderr",
     "output_type": "stream",
     "text": [
      "100%|██████████| 6.25M/6.25M [00:00<00:00, 77.9MB/s]\n"
     ]
    },
    {
     "name": "stdout",
     "output_type": "stream",
     "text": [
      "\u001b[31m\u001b[1mrequirements:\u001b[0m Ultralytics requirement ['lap>=0.5.12'] not found, attempting AutoUpdate...\n",
      "Collecting lap>=0.5.12\n",
      "  Downloading lap-0.5.12-cp311-cp311-manylinux_2_5_x86_64.manylinux1_x86_64.manylinux_2_17_x86_64.manylinux2014_x86_64.whl.metadata (6.2 kB)\n",
      "Requirement already satisfied: numpy>=1.21.6 in /usr/local/lib/python3.11/dist-packages (from lap>=0.5.12) (1.26.4)\n",
      "Downloading lap-0.5.12-cp311-cp311-manylinux_2_5_x86_64.manylinux1_x86_64.manylinux_2_17_x86_64.manylinux2014_x86_64.whl (1.7 MB)\n",
      "   ━━━━━━━━━━━━━━━━━━━━━━━━━━━━━━━━━━━━━━━━ 1.7/1.7 MB 20.3 MB/s eta 0:00:00\n",
      "Installing collected packages: lap\n",
      "Successfully installed lap-0.5.12\n",
      "\n",
      "\u001b[31m\u001b[1mrequirements:\u001b[0m AutoUpdate success ✅ 6.3s, installed 1 package: ['lap>=0.5.12']\n",
      "\u001b[31m\u001b[1mrequirements:\u001b[0m ⚠️ \u001b[1mRestart runtime or rerun command for updates to take effect\u001b[0m\n",
      "\n"
     ]
    },
    {
     "data": {
      "application/javascript": [
       "\n",
       "    async function download(id, filename, size) {\n",
       "      if (!google.colab.kernel.accessAllowed) {\n",
       "        return;\n",
       "      }\n",
       "      const div = document.createElement('div');\n",
       "      const label = document.createElement('label');\n",
       "      label.textContent = `Downloading \"${filename}\": `;\n",
       "      div.appendChild(label);\n",
       "      const progress = document.createElement('progress');\n",
       "      progress.max = size;\n",
       "      div.appendChild(progress);\n",
       "      document.body.appendChild(div);\n",
       "\n",
       "      const buffers = [];\n",
       "      let downloaded = 0;\n",
       "\n",
       "      const channel = await google.colab.kernel.comms.open(id);\n",
       "      // Send a message to notify the kernel that we're ready.\n",
       "      channel.send({})\n",
       "\n",
       "      for await (const message of channel.messages) {\n",
       "        // Send a message to notify the kernel that we're ready.\n",
       "        channel.send({})\n",
       "        if (message.buffers) {\n",
       "          for (const buffer of message.buffers) {\n",
       "            buffers.push(buffer);\n",
       "            downloaded += buffer.byteLength;\n",
       "            progress.value = downloaded;\n",
       "          }\n",
       "        }\n",
       "      }\n",
       "      const blob = new Blob(buffers, {type: 'application/binary'});\n",
       "      const a = document.createElement('a');\n",
       "      a.href = window.URL.createObjectURL(blob);\n",
       "      a.download = filename;\n",
       "      div.appendChild(a);\n",
       "      a.click();\n",
       "      div.remove();\n",
       "    }\n",
       "  "
      ],
      "text/plain": [
       "<IPython.core.display.Javascript object>"
      ]
     },
     "metadata": {},
     "output_type": "display_data"
    },
    {
     "data": {
      "application/javascript": [
       "download(\"download_ff9b3b7a-5303-462f-b120-559000ed3274\", \"object_tracking_yolov8.mp4\", 14775707)"
      ],
      "text/plain": [
       "<IPython.core.display.Javascript object>"
      ]
     },
     "metadata": {},
     "output_type": "display_data"
    }
   ],
   "source": [
    "model = YOLO(\"yolov8n.pt\")\n",
    "\n",
    "names = model.model.names\n",
    "\n",
    "track_history = defaultdict(lambda: []) # Used to store object history\n",
    "\n",
    "cap = cv2.VideoCapture(video_path)\n",
    "assert cap.isOpened(), \"Error reading video file\" # Give a warning if the video cannot be opened!\n",
    "\n",
    "w, h, fps = ( int(cap.get(x)) for x in (cv2.CAP_PROP_FRAME_WIDTH, cv2.CAP_PROP_FRAME_HEIGHT, cv2.CAP_PROP_FPS) )\n",
    "\n",
    "result = cv2.VideoWriter(output_path,\n",
    "                       cv2.VideoWriter_fourcc(*'mp4v'),\n",
    "                       fps,\n",
    "                       (w, h))\n",
    "\n",
    "# THE CODE BLOG FOR MAKING FRAME BY FRAME OPERATIONS ON VIDEO!\n",
    "while cap.isOpened():\n",
    "    success, frame = cap.read()\n",
    "    \n",
    "    if success:\n",
    "        results = model.track(frame, persist=True, verbose=False) # Make observations on frames with the model!\n",
    "        boxes = results[0].boxes.xyxy.cpu()\n",
    "\n",
    "        if results[0].boxes.id is not None:\n",
    "\n",
    "            # Extract prediction results\n",
    "            clss = results[0].boxes.cls.cpu().tolist() # class infos\n",
    "            track_ids = results[0].boxes.id.int().cpu().tolist() # id info\n",
    "            confs = results[0].boxes.conf.float().cpu().tolist() # confidence scores\n",
    "\n",
    "            # Annotator Init\n",
    "            annotator = Annotator(frame, line_width=2) # Mark the frames with Annotator()!\n",
    "\n",
    "            # Go through the boxes one by one and make drawings!\n",
    "            for box, cls, track_id in zip(boxes, clss, track_ids):\n",
    "\n",
    "                annotator.box_label(box, color=colors(int(cls), True), label=names[int(cls)])\n",
    "\n",
    "                # Store tracking history\n",
    "                track = track_history[track_id]\n",
    "                track.append((int((box[0] + box[2]) / 2), int((box[1] + box[3]) / 2)))\n",
    "\n",
    "                if len(track) > 30:\n",
    "                    track.pop(0)\n",
    "\n",
    "                # Plot tracks - Mark the tracking points!\n",
    "                points = np.array(track, dtype=np.int32).reshape((-1, 1, 2))\n",
    "                cv2.circle(frame, (track[-1]), 7, colors(int(cls), True), -1)\n",
    "                cv2.polylines(frame, [points], isClosed=False, color=colors(int(cls), True), thickness=2)\n",
    "\n",
    "        result.write(frame) # Add each processed frame to the result created with VideoWriter()!\n",
    "        if cv2.waitKey(1) & 0xFF == ord(\"q\"): # Press the \"q\" key on the keyboard to exit!\n",
    "            break\n",
    "    else:\n",
    "        break\n",
    "\n",
    "\n",
    "result.release()\n",
    "cap.release()\n",
    "cv2.destroyAllWindows()\n",
    "\n",
    "\n",
    "from google.colab import files\n",
    "files.download(output_path)"
   ]
  },
  {
   "cell_type": "markdown",
   "metadata": {
    "id": "ENVKfLUcQH6A"
   },
   "source": [
    "# Object Counting with YOLOv8"
   ]
  },
  {
   "cell_type": "code",
   "execution_count": 11,
   "metadata": {
    "executionInfo": {
     "elapsed": 133,
     "status": "ok",
     "timestamp": 1739013113849,
     "user": {
      "displayName": "yasin sütoğlu",
      "userId": "06911595719741796393"
     },
     "user_tz": -180
    },
    "id": "e632QbgZQIdw"
   },
   "outputs": [],
   "source": [
    "# !pip install ultralytics\n",
    "from ultralytics import YOLO\n",
    "from ultralytics.solutions import object_counter\n",
    "import cv2"
   ]
  },
  {
   "cell_type": "code",
   "execution_count": 12,
   "metadata": {
    "executionInfo": {
     "elapsed": 14,
     "status": "ok",
     "timestamp": 1739013116867,
     "user": {
      "displayName": "yasin sütoğlu",
      "userId": "06911595719741796393"
     },
     "user_tz": -180
    },
    "id": "enVk5fYmQOAs"
   },
   "outputs": [],
   "source": [
    "video_path = '../yolo_files/people.m4v'\n",
    "\n",
    "output_path = \"people_counting_yolov8.mp4\""
   ]
  },
  {
   "cell_type": "code",
   "execution_count": 15,
   "metadata": {
    "executionInfo": {
     "elapsed": 5,
     "status": "ok",
     "timestamp": 1739013448080,
     "user": {
      "displayName": "yasin sütoğlu",
      "userId": "06911595719741796393"
     },
     "user_tz": -180
    },
    "id": "K6Zz12__QYyS"
   },
   "outputs": [],
   "source": [
    "region_points = [\n",
    "    (359, 138), # up-left\n",
    "    (359, 388), # down-left\n",
    "    (409, 388), # up-right\n",
    "    (409, 138) # down-right\n",
    "] # A hypothetically designated security area!"
   ]
  },
  {
   "cell_type": "code",
   "execution_count": null,
   "metadata": {
    "id": "tmUdHA7XQZ6H"
   },
   "outputs": [],
   "source": [
    "model = YOLO(\"yolov8n.pt\")\n",
    "\n",
    "cap = cv2.VideoCapture(video_path)\n",
    "assert cap.isOpened(), \"Error reading video file\"\n",
    "\n",
    "w, h, fps = (int(cap.get(x)) for x in (cv2.CAP_PROP_FRAME_WIDTH, cv2.CAP_PROP_FRAME_HEIGHT, cv2.CAP_PROP_FPS))\n",
    "\n",
    "video_writer = cv2.VideoWriter(output_path,\n",
    "                       cv2.VideoWriter_fourcc(*'mp4v'),\n",
    "                       fps,\n",
    "                       (w, h))\n",
    "\n",
    "\n",
    "counter = object_counter.ObjectCounter() # ultranalytics built-in method ObjectCounter() used in here!\n",
    "\n",
    "# counter.set_args(view_img=True,\n",
    "#                  reg_pts=region_points, # We gave the area we specified as a parameter\n",
    "#                  classes_names=model.names,\n",
    "#                  draw_tracks=True)\n",
    "\n",
    "\n",
    "while cap.isOpened():\n",
    "    success, im0 = cap.read()\n",
    "    if not success:\n",
    "        print(\"Video frame is empty or video processing has been successfully completed.\")\n",
    "        break\n",
    "\n",
    "    tracks = model.track(im0, persist=True, show=False) # Watch the model frame by frame!\n",
    "\n",
    "    im0 = counter.start_counting(im0, tracks)\n",
    "    # im0 = counter.count_objects(....)\n",
    "    video_writer.write(im0)\n",
    "\n",
    "\n",
    "cap.release()\n",
    "video_writer.release()\n",
    "cv2.destroyAllWindows()\n",
    "\n",
    "from google.colab import files\n",
    "files.download(output_path)"
   ]
  },
  {
   "cell_type": "code",
   "execution_count": null,
   "metadata": {
    "id": "iP0rCH1dQ6LU"
   },
   "outputs": [],
   "source": [
    "import shutil, os\n",
    "from glob import glob"
   ]
  },
  {
   "cell_type": "code",
   "execution_count": null,
   "metadata": {
    "id": "hl0_ItMQQ_2B"
   },
   "outputs": [],
   "source": [
    "output_path = '../object_tracking_yolov8.mp4'\n",
    "drive_path = '../outputs/'\n",
    "os.makedirs(drive_path, exist_ok=True)\n",
    "shutil.copy(output_path, drive_path)"
   ]
  },
  {
   "cell_type": "code",
   "execution_count": null,
   "metadata": {
    "id": "rQVtu2vfRSmO"
   },
   "outputs": [],
   "source": [
    "os.listdir(drive_path)"
   ]
  },
  {
   "cell_type": "markdown",
   "metadata": {
    "id": "ZvQC8q6FRUVc"
   },
   "source": [
    "# Saving Outputs from Colab to Drive"
   ]
  },
  {
   "cell_type": "code",
   "execution_count": null,
   "metadata": {
    "id": "KGVEyYoaRXgX"
   },
   "outputs": [],
   "source": [
    "import shutil, os\n",
    "from glob import glob\n",
    "\n",
    "output_path = '../people_counting_yolov8.mp4'  # Path to the local file you want to save\n",
    "drive_path = '/content/drive/MyDrive/Colab Notebooks/outputs/'  # target folder in Google Drive\n",
    "\n",
    "# If the target directory does not exist, create it\n",
    "os.makedirs(drive_path, exist_ok=True)\n",
    "# copy the file\n",
    "shutil.copy(output_path, drive_path)\n",
    "\n",
    "os.listdir(drive_path)"
   ]
  }
 ],
 "metadata": {
  "colab": {
   "authorship_tag": "ABX9TyMvEWKaSDEhO9tEyajJTN/W",
   "mount_file_id": "1EQZj67TRGPCo7NuP-Rm4rvy40_OYbTAR",
   "provenance": []
  },
  "kernelspec": {
   "display_name": "Python 3 (ipykernel)",
   "language": "python",
   "name": "python3"
  },
  "language_info": {
   "codemirror_mode": {
    "name": "ipython",
    "version": 3
   },
   "file_extension": ".py",
   "mimetype": "text/x-python",
   "name": "python",
   "nbconvert_exporter": "python",
   "pygments_lexer": "ipython3",
   "version": "3.11.5"
  }
 },
 "nbformat": 4,
 "nbformat_minor": 4
}
